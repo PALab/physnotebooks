{
 "cells": [
  {
   "cell_type": "markdown",
   "metadata": {
    "collapsed": true
   },
   "source": [
    "# Modelling the spread of a virus \n",
    "\n",
    "Around 1927, Kermack and McKendrick introduced a set of coupled ordinary first-order differential equations to model the spread of infectuous diseases. It only considers a population of N persons in three states. One is either S = Susceptible, I=infectious, or R = Recovered (i.e. immune, or deceased). The recovery rate is $\\gamma$ and the contact rate is $\\beta$:  \n",
    "$$ \n",
    "    \\frac {dS}{dt}=-\\frac {\\beta SI}{N} \\\\\n",
    "    \\frac {dI}{dt}=\\frac {\\beta SI}{N}-\\gamma I \\\\\n",
    "    \\frac {dR}{dt}=\\gamma I\n",
    "$$\n",
    "These three equations state from bottom to top: \n",
    "\n",
    "1. The rate of change in the number of recovered people $R$ is equal to the recovery rate $\\gamma$ times the number of infected people $I$.\n",
    "2. The rate of change in the numer of infected people $I$ is the difference between the number of people getting infected and the number of people who recover\n",
    "3. The rate of change in the number of susceptible people $S$ is proportional to the number of susceptible people available times the infection rate\n",
    "\n",
    "\n",
    "In python, this SIR model is easy to code, and doing so provides insights about the spreading of infectuous diseases in a population."
   ]
  },
  {
   "cell_type": "code",
   "execution_count": 1,
   "metadata": {},
   "outputs": [],
   "source": [
    "from scipy.integrate import solve_ivp\n",
    "import numpy as np\n",
    "import matplotlib.pyplot as plt\n",
    "%matplotlib notebook"
   ]
  },
  {
   "cell_type": "markdown",
   "metadata": {},
   "source": [
    "Defining constants:"
   ]
  },
  {
   "cell_type": "code",
   "execution_count": 6,
   "metadata": {},
   "outputs": [],
   "source": [
    "tspan = 160 # time span to follow the evolution of the population. The units are arbitrary, but let's call them \"days.\n",
    "N=100 # total population\n",
    "beta =0.2 # mean contact rate per unit time (day): how contagious the disease is.\n",
    "gamma =0.2 # mean recovery rate per unit time (day)\n",
    "I0=1 # infected people at the start"
   ]
  },
  {
   "cell_type": "markdown",
   "metadata": {},
   "source": [
    "A function that sets up all the right-hand sides of the ODEs in a vector $v$:"
   ]
  },
  {
   "cell_type": "code",
   "execution_count": 7,
   "metadata": {},
   "outputs": [],
   "source": [
    "def rhs(t, v): \n",
    "    return [-beta*v[0]*v[1]/N, beta*v[0]*v[1]/N-gamma*v[1], gamma*v[1]]"
   ]
  },
  {
   "cell_type": "markdown",
   "metadata": {},
   "source": [
    "This is where the magic happens: a python function solve_ivp to solve this [initial value problem](https://en.wikipedia.org/wiki/Initial_value_problem). You can read the docs of this function [here](https://docs.scipy.org/doc/scipy/reference/generated/scipy.integrate.solve_ivp.html)."
   ]
  },
  {
   "cell_type": "code",
   "execution_count": 8,
   "metadata": {},
   "outputs": [],
   "source": [
    "res = solve_ivp(rhs, (0, tspan), [N-I0, I0, 0],t_eval=np.linspace(0,tspan,100))"
   ]
  },
  {
   "cell_type": "markdown",
   "metadata": {},
   "source": [
    "Let's plot the three groups in the population, S,I, and R:"
   ]
  },
  {
   "cell_type": "code",
   "execution_count": 9,
   "metadata": {},
   "outputs": [
    {
     "data": {
      "image/png": "[encoded data removed]",
      "text/plain": [
       "<Figure size 432x288 with 1 Axes>"
      ]
     },
     "metadata": {
      "needs_background": "light"
     },
     "output_type": "display_data"
    }
   ],
   "source": [
    "plt.figure()\n",
    "plt.plot(res.t, res.y.T)\n",
    "plt.xlabel('Time (days)')\n",
    "plt.ylabel('Percentage of the population')\n",
    "plt.legend(['Susceptible','Infected','Recovered'])\n",
    "plt.title(f'Population with infection rate {beta} and recovery rate {gamma} per day')\n",
    "plt.show()"
   ]
  },
  {
   "cell_type": "markdown",
   "metadata": {},
   "source": [
    "You can see that early on, the number of infected grows exponentially.\n",
    "\n",
    "#### Herd Immunity and the basic reproduction number\n",
    "The moment when $\\beta/\\gamma <N/S$, then the number of infected will not grow, because then $dI/dt <0$. This means when the number of persons who are susceptible in the population drops below a certain number, there is \"herd immunity.\" In this example, herd immunity is reached when $S = N \\gamma/\\beta = 100*0.1/0.2 = 50$. In the original example above $\\beta = 0.2$ and $\\gamma =0.1$ at $t= 44$ days the number of infected $I$ starts to drop. \n",
    "\n",
    "Different modeling scenarios are often coined in terms of the Basic Reproduction number $R_0= \\beta/\\gamma$. This is the average number of times an infected person spreads the virus before recovering."
   ]
  },
  {
   "cell_type": "markdown",
   "metadata": {},
   "source": [
    "#### Buying time by flattening the curve\n",
    "If you can reduce the recovery time ($1/\\gamma$), and/or lower the infection rate $\\beta$, then the infection curve changes: The smaller $R_0$, the flatter the infections curve. Once $R_0<1$, the virus can be stopped all-together.\n",
    "\n",
    "In our example, the recovered population $R(t)$ is the sum of those who became immune, and those that perished. If a virus is lethal in 2\\% of the cases, $0.02*N$ will perish, unless a cure/vaccine is developed. Measures to slow down the spread (decrease $\\beta$) are important to allow as possible to develop a vaccine.  "
   ]
  },
  {
   "cell_type": "markdown",
   "metadata": {},
   "source": [
    "#### More advanced models\n",
    "More advanced models separate the suspectible and exposed people (SEIR), or consider a virus where immunity is only temporary, or can be passed on at birth, etc. Examples of these can be found [here](https://en.wikipedia.org/wiki/Compartmental_models_in_epidemiology)"
   ]
  },
  {
   "cell_type": "code",
   "execution_count": null,
   "metadata": {},
   "outputs": [],
   "source": []
  }
 ],
 "metadata": {
  "kernelspec": {
   "display_name": "Python 3",
   "language": "python",
   "name": "python3"
  },
  "language_info": {
   "codemirror_mode": {
    "name": "ipython",
    "version": 3
   },
   "file_extension": ".py",
   "mimetype": "text/x-python",
   "name": "python",
   "nbconvert_exporter": "python",
   "pygments_lexer": "ipython3",
   "version": "3.7.10"
  }
 },
 "nbformat": 4,
 "nbformat_minor": 2
}
