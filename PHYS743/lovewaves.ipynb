{
 "cells": [
  {
   "cell_type": "markdown",
   "metadata": {},
   "source": [
    "[](./SH_RT.png)"
   ]
  },
  {
   "cell_type": "markdown",
   "metadata": {},
   "source": [
    "### When SH plane waves go beyond critical\n",
    "Consider an SH plane wave (i.e., one with its polarization in- and out of your screen) in a medium with wavespeed $\\beta_1$ and shear modulus $\\mu_1$. If this plane wave arrives at an interface with a medium with $\\beta_2, \\mu_2$ at an incidence angle $j_1$, the angle of the transmitted plane wave follows Snell's Law. The situation is drawn here:\n",
    "![](SH_RT.png)"
   ]
  },
  {
   "cell_type": "markdown",
   "metadata": {},
   "source": [
    "### Love wave theory\n",
    "Now, if $\\beta_2>\\beta_1$, and the incidence angle is greater than the critical angle, the reflection is called \"total\" and transmission results in an evanescent wave. This means energy is not transmitted in depth, but trapped near the interface. The result is a guided wave we call a \"Love Wave\" in seismology. Love waves are not only guided surface waves, they also exhibit wave dispersion: their wavespeed in the top layer depends on frequency.\n",
    "\n",
    "The dispersion relation for Love waves is\n",
    "$$\n",
    "  \\tan{(k_xr_{\\beta_1}h)}= \n",
    "  \\frac{\\mu_2r_{\\beta_2}^*}{\\mu_1r_{\\beta_1}},\n",
    "$$\n",
    "where $r_{\\beta_2}^*=\\sqrt{1-(c_x/\\beta_2)^2}$ and $r_{\\beta_1}=\\sqrt{(c_x/\\beta_1)^2-1}$. The horizontal wavespeed $c_x$ is constant by virtue of the (welded) boundary conditions.\n",
    "\n",
    "### Modeling Love waves\n",
    "Let us model this dispersion relation for parameters that represent \"a typical\" Earth's crust."
   ]
  },
  {
   "cell_type": "code",
   "execution_count": 2,
   "metadata": {},
   "outputs": [],
   "source": [
    "import numpy as np\n",
    "import matplotlib.pyplot as plt\n",
    "#%matplotlib notebook # won't work in colab; comment out in that case.\n",
    "from scipy.optimize import fsolve"
   ]
  },
  {
   "cell_type": "markdown",
   "metadata": {},
   "source": [
    "The dispersion relation for Love waves in a layer over a half-space:"
   ]
  },
  {
   "cell_type": "code",
   "execution_count": 3,
   "metadata": {},
   "outputs": [],
   "source": [
    "def disp_rel(cx,omega,h,beta1,beta2,mu1,mu2):\n",
    "    eta = (h/cx)*np.sqrt((cx/beta1)**2-1)\n",
    "    lhs =  np.tan(omega*eta)\n",
    "    rhs = (mu2*np.sqrt(1-(cx/beta2)**2)/mu1)*(h/(cx*eta))\n",
    "    return lhs - rhs"
   ]
  },
  {
   "cell_type": "markdown",
   "metadata": {},
   "source": [
    "Typical crustal layer over the mantle half-space:"
   ]
  },
  {
   "cell_type": "code",
   "execution_count": 4,
   "metadata": {},
   "outputs": [],
   "source": [
    "beta1 = 3900\n",
    "beta2 = 4600\n",
    "h= 40000\n",
    "rho1=2800\n",
    "rho2=3300\n",
    "mu1 = rho1*(beta1**2)\n",
    "mu2 = rho2*(beta2**2)"
   ]
  },
  {
   "cell_type": "code",
   "execution_count": 5,
   "metadata": {},
   "outputs": [],
   "source": [
    "period = np.logspace(0.05,1,num=200)\n",
    "omegas = 2*np.pi/period"
   ]
  },
  {
   "cell_type": "markdown",
   "metadata": {},
   "source": [
    "Define starting values for $c_x$, and a matrix with zeros to be filled:"
   ]
  },
  {
   "cell_type": "code",
   "execution_count": 6,
   "metadata": {},
   "outputs": [],
   "source": [
    "cx_start = np.array([3950,4100,4200,4300])\n",
    "cx = np.zeros((len(period),len(cx_start)))"
   ]
  },
  {
   "cell_type": "markdown",
   "metadata": {},
   "source": [
    "Now, we search with the fsolve function to find the roots of the dispersion relation for Love waves, for each frequency. These tell us the possible love-wave modes in the crust: "
   ]
  },
  {
   "cell_type": "code",
   "execution_count": 7,
   "metadata": {},
   "outputs": [
    {
     "name": "stderr",
     "output_type": "stream",
     "text": [
      "/home/kvan637/miniconda3/lib/python3.7/site-packages/ipykernel_launcher.py:4: RuntimeWarning: invalid value encountered in sqrt\n",
      "  after removing the cwd from sys.path.\n",
      "/home/kvan637/miniconda3/lib/python3.7/site-packages/ipykernel_launcher.py:2: RuntimeWarning: invalid value encountered in sqrt\n",
      "  \n",
      "/home/kvan637/miniconda3/lib/python3.7/site-packages/scipy/optimize/minpack.py:175: RuntimeWarning: The iteration is not making good progress, as measured by the \n",
      "  improvement from the last ten iterations.\n",
      "  warnings.warn(msg, RuntimeWarning)\n"
     ]
    }
   ],
   "source": [
    "i=0\n",
    "for omega in omegas:\n",
    "    # solve for n roots of cx (modes) for each frequency omega :\n",
    "    cxomega = fsolve(disp_rel,cx_start,args=(omega,h,beta1,beta2,mu1,mu2))\n",
    "    cx[i,:] = cxomega\n",
    "    i += 1"
   ]
  },
  {
   "cell_type": "code",
   "execution_count": 8,
   "metadata": {},
   "outputs": [
    {
     "data": {
      "image/png": "[encoded data removed]",
      "text/plain": [
       "<Figure size 432x288 with 1 Axes>"
      ]
     },
     "metadata": {
      "needs_background": "light"
     },
     "output_type": "display_data"
    }
   ],
   "source": [
    "plt.figure()\n",
    "plt.plot(period,cx,'x',color='blue')\n",
    "plt.xlabel('Period (s)')\n",
    "plt.ylabel('Wave speed (m/s)')\n",
    "plt.show()"
   ]
  },
  {
   "cell_type": "markdown",
   "metadata": {},
   "source": [
    "As you can see, at shorter periods there are more love wave modes that \"fit\" in the crust. As we go to longer wavelengths, we are down to only two modes for Love waves up to 10s period.\n",
    "\n",
    "The root finding is not always working; this gives rise to non-convergence and outliers in $c(\\omega)$.\n",
    "\n",
    "### Homework\n",
    "Try extending the period to more than 10s. How would you adjust your strategy on the number of roots you expect?"
   ]
  },
  {
   "cell_type": "code",
   "execution_count": null,
   "metadata": {},
   "outputs": [],
   "source": []
  }
 ],
 "metadata": {
  "kernelspec": {
   "display_name": "Python 3 (ipykernel)",
   "language": "python",
   "name": "python3"
  },
  "language_info": {
   "codemirror_mode": {
    "name": "ipython",
    "version": 3
   },
   "file_extension": ".py",
   "mimetype": "text/x-python",
   "name": "python",
   "nbconvert_exporter": "python",
   "pygments_lexer": "ipython3",
   "version": "3.7.13"
  }
 },
 "nbformat": 4,
 "nbformat_minor": 2
}
