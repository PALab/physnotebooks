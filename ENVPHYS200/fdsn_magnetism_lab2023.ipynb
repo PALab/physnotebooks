{
 "cells": [
  {
   "cell_type": "markdown",
   "id": "9bb3f1a2-af1c-4200-9d8c-de80919a563d",
   "metadata": {
    "id": "9bb3f1a2-af1c-4200-9d8c-de80919a563d"
   },
   "source": [
    "# ENVPHYS 200 - Magnetic data lab\n",
    "\n",
    "**Objective:** In this lab you will read, plot and filter magnetic data from a station in a volcano in Alaska.\n",
    "\n",
    "https://www.fdsn.org/about/ explains what is FDSN (International Federation of Digital Seismograph Networks). Originally designed for seismic networks, you can get seismic data from around the globe. For example, IRIS is a consortium with an FDSN server. We will first install **obspy** which allows us to retrieve data from the web and work with it.\n",
    "\n",
    "Note: this can take a few minutes. Run the cell a second time to make sure everything installed. The second time is faster."
   ]
  },
  {
   "cell_type": "code",
   "execution_count": null,
   "id": "7b520cf4-7758-4b82-9878-2b6796da71d1",
   "metadata": {
    "id": "7b520cf4-7758-4b82-9878-2b6796da71d1",
    "tags": []
   },
   "outputs": [],
   "source": [
    "!pip install obspy\n",
    "!pip install cartopy # to add plotting of maps in some of the obspy modules"
   ]
  },
  {
   "cell_type": "markdown",
   "id": "6a3cb24b-1933-4305-a301-46a9df052bd5",
   "metadata": {
    "id": "6a3cb24b-1933-4305-a301-46a9df052bd5"
   },
   "source": [
    "Note there is mention of obspy. This is the software that helps you download, process and display the time series from FDSN servers. Have a look here to read about obspy: https://docs.obspy.org/tutorial/index.html.\n",
    "\n",
    "FDSN provides you with a time series. The metadata tells you what the time series means. You can convert to the actual units of what is recorded, for example, with the metadata. \n",
    "\n",
    "A seismogram is measured in metres of ground displacement.\n",
    "\n",
    "To give you an important example of the modules in obspy, read the UTCDateTime page of the tutorial, because we are going to use it next to look at a seismogram:"
   ]
  },
  {
   "cell_type": "code",
   "execution_count": null,
   "id": "12ea40fe-d4f9-4f96-8100-17055f9fa4bc",
   "metadata": {
    "id": "12ea40fe-d4f9-4f96-8100-17055f9fa4bc",
    "tags": []
   },
   "outputs": [],
   "source": [
    "from obspy.clients.fdsn import Client\n",
    "from obspy import UTCDateTime\n",
    "\n",
    "client = Client(\"IRIS\") # this is the (fdsn) server where we get the data\n",
    "\n",
    "t = UTCDateTime(\"2010-02-27T06:45:00.000\")\n",
    "st = client.get_waveforms(network=\"IU\", station=\"ANMO\", location=\"00\", channel=\"LHZ\", starttime=t, endtime=t + 60 * 60) # time is in seconds.\n",
    "st.plot(); ## The semi-colon is a trick to avoid a bug of getting two graphs plotting the same data"
   ]
  },
  {
   "cell_type": "markdown",
   "id": "620b09e1-032c-44db-905e-c62825fed34a",
   "metadata": {
    "id": "620b09e1-032c-44db-905e-c62825fed34a"
   },
   "source": [
    "To understand what is happening here, you need to read:\n",
    "\n",
    "https://docs.obspy.org/packages/autogen/obspy.clients.fdsn.client.Client.get_waveforms.html\n",
    "\n",
    "\n",
    "In particular you need to understand what the letters in **channel** mean, look at  https://ds.iris.edu/ds/nodes/dmc/data/formats/seed-channel-naming/\n",
    "\n",
    "## Question 1\n",
    "\n",
    "What data is in a channel called \"MKD\"?\n"
   ]
  },
  {
   "cell_type": "markdown",
   "id": "bb22cd7d-9d61-4019-9d07-9525ce848b5e",
   "metadata": {
    "id": "bb22cd7d-9d61-4019-9d07-9525ce848b5e"
   },
   "source": [
    "FDSN servers around the world host all kinds of data. For example, there is a network of magnetometers led by Columbia University, with the data hosted on the IRIS server:\n",
    "https://avert.ldeo.columbia.edu/magnetometry/ has a lot of info on magnetometry. In the following cell we download an inventory of the network that contains magnetometers.\n"
   ]
  },
  {
   "cell_type": "code",
   "execution_count": null,
   "id": "e8d688ec-c379-416c-94a9-8ddec85958c4",
   "metadata": {
    "tags": []
   },
   "outputs": [],
   "source": [
    "inv = client.get_stations(network='AV',channel='LFZ')\n",
    "print(inv)\n",
    "inv.plot(projection='local');"
   ]
  },
  {
   "cell_type": "markdown",
   "id": "iUiGeI1HAlAx",
   "metadata": {
    "id": "iUiGeI1HAlAx"
   },
   "source": [
    "Now that you understand reading FDSN data, **Write a code below that will read/plot  data from the IRIS repository from a magnetometer station**.\n",
    "Adjust the code to download and plot a seismogram to plot 1 month of magnetometer data from station CLNE from 2022. "
   ]
  },
  {
   "cell_type": "code",
   "execution_count": null,
   "id": "fedc794b-a0b3-487c-807a-ea3dfe3f73ab",
   "metadata": {
    "id": "fedc794b-a0b3-487c-807a-ea3dfe3f73ab",
    "tags": []
   },
   "outputs": [],
   "source": [
    "## write your code here\n"
   ]
  },
  {
   "cell_type": "markdown",
   "id": "ebb87067-7f46-4cdf-9d94-ac6737467a88",
   "metadata": {},
   "source": [
    "If all is well, you have a plot of a time series associated with the magnetometer CLNE. However, the y-axis is in arbitrary units. To turn the y-axis in to the SI unit of magnetic field strength, rewrite your code that download and plots the magnetic data with two additions:\n",
    "\n",
    "1. between the brackets in the get_waveforms() command, add another argument: attach_response=True\n",
    "2. after getting your stream st that way, write a new line: st.remove_sensitivity()\n",
    "3. plot as usual, but notice the different values on the y-axis. These are now in the SI unit. \n",
    "\n",
    "## Question 2 \n",
    "What is the unit for magnetic field strength on the y-axis? Do the values match what you learned in class this week? "
   ]
  },
  {
   "cell_type": "markdown",
   "id": "HsRIW4Xt0n1Y",
   "metadata": {
    "id": "HsRIW4Xt0n1Y"
   },
   "source": [
    "## Filtering\n",
    "\n",
    "Apply a **lowpass** filter on the series with frequencies  $<$ 1e-5 Hz, and plot. In the code below you can see how you filter out the DC component in the data first. Read the obspy documentation\n",
    "\n",
    "https://docs.obspy.org/tutorial/code_snippets/filtering_seismograms.html\n",
    "\n",
    "on how to filter.\n",
    "\n",
    "The examples at the end are very useful."
   ]
  },
  {
   "cell_type": "code",
   "execution_count": null,
   "id": "84bbf9d1-c406-4399-a4b3-35daa20fb520",
   "metadata": {
    "id": "84bbf9d1-c406-4399-a4b3-35daa20fb520",
    "tags": []
   },
   "outputs": [],
   "source": [
    "stfilt = st.copy() # make a copy of the original data so that you can use othe filters on the same dataset, later\n",
    "stfilt.detrend() # removes the DC noise component in your data; this is needed to filter\n",
    "\n",
    "## Write your filter below\n"
   ]
  },
  {
   "cell_type": "markdown",
   "id": "63407ee1-9b12-4244-af34-e3233a7193b3",
   "metadata": {
    "id": "63407ee1-9b12-4244-af34-e3233a7193b3"
   },
   "source": [
    "## QUESTION 3\n",
    "\n",
    "What is producing trends in the magnetic data with frequencies on the order of 0.00001 Hz? Explain in the markdown cell below:\n"
   ]
  },
  {
   "cell_type": "markdown",
   "id": "50e13e4f-83da-41d3-a008-fdd466274073",
   "metadata": {
    "id": "3b271508-00bf-4ea2-a369-9349601f5a18",
    "tags": []
   },
   "source": [
    "\n"
   ]
  },
  {
   "cell_type": "markdown",
   "id": "7340f357-c73e-4a04-b203-1f9b8f805347",
   "metadata": {
    "id": "7340f357-c73e-4a04-b203-1f9b8f805347"
   },
   "source": [
    "## QUESTION 4\n",
    "\n",
    "Filter and plot the Earth's magentic data below 1e-6 Hz. \n"
   ]
  },
  {
   "cell_type": "code",
   "execution_count": null,
   "id": "7776a7dd-9474-450d-bace-2929c45c533d",
   "metadata": {},
   "outputs": [],
   "source": [
    "stfilt2 = st.copy() # make a copy of the original data so that you can use othe filters on the same dataset, later\n",
    "stfilt2.detrend() # removes the DC noise component in your data; this is needed to filter\n",
    "\n",
    "## Write your filter below:\n"
   ]
  },
  {
   "cell_type": "markdown",
   "id": "euO0S21YiZyx",
   "metadata": {
    "id": "euO0S21YiZyx"
   },
   "source": [
    "What is producing this low frequency temporal change in the magnetic field?\n",
    "\n",
    "## BONUS QUESTION\n",
    "\n",
    "Can you plot FDSN data for a buoy that measures the depth of the water in the Waitematā harbour? What is causing the variations in these data?\n",
    "\n",
    "(If you take ENVPHYS 300, you will use these data)\n",
    "\n",
    "*Hint*: Much of New Zealand's environmental data is managed by GEONET. Search for the buoy on their website, find the network and the channel, then use what you learned today to download and plot the data."
   ]
  },
  {
   "cell_type": "code",
   "execution_count": null,
   "id": "49c23e4d-29f1-4629-926e-5788e0e34ee9",
   "metadata": {},
   "outputs": [],
   "source": [
    "# insert your code here"
   ]
  }
 ],
 "metadata": {
  "colab": {
   "provenance": []
  },
  "kernelspec": {
   "display_name": "Python 3 (ipykernel)",
   "language": "python",
   "name": "python3"
  },
  "language_info": {
   "codemirror_mode": {
    "name": "ipython",
    "version": 3
   },
   "file_extension": ".py",
   "mimetype": "text/x-python",
   "name": "python",
   "nbconvert_exporter": "python",
   "pygments_lexer": "ipython3",
   "version": "3.10.13"
  }
 },
 "nbformat": 4,
 "nbformat_minor": 5
}
