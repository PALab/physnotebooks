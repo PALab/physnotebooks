{
 "cells": [
  {
   "cell_type": "markdown",
   "id": "d8204eb8-e8ae-4577-b857-d5b56c5b7116",
   "metadata": {},
   "source": [
    "### Lab 3: Geomagnetism [maximum 70 pts]\n",
    "\n",
    "This is a lab about the magnetic field on Earth. In this notebook you will use python to look at approximations of the geomagnetic field, download magnetic field data, and interpret the results. In class we learned about that the Earth's magnetic field is predominantly that of a dipole. We didn't go into the details but the magnetic field strength as a function of the magnetic latitude $\\lambda_m$ is $$|\\vec{\\bf B}| = \\frac{\\mu_0 m}{4\\pi r^3}\\sqrt{1+3\\sin^2(\\lambda_m)},$$ where $m=8\\times10^{22}$ Am$^2$ is the magnetic moment, a measure of the strength of the dipole, $\\mu_0=4\\pi*10^{−7}$ H/m is the magnetic permeability in vacuum, and $r=6371000$ m is the approximate radius of the Earth. "
   ]
  },
  {
   "cell_type": "markdown",
   "id": "07fb59d2-3095-4905-80f3-9d5d10236666",
   "metadata": {},
   "source": [
    "#### Task 1 [10 pts]\n",
    "Use numpy and matplotlib to plot the magnetic field strength (in nano-Tesla!) as a function of magnetic latitude, in the cell below. Please make sure you use labels and units on your axes."
   ]
  },
  {
   "cell_type": "code",
   "execution_count": null,
   "id": "045d54c1-bb73-49e3-99b4-32eb158fddd4",
   "metadata": {},
   "outputs": [],
   "source": [
    "# write your code below this line:"
   ]
  },
  {
   "cell_type": "markdown",
   "id": "a0dd3f90-9e22-4cd1-bc8e-bd41d1b9dea8",
   "metadata": {},
   "source": [
    "Next, we'll download data from magnetometers in the field to see how accurate the approximation of a magnetic dipole really is. We will download data the same way as last week: from an FDSN server. The tool to access FDSN data is the module `Obspy.` As `Obspy` is not a standard module in colab, we install it ourselves:"
   ]
  },
  {
   "cell_type": "code",
   "execution_count": null,
   "id": "142734dc-b1c1-4790-abf8-bb73f7f98492",
   "metadata": {},
   "outputs": [],
   "source": [
    "!pip install obspy\n",
    "!pip install cartopy # only for the inventory plot"
   ]
  },
  {
   "cell_type": "markdown",
   "id": "0de17d6b-0c0d-46b5-b6b3-5c21ec7692ba",
   "metadata": {},
   "source": [
    "Last week, we looked at data from the FDSN server IRIS, hosted in the USA. This week, we'll download data from a New Zealand FDSN server called \"GEONET.\" Geonet is also the name of the national network of geophysical sensors, run by GNS Science in Wellington. "
   ]
  },
  {
   "cell_type": "code",
   "execution_count": null,
   "id": "8710bb4d-da48-4812-94d8-a3a09809071b",
   "metadata": {},
   "outputs": [],
   "source": [
    "from obspy.clients.fdsn import Client #  The \"client\" is the host (server) of data \n",
    "client = Client(\"GEONET\") # IRIS is a data server in the USA with heaps of data from around the world"
   ]
  },
  {
   "cell_type": "markdown",
   "id": "8427fad7-2404-45bd-b986-548f84cad92b",
   "metadata": {},
   "source": [
    "We also need a tool to handle time. Because time is kept in terms of years, days, etc, we convert time to a number that the computer can understand. This method in `Obspy` that can do that is called `UTCDateTime`:"
   ]
  },
  {
   "cell_type": "code",
   "execution_count": null,
   "id": "b0c2f16b-1f96-4a2a-8d68-2f3defcce2e0",
   "metadata": {},
   "outputs": [],
   "source": [
    "from obspy import UTCDateTime # This is a module in obspy to deal with time and date"
   ]
  },
  {
   "cell_type": "markdown",
   "id": "c7e68eb5-4070-4d16-9706-7466ab48fe92",
   "metadata": {},
   "source": [
    "Next, we pick start- and end-times for the data we are going to analyze:"
   ]
  },
  {
   "cell_type": "code",
   "execution_count": null,
   "id": "f500401e-e056-4be9-87d4-12a721a630f4",
   "metadata": {},
   "outputs": [],
   "source": [
    "starttime = UTCDateTime(\"2024-01-12T00:00:00\")\n",
    "endtime = UTCDateTime(\"2024-01-17T00:00:00\")"
   ]
  },
  {
   "cell_type": "markdown",
   "id": "b9e2b40e-bbef-4097-b201-7de407b2b39e",
   "metadata": {},
   "source": [
    "We could go the [Geonet website](https://www.geonet.org.nz/) and use the `Data Discovery` tab to find out what stations are available. There are even manual tools to download data. We will use `Obspy` for these tasks. Stations with channels \"LFF\" record the total magnetic field strength:"
   ]
  },
  {
   "cell_type": "code",
   "execution_count": 1,
   "id": "1f69c569-a199-4704-a3b1-4542c7b39d39",
   "metadata": {},
   "outputs": [],
   "source": [
    "channel='LFF'"
   ]
  },
  {
   "cell_type": "markdown",
   "id": "75f69aa2-d534-4479-8b32-a135d1c573ca",
   "metadata": {},
   "source": [
    "First, we make an inventory of all stations that have an \"LFF\" channel. By setting station=\"***\", you get all stations with with a channel='LFF'  "
   ]
  },
  {
   "cell_type": "code",
   "execution_count": null,
   "id": "65a82ef4-6781-4682-a533-37f8858e79ce",
   "metadata": {},
   "outputs": [],
   "source": [
    "inventory = client.get_stations(network=\"NZ\", station=\"***\",channel=channel,starttime=starttime, endtime=endtime)"
   ]
  },
  {
   "cell_type": "markdown",
   "id": "60132acd-cb16-4d7a-bbbf-e34cd947573d",
   "metadata": {},
   "source": [
    "the inventory object even has a plot function, to show you roughly where the stations are:"
   ]
  },
  {
   "cell_type": "code",
   "execution_count": null,
   "id": "4d1df6f2-5842-4e02-88aa-d24e6adc287f",
   "metadata": {},
   "outputs": [],
   "source": [
    "inventory.plot(); # the semicolon prevents a second plot"
   ]
  },
  {
   "cell_type": "markdown",
   "id": "56822a70-033c-4eea-9dab-b75883c6d046",
   "metadata": {},
   "source": [
    "To access more info about each station, we can dig deeper into the inventory:"
   ]
  },
  {
   "cell_type": "code",
   "execution_count": null,
   "id": "6b507a0c-9e4b-4e34-b3f5-5ee7ff64fcdf",
   "metadata": {},
   "outputs": [],
   "source": [
    "print(inventory)"
   ]
  },
  {
   "cell_type": "markdown",
   "id": "d1b88162-b5cc-40a7-af8e-b253e5bbee0c",
   "metadata": {},
   "source": [
    "There is 1 Network so let's look at the network info:"
   ]
  },
  {
   "cell_type": "code",
   "execution_count": null,
   "id": "826efda4-e1c2-474d-b915-ae06bf105bbe",
   "metadata": {},
   "outputs": [],
   "source": [
    "print(inventory[0])"
   ]
  },
  {
   "cell_type": "markdown",
   "id": "720e0e4a-18fc-4443-9f73-83a98fa1f278",
   "metadata": {},
   "source": [
    "The network NZ has 3 magnetometer stations. To learn more about the first one, we can print:"
   ]
  },
  {
   "cell_type": "code",
   "execution_count": null,
   "id": "07bcb779-d91f-4840-9521-7126dee7daa3",
   "metadata": {},
   "outputs": [],
   "source": [
    "print(inventory[0].stations[2])"
   ]
  },
  {
   "cell_type": "markdown",
   "id": "2b4b37e1-dab0-45b7-8fc9-9e80e32114d9",
   "metadata": {},
   "source": [
    "Note it contains detailed positioning information that we'll use later."
   ]
  },
  {
   "cell_type": "markdown",
   "id": "9f4828b5-d0e5-44f6-b0d8-b389893e2f43",
   "metadata": {},
   "source": [
    "#### Task 2 [10 pts]\n",
    "Just like last week, use the `obspy` function `get_waveforms` to download data for each of the three stations. HINT: if you decide to download a stream of data for each station, make sure to give the stream unique names (st1, st2 and st3, for example). However, you can get all traces with a channel='LFF', by using \"\\*\\*\\*\" for the station variable. HINT2: use \"\\*\\*\" for the location variable to search all locations. "
   ]
  },
  {
   "cell_type": "code",
   "execution_count": null,
   "id": "1b3f864a-e1df-45df-816f-ae8d1d5060df",
   "metadata": {},
   "outputs": [],
   "source": [
    "# write your code below this line:"
   ]
  },
  {
   "cell_type": "markdown",
   "id": "ada535c1-2dd8-40cf-b3c1-334033c72042",
   "metadata": {},
   "source": [
    "#### Task 3 [10 pts]\n",
    "Convert the raw data in your stream into nano-Teslas with the `remove_sensitivity` function, we introduced last week. Then, plot the data with the plote(equal_scale=False) function of the stream. End the plot command line with a semicolon to prevent two plots from showing. "
   ]
  },
  {
   "cell_type": "code",
   "execution_count": null,
   "id": "b372d209-805d-4f70-b737-60e66ba1fa85",
   "metadata": {},
   "outputs": [],
   "source": [
    "# write your code below this line:"
   ]
  },
  {
   "cell_type": "markdown",
   "id": "e2f08201-b6b5-4b4a-a975-83eb5a1ddd07",
   "metadata": {},
   "source": [
    "#### Task 4 [10 pts]\n",
    "What causes the regular and irregular fluctuations in the magnetic data for each station? Guess the average value of each station. "
   ]
  },
  {
   "cell_type": "markdown",
   "id": "a39062ac-b45d-4a4b-a9bd-5ba8bb62f99b",
   "metadata": {},
   "source": [
    "write your answer in this box."
   ]
  },
  {
   "cell_type": "markdown",
   "id": "7330615c-43cf-4619-9395-d66b6db51e23",
   "metadata": {},
   "source": [
    "#### Task 5 [10 pts]\n",
    "Plot the average value of the total magnetic field at each geographic latitude as points in a new copy of the plot of task 1, below. Use your station inventory to find the latitude of each station. Label your points in the plot, or use a legend. If you find that the points do not agree with the curve of the dipole, do not worry. We are going to explain why that is in the last task."
   ]
  },
  {
   "cell_type": "code",
   "execution_count": null,
   "id": "8f28b346-5259-46cf-bb4c-d0a6f99acbe6",
   "metadata": {},
   "outputs": [],
   "source": [
    "# write your code below this line:"
   ]
  },
  {
   "attachments": {},
   "cell_type": "markdown",
   "id": "f96519e6-f8a5-4ac4-87a1-e1ac826ff932",
   "metadata": {},
   "source": [
    "The points on your graph do not lie on the curve for a dipole. This seems strange, because we argued the magnetic field of the Earth approximates that of a dipole buried deep in the Earth, remember? I hope you also remember that the orientation of the dipole is not aligned with the rotational axis of the Earth. In other words, the magnetic North- and Southpole are not the same as the geographic North- and Southpole.\n",
    "\n",
    "#### Task 6 [10 pts]\n",
    "Find online the angle between the magnetic axis and the rotational axis of the Earth.\n",
    "\n",
    "Use this angle to redo the plot of Task 5 but adjust your x-axis to convert the geographic latitude of your 3 stations to their magnetic latitude. If you do it right, the point for each station should be much closer to the curve for the dipole."
   ]
  },
  {
   "cell_type": "markdown",
   "id": "01ce7ff5-b58d-498e-89c2-df2047a1ba2c",
   "metadata": {},
   "source": [
    "write the angle here: "
   ]
  },
  {
   "cell_type": "code",
   "execution_count": null,
   "id": "3b96de94-0a27-4f63-9146-c4f44bf74433",
   "metadata": {},
   "outputs": [],
   "source": [
    "# write your code below this line:"
   ]
  },
  {
   "cell_type": "markdown",
   "id": "91a99bc6-c938-4375-be72-e8c7f46579d8",
   "metadata": {},
   "source": [
    "#### Task 7 [10 pts]\n",
    "It is possible that the remaining difference between theory (dipole) and data is due to the fact that you estimated the mean of the data at each station. \n",
    "\n",
    "First, run the command `st.merge()` to clean up your stream. (I assume you called your stream st. If not, run the merge() command on the name of your stream.)\n",
    "\n",
    "Then, access the first trace in the stream. The actual \"digits\" are in the \"data\". Access the digits of each trace and compute the mean, either with numpy or with a helper function of the trace. You have not done this before, but the way to do this should be easily found with a google search. Use the computed data to remake your plot of Task 6. (If you could not do Task 6, just redo Task 5 with these computed mean values)."
   ]
  },
  {
   "cell_type": "code",
   "execution_count": null,
   "id": "727bb470-a482-4636-8f67-0e31423277e4",
   "metadata": {},
   "outputs": [],
   "source": [
    "# write your code below this line:"
   ]
  }
 ],
 "metadata": {
  "kernelspec": {
   "display_name": "Python 3 (ipykernel)",
   "language": "python",
   "name": "python3"
  },
  "language_info": {
   "codemirror_mode": {
    "name": "ipython",
    "version": 3
   },
   "file_extension": ".py",
   "mimetype": "text/x-python",
   "name": "python",
   "nbconvert_exporter": "python",
   "pygments_lexer": "ipython3",
   "version": "3.10.18"
  }
 },
 "nbformat": 4,
 "nbformat_minor": 5
}
