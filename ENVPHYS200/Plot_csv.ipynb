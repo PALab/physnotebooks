{
 "cells": [
  {
   "cell_type": "markdown",
   "id": "826a9c77",
   "metadata": {
    "id": "826a9c77"
   },
   "source": [
    "# **PLOTTING THE SHAPE OF A SUBDUCTING SLAB**\n",
    "\n",
    "---\n",
    "\n",
    "This code shows you how to read a csv file and plot the data. You need to do some modifications of the plot so that the trenches of your subducting boundaries start at zero. \n",
    "\n",
    "(Remember to load your csv file into colabs)\n",
    "\n",
    "Save our plot as a pdf and so that you can add it to your lab report.\n",
    "\n",
    "\n"
   ]
  },
  {
   "cell_type": "markdown",
   "id": "V0B7Z1sVZg4o",
   "metadata": {
    "id": "V0B7Z1sVZg4o",
    "tags": []
   },
   "source": [
    "### Reading your data\n",
    "\n",
    "First you load the packages needed for this exercise: pandas, pyplot and numpy. Then we show you how to read a csv file."
   ]
  },
  {
   "cell_type": "code",
   "execution_count": null,
   "id": "5e94dcbb",
   "metadata": {
    "id": "5e94dcbb"
   },
   "outputs": [],
   "source": [
    "import pandas as pd \n",
    "import matplotlib.pyplot as plt\n",
    "import numpy as np\n",
    "\n",
    "# The line below assumes you have the file \"marianas.csv\" uploaded. If you do not, you can upload your csv file in the left panel with the up-arrow.\n",
    "# When you restart this notebook in the future, you will need to upload your csv file again. Colab does not remember your csv file!\n",
    "yourcsvfile = pd.read_csv('marianas.csv') # you can name this something more informative when you work with your own data set.\n",
    "\n",
    "yourcsvfile # this will display your data in 'yourcsvfile'"
   ]
  },
  {
   "cell_type": "markdown",
   "id": "6381b5b4",
   "metadata": {
    "id": "6381b5b4"
   },
   "source": [
    "In the code above, the variable *file* has all your data in it. The data come in rows and columns. Each 'column' has a name, in this case 'x' and 'y'.\n",
    "\n",
    "Remember that the names of the columns are metadata of *file*. So to work with the first column you type:\n",
    "\n",
    "yourcsvfile['x']\n",
    "\n",
    "try it in the empty code cell below:"
   ]
  },
  {
   "cell_type": "code",
   "execution_count": null,
   "id": "5ab120c6-847f-485c-b10c-4404ea7dd319",
   "metadata": {},
   "outputs": [],
   "source": []
  },
  {
   "cell_type": "markdown",
   "id": "a34d22c2-bc46-489f-8993-f16bcc7c381a",
   "metadata": {
    "id": "ckGVNDeLXlrY"
   },
   "source": [
    "As discussed in class, you need to redo the x-axis so that you can compare different subduction-zone cross-sections.\n",
    "Plot these and save your figure. Look up how the savefig() method works in matplotlib."
   ]
  },
  {
   "cell_type": "code",
   "execution_count": null,
   "id": "8454adae-bb0f-48a3-8855-154239c9fd6f",
   "metadata": {},
   "outputs": [],
   "source": []
  }
 ],
 "metadata": {
  "colab": {
   "collapsed_sections": [
    "826a9c77"
   ],
   "provenance": []
  },
  "kernelspec": {
   "display_name": "Python 3 (ipykernel)",
   "language": "python",
   "name": "python3"
  },
  "language_info": {
   "codemirror_mode": {
    "name": "ipython",
    "version": 3
   },
   "file_extension": ".py",
   "mimetype": "text/x-python",
   "name": "python",
   "nbconvert_exporter": "python",
   "pygments_lexer": "ipython3",
   "version": "3.10.13"
  }
 },
 "nbformat": 4,
 "nbformat_minor": 5
}
