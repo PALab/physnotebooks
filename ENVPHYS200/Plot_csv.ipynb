{
 "cells": [
  {
   "cell_type": "markdown",
   "id": "826a9c77",
   "metadata": {
    "id": "826a9c77"
   },
   "source": [
    "# **PLOTTING THE SHAPE OF A SUBDUCTING SLAB**\n",
    "\n",
    "---\n",
    "\n",
    "This code shows you how to read a csv file and plot the data. You need to do some modifications of the plot so that the trenches of your subducting boundaries start at zero. \n",
    "\n",
    "(Remember to load your cvs file into colabs)\n",
    "\n",
    "Save our plot as a pdf and so that you can add it to your lab report.\n",
    "\n",
    "\n"
   ]
  },
  {
   "cell_type": "markdown",
   "id": "V0B7Z1sVZg4o",
   "metadata": {
    "id": "V0B7Z1sVZg4o"
   },
   "source": [
    "### Reading your data"
   ]
  },
  {
   "cell_type": "code",
   "execution_count": 3,
   "id": "5e94dcbb",
   "metadata": {
    "id": "5e94dcbb"
   },
   "outputs": [
    {
     "data": {
      "text/html": [
       "<div>\n",
       "<style scoped>\n",
       "    .dataframe tbody tr th:only-of-type {\n",
       "        vertical-align: middle;\n",
       "    }\n",
       "\n",
       "    .dataframe tbody tr th {\n",
       "        vertical-align: top;\n",
       "    }\n",
       "\n",
       "    .dataframe thead th {\n",
       "        text-align: right;\n",
       "    }\n",
       "</style>\n",
       "<table border=\"1\" class=\"dataframe\">\n",
       "  <thead>\n",
       "    <tr style=\"text-align: right;\">\n",
       "      <th></th>\n",
       "      <th>x</th>\n",
       "      <th>y</th>\n",
       "    </tr>\n",
       "  </thead>\n",
       "  <tbody>\n",
       "    <tr>\n",
       "      <th>0</th>\n",
       "      <td>547.527554</td>\n",
       "      <td>12.991725</td>\n",
       "    </tr>\n",
       "    <tr>\n",
       "      <th>1</th>\n",
       "      <td>510.930850</td>\n",
       "      <td>115.989185</td>\n",
       "    </tr>\n",
       "    <tr>\n",
       "      <th>2</th>\n",
       "      <td>455.887381</td>\n",
       "      <td>170.765107</td>\n",
       "    </tr>\n",
       "    <tr>\n",
       "      <th>3</th>\n",
       "      <td>421.962097</td>\n",
       "      <td>278.771989</td>\n",
       "    </tr>\n",
       "    <tr>\n",
       "      <th>4</th>\n",
       "      <td>397.465352</td>\n",
       "      <td>355.271012</td>\n",
       "    </tr>\n",
       "    <tr>\n",
       "      <th>5</th>\n",
       "      <td>369.629333</td>\n",
       "      <td>460.398647</td>\n",
       "    </tr>\n",
       "    <tr>\n",
       "      <th>6</th>\n",
       "      <td>336.913172</td>\n",
       "      <td>522.735519</td>\n",
       "    </tr>\n",
       "    <tr>\n",
       "      <th>7</th>\n",
       "      <td>316.724746</td>\n",
       "      <td>604.407823</td>\n",
       "    </tr>\n",
       "    <tr>\n",
       "      <th>8</th>\n",
       "      <td>288.076825</td>\n",
       "      <td>811.315675</td>\n",
       "    </tr>\n",
       "    <tr>\n",
       "      <th>9</th>\n",
       "      <td>260.149140</td>\n",
       "      <td>871.545781</td>\n",
       "    </tr>\n",
       "  </tbody>\n",
       "</table>\n",
       "</div>"
      ],
      "text/plain": [
       "            x           y\n",
       "0  547.527554   12.991725\n",
       "1  510.930850  115.989185\n",
       "2  455.887381  170.765107\n",
       "3  421.962097  278.771989\n",
       "4  397.465352  355.271012\n",
       "5  369.629333  460.398647\n",
       "6  336.913172  522.735519\n",
       "7  316.724746  604.407823\n",
       "8  288.076825  811.315675\n",
       "9  260.149140  871.545781"
      ]
     },
     "execution_count": 3,
     "metadata": {},
     "output_type": "execute_result"
    }
   ],
   "source": [
    "import pandas as pd \n",
    "import matplotlib.pyplot as plt\n",
    "import numpy as np\n",
    "\n",
    "# The line below assumes you have the file \"marianas.csv\" uploaded. If you do not, you can upload your csv file in the left panel with the up-arrow.\n",
    "# When you restart this notebook in the future, you will need to upload your csv file again. Colab does not remember your csv file!\n",
    "file = pd.read_csv('marianas.csv')\n",
    "\n",
    "file # this will display your data in 'file'"
   ]
  },
  {
   "cell_type": "markdown",
   "id": "6381b5b4",
   "metadata": {
    "id": "6381b5b4"
   },
   "source": [
    "In the code above, the variable *file* has all your data in it. The data come in rows and columns. Each 'column' has a name, in this case 'x' and 'y'.\n",
    "\n",
    "Remember that the names of the columns are metadata of *file*. So to work with the first column you type:\n",
    "\n",
    "file['x']\n",
    "\n",
    "try it in the empty code cell below:\n"
   ]
  },
  {
   "cell_type": "code",
   "execution_count": null,
   "id": "5ab120c6-847f-485c-b10c-4404ea7dd319",
   "metadata": {},
   "outputs": [],
   "source": []
  },
  {
   "cell_type": "markdown",
   "id": "a34d22c2-bc46-489f-8993-f16bcc7c381a",
   "metadata": {
    "id": "ckGVNDeLXlrY"
   },
   "source": [
    "As discussed in class, you need to redo your x-axis so that you can compare different subduction zone cross-sections.\n",
    "Plot these and save your figure. Look up how the savefig() method works in matplotlib."
   ]
  },
  {
   "cell_type": "code",
   "execution_count": null,
   "id": "8454adae-bb0f-48a3-8855-154239c9fd6f",
   "metadata": {},
   "outputs": [],
   "source": []
  }
 ],
 "metadata": {
  "colab": {
   "collapsed_sections": [
    "826a9c77"
   ],
   "provenance": []
  },
  "kernelspec": {
   "display_name": "Python 3 (ipykernel)",
   "language": "python",
   "name": "python3"
  },
  "language_info": {
   "codemirror_mode": {
    "name": "ipython",
    "version": 3
   },
   "file_extension": ".py",
   "mimetype": "text/x-python",
   "name": "python",
   "nbconvert_exporter": "python",
   "pygments_lexer": "ipython3",
   "version": "3.10.13"
  }
 },
 "nbformat": 4,
 "nbformat_minor": 5
}
