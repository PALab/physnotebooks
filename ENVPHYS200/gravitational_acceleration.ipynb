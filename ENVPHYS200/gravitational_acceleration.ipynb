{
 "cells": [
  {
   "cell_type": "markdown",
   "id": "64a5daa6-2227-4fa9-a046-6a4f34afa1ad",
   "metadata": {},
   "source": [
    "### Gravity on another planet\n",
    "A thumbdrive on a meteorite contains data of an alien dropping a rock from different heights on strange planet. We have posted a copy of these data here in csv format. CSV stands for Comma Separated Values. These files are in ascii format (i.e., not binary format). Let's read the data in a python notebook. There are many ways to do this, but here we use a module called \"pandas.\" First, we must load the module \"pandas\":"
   ]
  },
  {
   "cell_type": "code",
   "execution_count": null,
   "id": "32817571-61e4-47c7-af5a-0a7a74ef2bd8",
   "metadata": {
    "tags": []
   },
   "outputs": [],
   "source": [
    "import pandas as pd"
   ]
  },
  {
   "cell_type": "markdown",
   "id": "129e0ad6-5032-4fd0-89a9-7d89b584800c",
   "metadata": {},
   "source": [
    "Now we are ready to use pandas and its functions and methods. For example, there is a function to read csv files in pandas called csv_reader() where the output is a \"dataframe.\" The link to thr manual for this function is [here](https://pandas.pydata.org/docs/reference/api/pandas.read_csv.html). After reading the manual, we are ready to read the file into an object called a \"dataframe\":"
   ]
  },
  {
   "cell_type": "code",
   "execution_count": null,
   "id": "36390919-b164-44c6-bd7e-cdf5d68a414d",
   "metadata": {},
   "outputs": [],
   "source": [
    "df = pd.read_csv('https://pal.blogs.auckland.ac.nz/files/2025/07/gravitydata_envphys200.csv')\n",
    "df # this line just shows the structure of the whole dataframe, including the headers."
   ]
  },
  {
   "cell_type": "markdown",
   "id": "76b90629-ca61-4234-bb2f-62353647aa08",
   "metadata": {},
   "source": [
    "The first column is a dummy column starting at 0. It is refered to as the index. The other two columns contain our data in floats (i.e., real numbers) and integers, respectively. dataframe objects have methods. One such method is to plot the values of each of the columns of the data frame:"
   ]
  },
  {
   "cell_type": "code",
   "execution_count": null,
   "id": "489de1d0-6299-477c-8104-f6c882c6534e",
   "metadata": {},
   "outputs": [],
   "source": [
    "df.plot()"
   ]
  },
  {
   "cell_type": "markdown",
   "id": "c487ad72-72cc-4d59-82ed-87fc8c83d6ed",
   "metadata": {},
   "source": [
    "This is not super-useful. A scatter plot of the measurements with on the x-axis the values of the Time(s) column and on the y-axis Height(m) is a "
   ]
  },
  {
   "cell_type": "code",
   "execution_count": null,
   "id": "ee70e57d-4bb9-45fd-91ea-cd255f140c0d",
   "metadata": {
    "tags": []
   },
   "outputs": [],
   "source": [
    "df.plot.scatter(x='Time(s)',y='Height(m)')"
   ]
  },
  {
   "cell_type": "markdown",
   "id": "0488a6b3-3296-4c75-8816-81a7b7ce964a",
   "metadata": {},
   "source": [
    "If this looks a lot like a noisy hyperbola, that's because it is! As with any experiment, there is (random) noise in the observations. Furthermore, this alien dropped a rock from different heights. in highschool you may have learned already that such an object falls in a time $t$ a total height $h = \\frac{1}{2}gt^2$. On Earth the gravitational acceleration means the object falls $g\\approx9.8 m/s^2$, but on this planet $g$ has another value. What property of the planet would determine $g$?  "
   ]
  },
  {
   "cell_type": "markdown",
   "id": "c31d2e09-8120-478c-b6e1-8cd0ce8f4241",
   "metadata": {},
   "source": []
  },
  {
   "cell_type": "markdown",
   "id": "7c82a58c-c208-4b73-ac3b-db4419cee223",
   "metadata": {},
   "source": [
    "Let's extract a list for time and height from the dataframe, so we can easily work on these lists later:   "
   ]
  },
  {
   "cell_type": "code",
   "execution_count": null,
   "id": "c25a8634-cf54-4a4c-a627-aafbdfad75c8",
   "metadata": {},
   "outputs": [],
   "source": [
    "t =df['Time(s)'] \n",
    "h =df['Height(m)']"
   ]
  },
  {
   "cell_type": "markdown",
   "id": "b8c64a1d-9f53-456f-837b-db343e01442a",
   "metadata": {},
   "source": [
    "Now we can use [matplotlib](https://matplotlib.org/), a module for 2D plotting to make the same scatterplot as before:"
   ]
  },
  {
   "cell_type": "code",
   "execution_count": null,
   "id": "86d18ef6-26a5-4848-8592-6f5ca6708e6b",
   "metadata": {
    "tags": []
   },
   "outputs": [],
   "source": [
    "import matplotlib.pyplot as plt\n",
    "fig,ax = plt.subplots()\n",
    "plt.plot(t,h,'o')\n",
    "plt.xlabel('Time (s)')\n",
    "plt.ylabel('Height (m)')\n",
    "plt.show()"
   ]
  },
  {
   "cell_type": "markdown",
   "id": "27dcafce-0742-4f25-8268-d3daf9b623ba",
   "metadata": {},
   "source": [
    "If we were to make a change of variables $y = t^2$, then $h= \\frac{g}{2}y$. This is the equation for a straight line. Let's confirm this with a plot of drop height vs drop time squared:"
   ]
  },
  {
   "cell_type": "markdown",
   "id": "d1c6705f-b64f-4e6a-b38a-74ab9194af6c",
   "metadata": {},
   "source": []
  },
  {
   "cell_type": "markdown",
   "id": "33b0e296-04b1-4afd-b864-fb943ae1a72a",
   "metadata": {},
   "source": [
    "The deviations from a straight line must be due to noise in the measurements. After all, it is not easy to do measurements out on this planet! in our quest to find the gravitational acceleration on this planet, we can get an estimate of this value by fitting the best straight line through the data. Explain below how this best-fitting line would get you an estimate of $g$, based on what you know about the theory of straight lines. "
   ]
  },
  {
   "cell_type": "markdown",
   "id": "912d3ba1-a0b6-4005-abd3-60460141958c",
   "metadata": {},
   "source": []
  },
  {
   "cell_type": "markdown",
   "id": "8cd3fa5b-abc4-46a9-a556-b62d48510ae5",
   "metadata": {},
   "source": [
    "Fitting data to a straight line is called \"linear regression.\" Luckily several modules in python have functions to do this for you! Import the module `scipy.stats` and learn to use its function `linregress` from the help page online. What is $g$ according to the linear regression on the data?"
   ]
  },
  {
   "cell_type": "code",
   "execution_count": null,
   "id": "20c332e3-ac99-4191-8401-10e2a31cd083",
   "metadata": {
    "tags": []
   },
   "outputs": [],
   "source": []
  },
  {
   "cell_type": "markdown",
   "id": "374061d6-a822-4855-9dfc-01a324ac60c6",
   "metadata": {},
   "source": [
    "Use the results of your linear regression to plot the best fitting line onto the data with a squared time axis"
   ]
  },
  {
   "cell_type": "code",
   "execution_count": null,
   "id": "094d5816-a7bb-4b4f-a26d-aea171e492b2",
   "metadata": {},
   "outputs": [],
   "source": []
  }
 ],
 "metadata": {
  "kernelspec": {
   "display_name": "Python 3 (ipykernel)",
   "language": "python",
   "name": "python3"
  },
  "language_info": {
   "codemirror_mode": {
    "name": "ipython",
    "version": 3
   },
   "file_extension": ".py",
   "mimetype": "text/x-python",
   "name": "python",
   "nbconvert_exporter": "python",
   "pygments_lexer": "ipython3",
   "version": "3.10.18"
  }
 },
 "nbformat": 4,
 "nbformat_minor": 5
}
