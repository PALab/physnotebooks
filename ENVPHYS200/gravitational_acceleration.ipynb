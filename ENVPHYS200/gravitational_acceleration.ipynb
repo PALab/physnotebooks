{
  "cells": [
    {
      "cell_type": "markdown",
      "id": "64a5daa6-2227-4fa9-a046-6a4f34afa1ad",
      "metadata": {
        "id": "64a5daa6-2227-4fa9-a046-6a4f34afa1ad"
      },
      "source": [
        "\n",
        "# **ENVPHYS 200: Earth Observations and Models**\n",
        "**Assignment 8:** Estimating gravity from a different planet from noisy data\n",
        "\n",
        "Due October 16th 2023 - 11:59pm\n",
        "\n",
        "**Goal:** In this assignment you will be estimating the gravitational constant from a different planet. For that you are provided experimental data for measurements on the time it takes a ball to fall from different heights to which you will fit a function.\n",
        "\n",
        "***Submit your python notebook on canvas. You will be able to answer the questions from the handout below in the notebook.***"
      ]
    },
    {
      "cell_type": "markdown",
      "source": [
        "The equation that governs the time ($t$) it take a ball to fall from a height ($h$) is:\n",
        "\n",
        "$h=\\frac{gt^2}{2}$   (equation 1)\n",
        "\n",
        "where ($g$) is the gravitational acceleration in this particular planet."
      ],
      "metadata": {
        "id": "RclqVvfy0RKt"
      },
      "id": "RclqVvfy0RKt"
    },
    {
      "cell_type": "code",
      "execution_count": null,
      "id": "32817571-61e4-47c7-af5a-0a7a74ef2bd8",
      "metadata": {
        "tags": [],
        "id": "32817571-61e4-47c7-af5a-0a7a74ef2bd8"
      },
      "outputs": [],
      "source": [
        "import numpy as np\n",
        "import matplotlib.pyplot as plt\n",
        "import pandas as pd\n",
        "from scipy.optimize import curve_fit\n"
      ]
    },
    {
      "cell_type": "markdown",
      "id": "1bcae178-dfa0-478d-9106-e0639dd143b2",
      "metadata": {
        "id": "1bcae178-dfa0-478d-9106-e0639dd143b2"
      },
      "source": [
        "Upload the time_data.csv file to colabs, read it and plot $h$ vs $t$. The time is in seconds and height in meters."
      ]
    },
    {
      "cell_type": "code",
      "source": [
        "## write your code here. Remember that we read a csv file in the seismic lab\n",
        "\n",
        "\n"
      ],
      "metadata": {
        "id": "85UdhdbX1TW0"
      },
      "id": "85UdhdbX1TW0",
      "execution_count": null,
      "outputs": []
    },
    {
      "cell_type": "markdown",
      "source": [
        "# **Question 1:**\n",
        "[answer in this box]\n",
        "\n",
        "What is the shape of these data? Does it match the expected function shape from equation 1? Why is the shape not perfect? Explain.\n",
        "\n",
        "\n",
        "\n",
        "\n",
        "\n",
        "\n",
        "\n",
        "\n",
        "\n"
      ],
      "metadata": {
        "id": "hIr1DBhmONSn"
      },
      "id": "hIr1DBhmONSn"
    },
    {
      "cell_type": "markdown",
      "source": [
        "In ENVPHYS 100 you performed a linear regression in the \"Swells, tides and tsunamis\" lab. This is a curve fitting method, but the only curve that is allowed is a straight line. We want you code  fitting data to **any** curve. For that, you will fit the equation of dropping the ball with a non-linear curve."
      ],
      "metadata": {
        "id": "ksR0J2mFXx6Z"
      },
      "id": "ksR0J2mFXx6Z"
    },
    {
      "cell_type": "markdown",
      "source": [
        "# **Question 2:**\n",
        "\n",
        "In the next section you will fit a curve to your data so that you can estimate $g$ on this planet.  For that you will need to:\n",
        "- Build a function for a parabola\n",
        "- Call the function in the [curvefit](https://docs.scipy.org/doc/scipy/reference/generated/scipy.optimize.curve_fit.html)\n",
        "\n",
        "The hyperlink take you to the manual for fitting any type of curve (any equation!). This is very powerful and you will be able to use it in any further studies :)\n",
        "\n",
        "[Here](https://www.askpython.com/python/examples/curve-fitting-in-python) is another easy resource for building the function and doing the curve fit.\n",
        "\n",
        "**When you go to the hyperlinks, there are examples at the end of the page, so please take a look at them.**"
      ],
      "metadata": {
        "id": "CEw_uiaBPDvN"
      },
      "id": "CEw_uiaBPDvN"
    },
    {
      "cell_type": "code",
      "source": [
        "# define the  function\n",
        "# call the function in your non-linear curve fit\n",
        "\n"
      ],
      "metadata": {
        "id": "Ei2hdoExSztd"
      },
      "id": "Ei2hdoExSztd",
      "execution_count": null,
      "outputs": []
    },
    {
      "cell_type": "markdown",
      "source": [
        "# **Question 3:**\n",
        "\n",
        "What is g for this planet? On what planet in the Solar System did we do the ball drop experiment?\n",
        "\n"
      ],
      "metadata": {
        "id": "lg3eSCNIUp49"
      },
      "id": "lg3eSCNIUp49"
    },
    {
      "cell_type": "markdown",
      "source": [
        "# **Question 4:**\n",
        "\n",
        "- Compare your noisy data to your fitted curve. For that, plot your fitted curve on top of your data.  \n",
        "\n",
        "- Estimate the noise in your data, that is, the difference between your data and the model. Plot that difference (i.e. error).\n",
        "\n",
        "- Estimate the standard deviation of this time error.\n",
        "\n",
        "- Assuming $h$ is error-free, propagate the time error into your gravitational constant. Check this [wikipedia](https://en.wikipedia.org/wiki/Propagation_of_uncertainty) link for non-linear error propagation [see simplification].\n",
        "\n",
        "- If we predict the subsurface of the planet creates a gravitational anomaly of 1 Gal, can we resolve it with this experimental methods (ball drop method)?\n",
        "\n"
      ],
      "metadata": {
        "id": "bAVKJoFgW8h-"
      },
      "id": "bAVKJoFgW8h-"
    },
    {
      "cell_type": "code",
      "source": [
        "## write your code here"
      ],
      "metadata": {
        "id": "Tn9M0h73dll4"
      },
      "id": "Tn9M0h73dll4",
      "execution_count": null,
      "outputs": []
    },
    {
      "cell_type": "markdown",
      "source": [
        "# **Question 5:**\n",
        "\n",
        "If the experiment is performed at much greater and variable heights, for example, using satellites orbiting at significantly different distances from the surface of the planet, would directly using equation 1 be reasonable?\n",
        "\n",
        "Answer: No. The gravitational constant would be in itself changing as g depends on the height at which we perfom the experiment.\n",
        "\n",
        "$g_{planet}=G\\frac{M_{planet}}{r^2}$, where $G$ is the gravitational constant, $M$ is mass and $r$ is distance between the objects."
      ],
      "metadata": {
        "id": "pgMshDl3l8H7"
      },
      "id": "pgMshDl3l8H7"
    }
  ],
  "metadata": {
    "kernelspec": {
      "display_name": "Python 3 (ipykernel)",
      "language": "python",
      "name": "python3"
    },
    "language_info": {
      "codemirror_mode": {
        "name": "ipython",
        "version": 3
      },
      "file_extension": ".py",
      "mimetype": "text/x-python",
      "name": "python",
      "nbconvert_exporter": "python",
      "pygments_lexer": "ipython3",
      "version": "3.10.13"
    },
    "colab": {
      "provenance": []
    }
  },
  "nbformat": 4,
  "nbformat_minor": 5
}