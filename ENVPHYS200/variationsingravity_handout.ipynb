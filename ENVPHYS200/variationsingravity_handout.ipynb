{
 "cells": [
  {
   "attachments": {},
   "cell_type": "markdown",
   "id": "e1051053-4eed-4a39-89b5-73df07130675",
   "metadata": {},
   "source": [
    "#### The gravitational acceleration on the Earth's surface\n",
    "Last week, we discussed that $g\\approx$9.8m/s$^2$ everywhere on Earth. We discussed in class the implications of a spherically symmetric Earth with great(er) density toward the centre. This week, we learned in class that things are a bit more nuanced than that. $g$ at the Earth's surface is almost constant. The biggest deviating factor is that we are more spheroidal than spherical, first postulated by Isaac Newton (see you classnotes). The result is that a much better representation of $g$ at the Earth's surface is a function of latitude $\\phi$:  \n",
    "$$g(\\phi) = 9.780327(1+0.0053024\\sin^2(\\phi)-0.0000058\\sin^2(2\\phi).$$\n",
    "\n",
    "Use numpy to create an array of possible values for $\\phi$, then use the sine function in numpy to create an array with values of $g$ for each value of $\\phi$. Warning: look at the sine function argument!"
   ]
  },
  {
   "cell_type": "code",
   "execution_count": null,
   "id": "5cfadbcd-ec69-48b2-a75a-ac0715917655",
   "metadata": {},
   "outputs": [],
   "source": []
  },
  {
   "cell_type": "markdown",
   "id": "341d2237-c30e-433d-b7fc-903316bc72ad",
   "metadata": {},
   "source": [
    "Plot $g$ vs $\\phi$, as you learned last week, using the module `matplotlib.` Have a look at your notebook of last week if you do not remember how! As always, use labels and units on any plot you ever create."
   ]
  },
  {
   "cell_type": "code",
   "execution_count": null,
   "id": "14726819-2349-45e7-8a4e-6b6636358d38",
   "metadata": {},
   "outputs": [],
   "source": []
  },
  {
   "cell_type": "markdown",
   "id": "98615a42-83db-43f1-82a6-460e471add7c",
   "metadata": {},
   "source": [
    "Look up values of $g$ for 8 cities around the world at different latitudes, and plot these values as points in a new copy of the figure for $g$ vs $\\phi$. Use a different symbol for each point, and create a legend with the name of city in your figure:"
   ]
  },
  {
   "cell_type": "code",
   "execution_count": null,
   "id": "03b32bae-de10-4fb3-99ee-d42c43d05f6d",
   "metadata": {},
   "outputs": [],
   "source": []
  },
  {
   "cell_type": "markdown",
   "id": "f9018021-4086-489c-8d0c-28ded0861aca",
   "metadata": {},
   "source": [
    "Comment on how well (or not) the values of $g$ for these cities matched the model of an ellipsoidal Earth."
   ]
  },
  {
   "cell_type": "markdown",
   "id": "7d3c407d-f3cd-48de-94f4-b116db39ee77",
   "metadata": {},
   "source": []
  },
  {
   "cell_type": "markdown",
   "id": "08bdf69f-04b9-4a3b-a001-075a49faa523",
   "metadata": {},
   "source": [
    "#### Gravitational acceleration as a function of time\n",
    "It gets even more interesting: $g$ varies with time! Therefore, we are going to download and analyze $g$ every 10 s from a gravimeter in France. We will use the module `Obspy` for this. This is worth learning, because we will use it later in the semester for other types of geophisical data too. Unfortunately, google colab does not know `Obspy`, so we must install it (once per session) with a programme called `pip`:"
   ]
  },
  {
   "cell_type": "code",
   "execution_count": null,
   "id": "a928a291-dcf7-43a7-bca2-ae2d685e9af5",
   "metadata": {},
   "outputs": [],
   "source": [
    "!pip install obspy"
   ]
  },
  {
   "cell_type": "markdown",
   "id": "ce769b88-dbcd-4348-8723-edaa0f9c3136",
   "metadata": {},
   "source": [
    "Now we can download data from a range of geophysical observations. In the cell below, we define the server where we are going to get the data from:"
   ]
  },
  {
   "cell_type": "code",
   "execution_count": null,
   "id": "16e8efed-7097-442d-bb86-8332558f1162",
   "metadata": {},
   "outputs": [],
   "source": [
    "from obspy.clients.fdsn import Client #  The \"client\" is the host (server) of data \n",
    "client = Client(\"IRIS\") # IRIS is a data server in the USA with heaps of data from around the world"
   ]
  },
  {
   "cell_type": "markdown",
   "id": "daf6535f-3ac5-4336-831b-bc8a34cae767",
   "metadata": {},
   "source": [
    "We also need to have tools to handle start and end times of our data. Because time is kept in terms of years, days, etc, we use a tool to convert time to a number that the computer can understand:"
   ]
  },
  {
   "cell_type": "code",
   "execution_count": null,
   "id": "0b89715b-100a-4b4c-9fdc-311322d54b87",
   "metadata": {},
   "outputs": [],
   "source": [
    "from obspy import UTCDateTime # This is a module in obspy to deal with time and date\n",
    "# pick start and end times for these data:\n",
    "starttime = UTCDateTime(\"2024-01-02T00:00:00\")\n",
    "endtime = UTCDateTime(\"2024-01-09T00:00:00\")"
   ]
  },
  {
   "cell_type": "markdown",
   "id": "c3183916-d994-44eb-a40e-d8eabf7c252c",
   "metadata": {},
   "source": [
    "#### The network of Gravimeters SG\n",
    "There are only a few networks of gravimeters that work 24/7. One of these networks is [here](https://www.fdsn.org/networks/detail/SG/). Read about the network: where it is, when it started, what stations are in it?"
   ]
  },
  {
   "cell_type": "markdown",
   "id": "a414eb2a-967e-4e83-9eb0-08b64e36e8e9",
   "metadata": {},
   "source": []
  },
  {
   "attachments": {},
   "cell_type": "markdown",
   "id": "6a7a8c13-8870-4aaa-b847-7ae2e54d6240",
   "metadata": {},
   "source": [
    "In this course, you will have to learn how to read and use documentation for python modules, such as `Obspy`. For now, we will teach you the very basics. The `'client` object has a method called `get_waveforms.' Google: \"get_waveforms obspy\" to get the full documentation. Please do not skip this step, as you need to learn to understand the docs. What are the arguments of the method `get_waveforms`? List them here. "
   ]
  },
  {
   "cell_type": "markdown",
   "id": "76738fbb-1b14-43a5-9366-0ecd9c69f586",
   "metadata": {},
   "source": []
  },
  {
   "cell_type": "markdown",
   "id": "9bf7e33e-8af5-4246-ae62-bbf344ba2256",
   "metadata": {},
   "source": [
    "Some or all of these arguments have default values, but we get to set the arguments. In the cell below we define that we want data from the network SG, station MEMB and a channel named \"LGZ\", between some start and end time. The output is a Stream() object we call st (but you can call this stream anything you want!"
   ]
  },
  {
   "cell_type": "code",
   "execution_count": null,
   "id": "371846d3-7283-4dd1-9be2-789f952b9e9b",
   "metadata": {},
   "outputs": [],
   "source": [
    "st = client.get_waveforms(network=\"SG\", station=\"MEMB\", location=\"**\", \n",
    "                          channel=\"LGZ\",starttime=starttime, endtime=endtime,attach_response=True)"
   ]
  },
  {
   "cell_type": "markdown",
   "id": "dc6e9054-a52b-4ff2-9b03-1ea984d53997",
   "metadata": {},
   "source": [
    "Read about these Stream() objects in the Obspy docs. Streams contain Traces(). And the Stream() object has a method to plot all Traces(). Try to plot the data from Stream st in the code cell below:"
   ]
  },
  {
   "cell_type": "code",
   "execution_count": null,
   "id": "213a0979-b90f-4d0f-b618-7003264bb405",
   "metadata": {},
   "outputs": [],
   "source": []
  },
  {
   "cell_type": "markdown",
   "id": "9ba78172-cde5-4020-90ed-b858fc204447",
   "metadata": {},
   "source": [
    "The horizontal axis is time, and the vertical axis is proportional to $g$, but not in m/s$^2$. Note the variations in the data! What do you recognize? From class yesterday, can you tell me how you can see from the data roughly what latitude station MEMB has?"
   ]
  },
  {
   "cell_type": "markdown",
   "id": "0839a22c-4059-4231-acdc-4d092435cbc0",
   "metadata": {},
   "source": []
  },
  {
   "cell_type": "markdown",
   "id": "f51edcef-a1ec-4cd7-8e85-12fdda24cf57",
   "metadata": {},
   "source": [
    "Find and use the method that shows the statistics (information) of a Trace() object in the Obspy documentation. What is the sampling rate of the gravimeter? Hint: there is only on trace, and you access the traces as the first in the stream: `st[0]` "
   ]
  },
  {
   "cell_type": "code",
   "execution_count": null,
   "id": "9f286197-f896-4b68-9518-b7e72a5b89e2",
   "metadata": {},
   "outputs": [],
   "source": []
  },
  {
   "cell_type": "markdown",
   "id": "84fb256e-98b4-40cc-8d6a-f3266d029c2d",
   "metadata": {},
   "source": [
    "With the instrument information in the stats, we can convert the y-axis from arbitrary units to m/s$^2$, with: "
   ]
  },
  {
   "cell_type": "code",
   "execution_count": null,
   "id": "ef761897-345d-46c3-bc6f-2c1a0d6bc3bb",
   "metadata": {},
   "outputs": [],
   "source": [
    "st.remove_sensitivity()"
   ]
  },
  {
   "cell_type": "markdown",
   "id": "10a2d13c-4a57-4210-84fd-6f96fe7e7454",
   "metadata": {},
   "source": [
    "Now plot the stream again:"
   ]
  },
  {
   "cell_type": "code",
   "execution_count": null,
   "id": "0774e6e3-fc92-4d30-96a3-8664856871b9",
   "metadata": {},
   "outputs": [],
   "source": []
  },
  {
   "cell_type": "markdown",
   "id": "666c4a24-a47b-4586-aa6c-0f0494f9156e",
   "metadata": {},
   "source": [
    "Notice that the values of the y-axis have changed. What is the range? Are variations in $g$ on this order what is reported online? What is the cause of the variations?"
   ]
  },
  {
   "cell_type": "markdown",
   "id": "be459c8f-39db-48ed-82b5-8d5fdc78719f",
   "metadata": {},
   "source": []
  },
  {
   "cell_type": "markdown",
   "id": "9023efba-d21d-49ae-8fa5-46f587bb61f8",
   "metadata": {},
   "source": [
    "The Stream() objects have a method to filter the data. Use a filter to remove the high-frequency noise obscuring the longer tidal signal."
   ]
  },
  {
   "cell_type": "code",
   "execution_count": null,
   "id": "84d3739b-54b8-4420-a534-2c5e7a9d88c1",
   "metadata": {},
   "outputs": [],
   "source": []
  }
 ],
 "metadata": {
  "kernelspec": {
   "display_name": "Python 3 (ipykernel)",
   "language": "python",
   "name": "python3"
  },
  "language_info": {
   "codemirror_mode": {
    "name": "ipython",
    "version": 3
   },
   "file_extension": ".py",
   "mimetype": "text/x-python",
   "name": "python",
   "nbconvert_exporter": "python",
   "pygments_lexer": "ipython3",
   "version": "3.10.18"
  }
 },
 "nbformat": 4,
 "nbformat_minor": 5
}
