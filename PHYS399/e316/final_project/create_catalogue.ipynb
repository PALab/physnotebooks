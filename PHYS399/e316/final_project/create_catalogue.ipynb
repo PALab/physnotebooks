{
 "cells": [
  {
   "cell_type": "markdown",
   "metadata": {},
   "source": [
    "Let us create a catalogue of events from the IRIS catalogue, for a set time window, area, and minimum magnitude"
   ]
  },
  {
   "cell_type": "code",
   "execution_count": null,
   "metadata": {},
   "outputs": [],
   "source": [
    "from obspy.core.event import read_events # obspy event class has a method to read events from a catalogue\n",
    "from obspy import UTCDateTime # obspy class to handle time \n",
    "from obspy.clients.fdsn import Client # object that sets up an FDSN client\n",
    "# for interactive inline plotting in jupyter:\n",
    "#%matplotlib inline "
   ]
  },
  {
   "cell_type": "markdown",
   "metadata": {},
   "source": [
    "First we create a client object. IRIS provides one via FDSN, but GeoNet does not, at the moment of writing:"
   ]
  },
  {
   "cell_type": "code",
   "execution_count": null,
   "metadata": {},
   "outputs": [],
   "source": [
    "irisclient=Client(\"IRIS\") "
   ]
  },
  {
   "cell_type": "markdown",
   "metadata": {},
   "source": [
    "Define a start and an endtime. UTCDateTime is a functionality to deal with \"time\" as a float:"
   ]
  },
  {
   "cell_type": "code",
   "execution_count": null,
   "metadata": {},
   "outputs": [],
   "source": [
    "starttime =UTCDateTime(\"2008-01-01T00:00:00\")\n",
    "endtime= UTCDateTime(\"2016-10-31T00:00:00\")"
   ]
  },
  {
   "cell_type": "markdown",
   "metadata": {},
   "source": [
    "Define other search criteria (lat, lon of the search box, and a minimum magnitude of the events):"
   ]
  },
  {
   "cell_type": "code",
   "execution_count": null,
   "metadata": {},
   "outputs": [],
   "source": [
    "minlat=-50\n",
    "maxlat=-35\n",
    "minlon=160\n",
    "maxlon=180\n",
    "minmag=5.5"
   ]
  },
  {
   "cell_type": "markdown",
   "metadata": {},
   "source": [
    "Create a catalogue object that contains all events that match our criteria:"
   ]
  },
  {
   "cell_type": "code",
   "execution_count": null,
   "metadata": {},
   "outputs": [],
   "source": [
    "events = irisclient.get_events(minlatitude=minlat,maxlatitude=maxlat,minlongitude=minlon,maxlongitude=maxlon,starttime=starttime, endtime=endtime,mindepth=50,minmagnitude=minmag)"
   ]
  },
  {
   "cell_type": "markdown",
   "metadata": {},
   "source": [
    "Write your catalogue to an xml file. For earthquakes, this type of xml is called quakeml:"
   ]
  },
  {
   "cell_type": "code",
   "execution_count": null,
   "metadata": {},
   "outputs": [],
   "source": [
    "events.write('events.xml',format=\"QUAKEML\")"
   ]
  },
  {
   "cell_type": "markdown",
   "metadata": {
    "collapsed": true
   },
   "source": [
    "The catalogue object has a public method called \"plot\" \n",
    "(If this creates two plots for you too, I don't understand that. Seems like a bug to me!)"
   ]
  },
  {
   "cell_type": "code",
   "execution_count": null,
   "metadata": {},
   "outputs": [],
   "source": [
    "events.plot()"
   ]
  },
  {
   "cell_type": "code",
   "execution_count": null,
   "metadata": {},
   "outputs": [],
   "source": []
  }
 ],
 "metadata": {
  "anaconda-cloud": {},
  "kernelspec": {
   "display_name": "Python 3 (ipykernel)",
   "language": "python",
   "name": "python3"
  },
  "language_info": {
   "codemirror_mode": {
    "name": "ipython",
    "version": 3
   },
   "file_extension": ".py",
   "mimetype": "text/x-python",
   "name": "python",
   "nbconvert_exporter": "python",
   "pygments_lexer": "ipython3",
   "version": "3.7.13"
  }
 },
 "nbformat": 4,
 "nbformat_minor": 2
}
