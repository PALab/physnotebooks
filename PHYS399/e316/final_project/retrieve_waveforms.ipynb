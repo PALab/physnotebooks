{
 "cells": [
  {
   "cell_type": "markdown",
   "metadata": {},
   "source": [
    "Retrieving seismic waveforms for events from previously established catalogue events.xml for stations in previously established inventory inv.xml"
   ]
  },
  {
   "cell_type": "code",
   "execution_count": null,
   "metadata": {},
   "outputs": [],
   "source": [
    "from obspy.core.inventory.inventory import read_inventory\n",
    "from obspy.core.event import read_events\n",
    "from obspy.clients.fdsn import Client\n",
    "import os\n",
    "%matplotlib notebook"
   ]
  },
  {
   "cell_type": "markdown",
   "metadata": {},
   "source": [
    "Open the GeoNet FDSN client, from where we will get the seismic data:"
   ]
  },
  {
   "cell_type": "code",
   "execution_count": null,
   "metadata": {},
   "outputs": [],
   "source": [
    "geonetclient=Client('http://service.geonet.org.nz')"
   ]
  },
  {
   "cell_type": "markdown",
   "metadata": {},
   "source": [
    "These are the events and inventory saved in the previous scripts:"
   ]
  },
  {
   "cell_type": "code",
   "execution_count": null,
   "metadata": {},
   "outputs": [],
   "source": [
    "events =read_events('https://ndownloader.figshare.com/files/7283294')\n",
    "inv = read_inventory('https://ndownloader.figshare.com/files/7283279')\n",
    "# get the network code from the inventory:\n",
    "net = inv[0]\n",
    "network = net.code"
   ]
  },
  {
   "cell_type": "markdown",
   "metadata": {},
   "source": [
    "Make a list of all stations in inventory inv:"
   ]
  },
  {
   "cell_type": "code",
   "execution_count": null,
   "metadata": {},
   "outputs": [],
   "source": [
    "stations = []\n",
    "for stat in net:\n",
    "     stations.append(stat.code)\n",
    "\n",
    "# this changes the station list in the format the data download needs:\n",
    "bulklist= ','.join(stations)"
   ]
  },
  {
   "cell_type": "markdown",
   "metadata": {},
   "source": [
    "Set length of the waveforms, nt, after earthquake origin time t0 (in seconds):"
   ]
  },
  {
   "cell_type": "code",
   "execution_count": null,
   "metadata": {},
   "outputs": [],
   "source": [
    "nt = 50"
   ]
  },
  {
   "cell_type": "markdown",
   "metadata": {},
   "source": [
    "Retrieve and write data for all stations in bulklist, per event:"
   ]
  },
  {
   "cell_type": "code",
   "execution_count": null,
   "metadata": {},
   "outputs": [],
   "source": [
    "for event in events:\n",
    "    t0=event.origins[0].time\n",
    "    # I added a \"try/except, for those cases there are no data for an event:    \n",
    "    try:\n",
    "        #To keep it simple, I assume the location is fixed, as is the component code (HHZ,N and E). \n",
    "        # This will surely break if you have variations among your stations!\n",
    "        st = geonetclient.get_waveforms(network,bulklist,\"10\",\"HH*\",t0,t0+nt)\n",
    "    \n",
    "        # you can change the trapezoidal corners of the bandpass filter\n",
    "        # before the instrument response. Might need something generic, if\n",
    "        # mixing broad band and short period instruments:\n",
    "        pre_filt = (0.05, 0.1, 50.0, 60.0)\n",
    "        # remove instrument response. output=DISP will get you displacement:\n",
    "        st.remove_response(inventory=inv,output='VEL', pre_filt=pre_filt) \n",
    "\n",
    "        # I don't have a better way (yet) to pull the eventid number from the event:\n",
    "        eventID=str(event.resource_id)[-7:]\n",
    "        #st.write(eventID+'.mseed',format='MSEED') # for MSEED\n",
    "        st.plot()\n",
    "    except:\n",
    "        print('no data for event ', event.resource_id)\n",
    "        continue"
   ]
  },
  {
   "cell_type": "code",
   "execution_count": null,
   "metadata": {},
   "outputs": [],
   "source": []
  }
 ],
 "metadata": {
  "anaconda-cloud": {},
  "kernelspec": {
   "display_name": "Python 3 (ipykernel)",
   "language": "python",
   "name": "python3"
  },
  "language_info": {
   "codemirror_mode": {
    "name": "ipython",
    "version": 3
   },
   "file_extension": ".py",
   "mimetype": "text/x-python",
   "name": "python",
   "nbconvert_exporter": "python",
   "pygments_lexer": "ipython3",
   "version": "3.10.13"
  }
 },
 "nbformat": 4,
 "nbformat_minor": 4
}
