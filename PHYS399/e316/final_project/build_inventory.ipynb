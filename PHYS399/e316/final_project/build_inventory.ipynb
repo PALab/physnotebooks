{
 "cells": [
  {
   "cell_type": "markdown",
   "metadata": {},
   "source": [
    "Script to make an inventory of certain stations of a particular network, active in a defined time window."
   ]
  },
  {
   "cell_type": "code",
   "execution_count": 24,
   "metadata": {},
   "outputs": [],
   "source": [
    "from obspy.core.event import read_events\n",
    "from obspy.clients.fdsn import Client\n",
    "from obspy import UTCDateTime # functies om met het begrip \"tijd\" om te gaan\n",
    "# for interactive inline plotting in jupyter:\n",
    "%matplotlib notebook \n",
    "import matplotlib.pyplot as plt"
   ]
  },
  {
   "cell_type": "markdown",
   "metadata": {},
   "source": [
    "Define a start and an endtime, a network, and a list of stations. Could have gotten this info from the catalogue we created in the previous notebook"
   ]
  },
  {
   "cell_type": "code",
   "execution_count": 25,
   "metadata": {},
   "outputs": [],
   "source": [
    "starttime =UTCDateTime(\"2022-01-01T00:00:00\")\n",
    "endtime= UTCDateTime(\"2022-08-01T00:00:00\")\n",
    "minlat=-44.9\n",
    "maxlat=-44\n",
    "minlon=167.8\n",
    "maxlon=169.1\n",
    "#minmag=3 \n",
    "network =\"NZ\"\n",
    "# We could have put all the stations in a string, but an array of stations may be useful for future steps:\n",
    "#stationarray = [\"JCZ\",\"WKZ\",\"MSZ\"]\n",
    "#bulklist= ','.join(stationarray) # this is the format of the list of stations for the next step(s)"
   ]
  },
  {
   "cell_type": "markdown",
   "metadata": {},
   "source": [
    "Next, we open an FDSN client for GeoNet: "
   ]
  },
  {
   "cell_type": "code",
   "execution_count": 26,
   "metadata": {},
   "outputs": [],
   "source": [
    "geonetclient=Client('http://service.geonet.org.nz')"
   ]
  },
  {
   "cell_type": "markdown",
   "metadata": {},
   "source": [
    "Let's build an inventory with info about the stations, such as their location, but also including their instrument response:"
   ]
  },
  {
   "cell_type": "code",
   "execution_count": 27,
   "metadata": {},
   "outputs": [
    {
     "name": "stdout",
     "output_type": "stream",
     "text": [
      "Inventory created at 2022-08-25T23:37:42.000000Z\n",
      "\tCreated by: Delta\n",
      "\t\t    \n",
      "\tSending institution: GeoNet (WEL(GNS_Test))\n",
      "\tContains:\n",
      "\t\tNetworks (1):\n",
      "\t\t\tNZ\n",
      "\t\tStations (3):\n",
      "\t\t\tNZ.JCZ (Jackson Bay)\n",
      "\t\t\tNZ.MSZ (Milford Sound)\n",
      "\t\t\tNZ.WKZ (Wanaka)\n",
      "\t\tChannels (18):\n",
      "\t\t\tNZ.JCZ.10.HHZ, NZ.JCZ.10.HHN, NZ.JCZ.10.HHE, NZ.JCZ.10.LHZ, \n",
      "\t\t\tNZ.JCZ.10.LHN, NZ.JCZ.10.LHE, NZ.MSZ.10.HHZ, NZ.MSZ.10.HHN, \n",
      "\t\t\tNZ.MSZ.10.HHE, NZ.MSZ.10.LHZ, NZ.MSZ.10.LHN, NZ.MSZ.10.LHE, \n",
      "\t\t\tNZ.WKZ.10.HHZ, NZ.WKZ.10.HHN, NZ.WKZ.10.HHE, NZ.WKZ.10.LHZ, \n",
      "\t\t\tNZ.WKZ.10.LHN, NZ.WKZ.10.LHE\n"
     ]
    },
    {
     "name": "stderr",
     "output_type": "stream",
     "text": [
      "/home/kvan637/miniconda3/lib/python3.7/site-packages/obspy/io/stationxml/core.py:93: UserWarning: The StationXML file has version 1, ObsPy can read versions (1.0, 1.1). Proceed with caution.\n",
      "  version, \", \".join(READABLE_VERSIONS)))\n"
     ]
    }
   ],
   "source": [
    "inventory = geonetclient.get_stations(network=network,level=\"response\",loc='10',starttime=starttime, endtime=endtime,minlat=minlat,maxlat=maxlat,minlon=minlon,maxlon=maxlon)\n",
    "#inventory.write('inv.xml',format=\"STATIONXML\") # loc is not working?? Maybe a geonet bug?\n",
    "print(inventory)"
   ]
  },
  {
   "cell_type": "code",
   "execution_count": 30,
   "metadata": {},
   "outputs": [
    {
     "name": "stdout",
     "output_type": "stream",
     "text": [
      "158 Event(s) in Catalog:\n",
      "2022-01-29T06:26:14.678995Z | -44.405, +167.883 | 2.19 M  | manual\n",
      "2022-07-04T19:32:52.819831Z | -44.237, +168.359 | 2.93 MLv | manual\n",
      "...\n",
      "2022-07-15T19:24:07.975709Z | -44.167, +168.635 | 2.22 M  | manual\n",
      "2022-07-15T23:00:13.289157Z | -44.183, +168.467 | 1.59 M  | manual\n",
      "To see all events call 'print(CatalogObject.__str__(print_all=True))'\n"
     ]
    }
   ],
   "source": [
    "events = geonetclient.get_events(minlatitude=minlat,maxlatitude=maxlat,minlongitude=minlon,maxlongitude=maxlon,starttime=starttime, endtime=endtime)\n",
    "#events.plot() # plot not working yet. May be a version issue?\n",
    "print(events)"
   ]
  },
  {
   "cell_type": "code",
   "execution_count": null,
   "metadata": {},
   "outputs": [],
   "source": []
  },
  {
   "cell_type": "code",
   "execution_count": null,
   "metadata": {},
   "outputs": [],
   "source": []
  }
 ],
 "metadata": {
  "anaconda-cloud": {},
  "kernelspec": {
   "display_name": "Python 3 (ipykernel)",
   "language": "python",
   "name": "python3"
  },
  "language_info": {
   "codemirror_mode": {
    "name": "ipython",
    "version": 3
   },
   "file_extension": ".py",
   "mimetype": "text/x-python",
   "name": "python",
   "nbconvert_exporter": "python",
   "pygments_lexer": "ipython3",
   "version": "3.7.13"
  }
 },
 "nbformat": 4,
 "nbformat_minor": 2
}
