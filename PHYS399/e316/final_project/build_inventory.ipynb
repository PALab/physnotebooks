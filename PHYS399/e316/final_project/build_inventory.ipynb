{
 "cells": [
  {
   "cell_type": "markdown",
   "metadata": {},
   "source": [
    "Script to make an inventory of certain stations of a particular network, active in a defined time window."
   ]
  },
  {
   "cell_type": "code",
   "execution_count": null,
   "metadata": {},
   "outputs": [],
   "source": [
    "from obspy.core.event import read_events\n",
    "from obspy.clients.fdsn import Client\n",
    "from obspy import UTCDateTime \n",
    "# for interactive inline plotting in jupyter:\n",
    "%matplotlib notebook \n",
    "import matplotlib.pyplot as plt"
   ]
  },
  {
   "cell_type": "markdown",
   "metadata": {},
   "source": [
    "Define a start and an endtime, a network, and a list of stations. Could have gotten this info from the catalogue we created in the previous notebook"
   ]
  },
  {
   "cell_type": "code",
   "execution_count": null,
   "metadata": {},
   "outputs": [],
   "source": [
    "starttime =UTCDateTime(\"2022-01-01T00:00:00\")\n",
    "endtime= UTCDateTime(\"2022-08-01T00:00:00\")\n",
    "minlat=-44.9\n",
    "maxlat=-44\n",
    "minlon=167.8\n",
    "maxlon=169.1\n",
    "#minmag=3 \n",
    "network =\"NZ\"\n",
    "# We could have put all the stations in a string, but an array of stations may be useful for future steps:\n",
    "#stationarray = [\"JCZ\",\"WKZ\",\"MSZ\"]\n",
    "#bulklist= ','.join(stationarray) # this is the format of the list of stations for the next step(s)"
   ]
  },
  {
   "cell_type": "markdown",
   "metadata": {},
   "source": [
    "Next, we open an FDSN client for GeoNet: "
   ]
  },
  {
   "cell_type": "code",
   "execution_count": null,
   "metadata": {},
   "outputs": [],
   "source": [
    "geonetclient=Client('http://service.geonet.org.nz')"
   ]
  },
  {
   "cell_type": "markdown",
   "metadata": {},
   "source": [
    "Let's build an inventory with info about the stations, such as their location, but also including their instrument response:"
   ]
  },
  {
   "cell_type": "code",
   "execution_count": null,
   "metadata": {},
   "outputs": [],
   "source": [
    "inventory = geonetclient.get_stations(network=network,level=\"response\",loc='10',starttime=starttime, endtime=endtime,minlat=minlat,maxlat=maxlat,minlon=minlon,maxlon=maxlon)\n",
    "#inventory.write('inv.xml',format=\"STATIONXML\") # loc is not working?? Maybe a geonet bug?\n",
    "print(inventory)"
   ]
  },
  {
   "cell_type": "code",
   "execution_count": null,
   "metadata": {},
   "outputs": [],
   "source": [
    "events = geonetclient.get_events(minlatitude=minlat,maxlatitude=maxlat,minlongitude=minlon,maxlongitude=maxlon,starttime=starttime, endtime=endtime)\n",
    "#events.plot() # plot not working yet. May be a version issue?\n",
    "print(events)"
   ]
  },
  {
   "cell_type": "code",
   "execution_count": null,
   "metadata": {},
   "outputs": [],
   "source": []
  },
  {
   "cell_type": "code",
   "execution_count": null,
   "metadata": {},
   "outputs": [],
   "source": []
  }
 ],
 "metadata": {
  "anaconda-cloud": {},
  "kernelspec": {
   "display_name": "Python 3 (ipykernel)",
   "language": "python",
   "name": "python3"
  },
  "language_info": {
   "codemirror_mode": {
    "name": "ipython",
    "version": 3
   },
   "file_extension": ".py",
   "mimetype": "text/x-python",
   "name": "python",
   "nbconvert_exporter": "python",
   "pygments_lexer": "ipython3",
   "version": "3.7.13"
  }
 },
 "nbformat": 4,
 "nbformat_minor": 2
}
