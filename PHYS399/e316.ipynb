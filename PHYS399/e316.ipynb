{
 "cells": [
  {
   "cell_type": "markdown",
   "metadata": {
    "collapsed": true,
    "id": "eMoX9Fx2UbpG"
   },
   "source": [
    "\n",
    "\n",
    "# e316: Seismic Ray Tracing\n",
    "\n",
    "In this lab, we will explore how seismic ray tracing can be used to model the propagation of seismic energy through the earth. Using ray tracing, we will estimate the epicentral distance and origin time for an earthquake.\n",
    "\n",
    "Chapter 11 of [A Guided Tour of Mathematical Methods for the Physical Sciences](http://www.cambridge.org/nz/academic/subjects/physics/mathematical-methods/guided-tour-mathematical-methods-physical-sciences-3rd-edition#W7jZxE54KWWuUWEC.97), *Scale Analysis*, discusses the conditions where waves can be considered in terms of ray theory. This is not a bad approximation when the spatial variability in the physical parameters that define the wave propagation is large compared to the propagating wavelengths. In that case, the wave equation, can be reduced to the Eikonal equation, which describes the travel time $T$ of a seismic ray in a medium with wave speed $v({\\bf r})$ as $$ |\\nabla T({\\bf r})|^2 = 1/v({\\bf r})^2.$$ In our book you can read how to derive [Snell's Law](https://en.wikipedia.org/wiki/Snell%27s_law) from the Eikonal equation, for example. \n",
    "\n",
    "There are many strategies under the umbrella of \"ray tracing\" to find the travel time of rays in media with arbitrary velocity distributions, but here we will explore the travel time and ray path of seismic waves in a spherically symmetric approximation of Earth.\n",
    "\n",
    "### **Rays in a spherically symmetric Earth**\n",
    "Having accepted ray theory in the Earth for high-frequency seismic waves, we can estimate the travel time $T$ and epicentral distance $\\Delta$ of \"seismic rays.\" To first order, the Earth is spherically symmetric, greatly simplifying ray propagation. In a spherically symmetric Earth, the 3D velocity distribution reduces to a 1D model: $v({\\bf r})= v(r)$: \n",
    "\n",
    "![Figure 1](https://auckland.figshare.com/ndownloader/files/14738099)\n",
    "\n",
    "First, a small part of the ray path $ds$ satisfies Pythagoras' Rule: $ds^2 = dr^2 + (rd\\Delta)^2$. Second, the take-off angle $i$ is the angle of the ray with the normal to the Earth's surface. A triangle shows that $\\sin(i) = rd\\Delta/ds$  Thirdly, Snell's Law in a spherically symmetric Earth is $r\\sin (i) /v(r)=p$. This constant $p$ is called the ray parameter. \n",
    "\n",
    "#### **Question 1**\n",
    "Combining these three expressions, show that\n",
    "\n",
    "$$ \\frac{ds}{dr} = \\frac{r}{\\sqrt{r^2-(pv)^2}} \\ \\ \\ \\ \\ \\mbox{and}   \\ \\ \\ \\ \\ \\ \\frac{d\\Delta}{dr} = \\frac{pv/r}{\\sqrt{r^2-(pv)^2}}.$$\n",
    "### **Time and distance of a ray**\n",
    "To find the total ray path length $s$ and the epicentral distance $\\Delta$ traveled by the ray, we integrate these expressions with regards to $r$."
   ]
  },
  {
   "cell_type": "markdown",
   "metadata": {
    "id": "ibOm9ZncUbpK"
   },
   "source": [
    "\n",
    "Let's consider a ray that starts and ends at the surface, and travels an epicentral distance $\\Delta$:\n",
    "![Figure 2](https://auckland.figshare.com/ndownloader/files/14754827)\n",
    "\n",
    "Then, we take advantage of the symmetry, by integrating twice from the point of maximum depth of the ray $r=r_0$ to the surface $r= R$:\n",
    "$$\n",
    "\\Delta(p) = 2 \\int_{r_0}^R \\frac{pv/r} {\\sqrt{r^2-(pv)^2}}dr.\n",
    "$$ \n",
    "\n",
    "The travel time requires integration of $\\frac{1}{v}\\frac{ds}{dr}$ over $r$, so that:\n",
    "$$\n",
    "T(p) = 2 \\int_{r_0}^R \\frac{r/v} {\\sqrt{r^2-(pv)^2}}dr.\n",
    "$$\n",
    "These equations could have also been derived directly from the Eikonal equation and the equation of kinematic ray tracing (see Aki and Richards, for example)."
   ]
  },
  {
   "cell_type": "markdown",
   "metadata": {
    "id": "qmjPsTUFUbpL"
   },
   "source": [
    "\n",
    "### **Rays in a sphere with constant speed**\n",
    "In his book *Principles of Seismology*, Udias derives expressions for travel time and epicentral distance from source to receiver for the special case of a sphere with radius $R$ and a constant speed: $v(r) =c$. In this simplest of cases, the rays don't bend: \n",
    "\n",
    "![Figure 3](https://auckland.figshare.com/ndownloader/files/14777435)\n",
    "\n",
    "The travel time for these rays with ray parameter $p$ is \n",
    "$$\n",
    "T(p) = \\frac{2}{c}\\sqrt{R^2-p^2c^2},\n",
    "$$\n",
    "and the epicentral distance is\n",
    "$$\n",
    "\\Delta(p) = 2\\cos^{-1}\\left(\\frac{pc}{R}\\right).\n",
    "$$"
   ]
  },
  {
   "cell_type": "markdown",
   "metadata": {
    "id": "oHnBXDfsUbpM"
   },
   "source": [
    "####  **Question 2**\n",
    "If you are a real buff in solving integrals analytically, you can set $v(r) = c$ and solve the integrals for $T$ and $\\Delta$ from earlier in this notebook, but they are not easy! Instead, convince yourself of Udias' results by differentiating the expressions for $T$ and $\\Delta$ with respect to $R=r$ to confirm the integrands for the general expressions of $T(p)$ and $\\Delta(p)$ stated earlier."
   ]
  },
  {
   "cell_type": "markdown",
   "metadata": {
    "id": "w7jtUALWUbpN"
   },
   "source": [
    "### Comparing analytic with numerical solutions\n",
    "\n",
    "We can now compare the analytic solution and the integral solution with a numerical approximation.\n",
    "The code cell below calculates and plots the analytic and numerical expression for the travel time as a function of take-off angle. "
   ]
  },
  {
   "cell_type": "code",
   "execution_count": null,
   "metadata": {
    "id": "POMI8qC5UbpN"
   },
   "outputs": [],
   "source": [
    "from scipy.integrate import quad\n",
    "import numpy as np\n",
    "import matplotlib.pyplot as plt\n",
    "%matplotlib notebook # comment this line out if you are using Colab, because it would not work.\n",
    "\n",
    "# Set the wavespeed and radius of the sphere:\n",
    "c = 8 # in km/s\n",
    "R = 6371 # radius in km\n",
    "\n",
    "# Function defining the integrand for travel time:\n",
    "def T_integrand(r, c, p):\n",
    "    return (2*r/c)/np.sqrt(r**2-(c*p)**2)\n",
    "\n",
    "# We define a range of incidence angles/slash ray parameters:\n",
    "angles = np.linspace(0.01,0.99*np.pi/2,100) # (almost) all angles, just avoiding some singularities\n",
    "ps = R*np.sin(angles)/c\n",
    "\n",
    "# the analytic travel times are:\n",
    "Ts_udias =  2*np.sqrt(R**2 - ps**2*c**2)/c\n",
    "\n",
    "# Compute a travel time t for each value of p:\n",
    "Ts= [] # set up a list for the travel times for each p\n",
    "for p in ps:\n",
    "    T= quad(T_integrand, p*c, R, args=(c,p))[0]\n",
    "    Ts.append(T)\n",
    "\n",
    "plt.figure()\n",
    "plt.plot(angles,Ts,label='numerical')\n",
    "plt.plot(angles,Ts_udias,linewidth=3, linestyle='--',label='analytical')\n",
    "plt.legend()\n",
    "plt.xlabel('Take-off angle (radians)')\n",
    "plt.ylabel('Arrival time (s)')\n",
    "plt.show()"
   ]
  },
  {
   "cell_type": "markdown",
   "metadata": {},
   "source": [
    "#### **Question 3**\n",
    "Calculate and plot the analytic and numerical solutions for the *epicentral distance* $\\Delta$ traveled by a ray as a function of its take-off angle."
   ]
  },
  {
   "cell_type": "markdown",
   "metadata": {
    "id": "AKCpP7R3UbpO"
   },
   "source": [
    "### The travel time of a specific ray\n",
    "Now that you have travel time $T$ and epicentral distance $\\Delta$ as a function of take of angle, you can determine the travel time of a ray that travels a certain epicentral distance!\n",
    "\n",
    "#### Question 4\n",
    "Plot travel time as a function of epicentral distance. "
   ]
  },
  {
   "cell_type": "code",
   "execution_count": null,
   "metadata": {
    "id": "-VnKjl8VUbpP"
   },
   "outputs": [],
   "source": [
    "#Plot here"
   ]
  },
  {
   "cell_type": "markdown",
   "metadata": {
    "id": "MWqPOhtoUbpP"
   },
   "source": [
    "Why is the relation between travel time and epicentral distance not linear? The velocity is constant, after all....\n",
    "A hint: plot travel time $T$ as a function of ray length $s$. To determine $s$, consider the triangle\n",
    "![Figure 4](https://auckland.figshare.com/ndownloader/files/14777429)\n",
    "and the sine rule that states $$\\frac{s}{\\sin(\\Delta)} = \\frac{R}{\\sin\\left(i\\right)} = \\frac{R}{\\sin\\left(\\frac{\\pi-\\Delta}{2}\\right)}.$$"
   ]
  },
  {
   "cell_type": "markdown",
   "metadata": {
    "id": "pBDc4O86UbpQ"
   },
   "source": [
    "#### Question 5\n",
    "\n",
    "Plot $s$ versus $T$ and explain what you see here. Why is it a straight line? What is the slope of this line?"
   ]
  },
  {
   "cell_type": "code",
   "execution_count": null,
   "metadata": {
    "id": "Yfmm71lfUbpQ"
   },
   "outputs": [],
   "source": [
    "# Make the plot linear"
   ]
  },
  {
   "cell_type": "markdown",
   "metadata": {},
   "source": [
    "### Primary and secondary waves\n",
    "So far, we did not discuss the waves represented here by rays. In the Earth, we generally have two kinds of waves that travel through the volume: P- and S-waves. Why are they called P- and S-wave? Hint: the equations for the P- and S-wave speeds hold the key to answering this question. Quote them in your report and discuss the three parameters in these definitions (assuming an isotropic medium).\n",
    "\n",
    "In isotropic media, The primary wave or P-wave speed is $$v_{P}=\\sqrt{\\frac{K+\\frac{4}{3}\\mu}{\\rho}},$$\n",
    "where $K$ is the bulk modulus, $\\mu$ the shear modulus, and $\\rho$ is the density. The S-wave speed is $$v_{S}=\\sqrt{\\frac{\\mu}{\\rho}}.$$ Note that $v_p< v_s$. Always.\n",
    "\n",
    "Not only are P-waves faster than S-waves, they also differ in terms of polarization. S-waves have transverse polarization, just like electromagnetic waves: particles excited by the S-wave are moving perpendicular to the direction of propagation. P-waves, on the other hand, have a longitudinal polarization: particles are moved by the P-wave *in* the direction of propagation."
   ]
  },
  {
   "cell_type": "markdown",
   "metadata": {
    "id": "fOoLiebuUbpS"
   },
   "source": [
    "## The Primary Reference Earth Model (PREM)\n",
    "\n",
    "In the Earth, the seismic wave speed is far from constant. For example, there is a sudden drop in wave speed (due to a phase change) from the outer to the inner core. More realistic P- and S-wave speeds as a function of the depth, based on seismic observations, are captured in the [Preliminary Reference Earth Model (PREM)](https://en.wikipedia.org/wiki/Preliminary_reference_Earth_model). The code cell below prints the columns of this model for the P-wave and the S-wave:"
   ]
  },
  {
   "cell_type": "code",
   "execution_count": null,
   "metadata": {
    "id": "FSW7x2sdUbpT"
   },
   "outputs": [],
   "source": [
    "import pandas as pd\n",
    "\n",
    "url = \"http://ds.iris.edu/files/products/emc/data/PREM/PREM_ANISOTROPIC.csv\"\n",
    "df = pd.read_csv(url, usecols=[0,2,3], names=['radius', 'vP','vS'], header=None)\n",
    "vp = np.array(df['vP'])/1000 # in km/s\n",
    "vs = np.array(df['vS'])/1000 # in km/s\n",
    "r = np.array(df['radius'])/1000 # radius in km\n",
    "plt.plot(r,vp,label='$V_p$')\n",
    "plt.plot(r,vs,label='$V_s$')\n",
    "plt.xlabel('Distance to the centre of the Earth (km)')\n",
    "plt.ylabel('Wave speed v (km/s)')\n",
    "plt.legend()\n",
    "plt.show()"
   ]
  },
  {
   "cell_type": "markdown",
   "metadata": {
    "id": "RC9NpLsmUbpT"
   },
   "source": [
    "### The main features of a radially symmetric Earth\n",
    "You can divide the PREM model in four regions. \n",
    "\n",
    "#### Question 6\n",
    "Discuss what you see in terms of these regions and relate these observations to what you know about the internal structure of the Earth from you courses in Earthscience from highschool or stage 1 at university.\n",
    "\n",
    "#### Question 7\n",
    "The PREM model you loaded in the pandas dataframe `df` has more columns than just $v_P$ and $v_S$.\n",
    "Plot the column with density of the Earth as a function of $r$. Discuss what you see, and compare this to $v_P$ and $v_S$. Now you know the equations for the wavespeeds, what does this tell you about the parameters involved?"
   ]
  },
  {
   "cell_type": "markdown",
   "metadata": {
    "id": "RC9NpLsmUbpT"
   },
   "source": [
    "### Travel times of seismic rays in the PREM model\n",
    "Let's estimate the P-wave travel time as a function of epicentral distance based on the PREM $v_P(r)$ and the integrals presented at the start of this notebook. But first, we must interpolate the PREM-supplied $v_P(r)$ to get a regularly spaced 1D array.\n",
    "\n",
    "#### Question 8\n",
    "Use the `scipy.interpolate.interp1d` function to create an array of velocities at 400 equally spaced depths in the Earth. The documentation online has examples on how to do interpolation with this function. Plot the interpolated line with the original `r` and `vp` values from above, and include a legend. Important: call the new 400 element array with depths `newx` and the new 400-element array with compressional wave speeds for each of these depths `newy`.\n"
   ]
  },
  {
   "cell_type": "code",
   "execution_count": null,
   "metadata": {
    "id": "LCtOfpllUbpU"
   },
   "outputs": [],
   "source": [
    "# Write your code here\n",
    "from scipy.interpolate import interp1d"
   ]
  },
  {
   "cell_type": "markdown",
   "metadata": {
    "id": "yKHQz_R4UbpU"
   },
   "source": [
    "### Integration by Riemann summation\n",
    "We'll evaluate the integrals by taking [Riemann sums](https://en.wikipedia.org/wiki/Riemann_sum) of the PREM velocity model for the (regular) $v_P(r)$ (you should not have to do anything for this code cell, but run it):"
   ]
  },
  {
   "cell_type": "code",
   "execution_count": null,
   "metadata": {
    "id": "8hrTJN3qUbpV"
   },
   "outputs": [],
   "source": [
    "r= newx\n",
    "vp = newy\n",
    "\n",
    "dr = r[0]-r[1] # is the constant for Riemann sums\n",
    "angles = np.linspace(0.05,0.95*np.pi/2,400) # defining a range of take off angles. Numerical instablities near 0 and 90 degrees need to be avoided.\n",
    "Tp = []\n",
    "Deltap = []\n",
    "\n",
    "for angle in angles:\n",
    "    p = r[0]*np.sin(angle)/vp[0] # constant ray parameter for each take-off angle\n",
    "    T = 0\n",
    "    Delta = 0\n",
    "    for i in range(1,len(r)):\n",
    "        if (p*vp[i])< r[i]: # consider the ray from the surface until it turns\n",
    "            denom = np.sqrt(r[i]**2- (p*vp[i])**2)\n",
    "            T = T + 2*dr*r[i]/vp[i]/denom\n",
    "            Delta = Delta + 2*dr*p*vp[i]/r[i]/denom\n",
    "        else:\n",
    "            break\n",
    "    Tp.append(T)\n",
    "    Deltap.append(Delta)\n",
    "\n",
    "plt.figure()\n",
    "plt.scatter(180*np.array(Deltap)/np.pi,np.array(Tp)/60, s=20)\n",
    "plt.xlabel('Epicentral distance (degrees)')\n",
    "plt.ylabel('Travel time (minutes)')\n",
    "plt.show()"
   ]
  },
  {
   "cell_type": "markdown",
   "metadata": {
    "id": "Qa8Nn8wsUbpV"
   },
   "source": [
    "These travel times are quite realistic, but as always: the devil is in the details. Our interpolation has smoothed out some important detail in the velocity model that is responsible for the (correct) P-wave [shadow zone](https://en.wikipedia.org/wiki/Shadow_zone), for example. More sophisticated schemes to estimate travel times for seismic arrivals are explored in the second part of this lab, where we use readily written code based on the (delay-time $\\tau$, ray parameter $p$)-domain, originally proposed by Buland and Chapman (1983), coded up in the [Taup toolkit](https://www.seis.sc.edu/taup/), and then wrapped in [ObsPy](https://github.com/obspy/obspy/wiki)."
   ]
  },
  {
   "cell_type": "markdown",
   "metadata": {
    "id": "KPfpiSLjcQPM"
   },
   "source": [
    "# **Tracing your own seismic ray paths through the Earth**\n",
    "\n",
    "The software we use for ray tracing in the Earth is called [“TauP”](https://pubs.geoscienceworld.org/ssa/srl/article/70/2/154/142385/the-taup-toolkit-flexible-seismic-travel-time-and). Information about the package, including the manual can be downloaded [here](http://www.seis.sc.edu/TauP/). This code should run in the notebook on Colab, but you are welcome to run the code locally on a lab computer or laptop. You could run TauP standalone, but [obspy](https://docs.obspy.org/) provides a Python class called\n",
    "Taup, which comes with a function [plot_ray_paths](https://docs.obspy.org/packages/autogen/obspy.taup.tau.plot_ray_paths.html#obspy.taup.tau.plot_ray_paths). This function can be used like this:"
   ]
  },
  {
   "cell_type": "code",
   "execution_count": null,
   "metadata": {
    "id": "PqdAFHANcUmt"
   },
   "outputs": [],
   "source": [
    "!pip install obspy # this is installing obspy if you do not have it yet.\n",
    "\n",
    "from obspy.taup.tau import plot_ray_paths\n",
    "plot_ray_paths(source_depth=100,phase_list=['P'],npoints=25)"
   ]
  },
  {
   "cell_type": "markdown",
   "metadata": {
    "id": "nNlCHG9sUbpV"
   },
   "source": [
    "#### Question 9\n",
    "Read the documentation for the `plot_rays` function and plot S- and P-wave arrivals from 0 to 360 degrees. Why are there gaps (shadows) in the arrivals?"
   ]
  },
  {
   "cell_type": "code",
   "execution_count": null,
   "metadata": {
    "id": "dkBSGblihkom"
   },
   "outputs": [],
   "source": [
    "# Write your code here"
   ]
  },
  {
   "cell_type": "markdown",
   "metadata": {
    "id": "uqWoXe9Uc79p"
   },
   "source": [
    "Besides your plain P- and S-wave phases, there are a host of other — more complicated — seismic ray paths from earthquake to receiver. [This link](http://www.iris.edu/data/vocab.htm) describes the naming conventions.\n",
    "\n",
    "#### Question 10\n",
    "What is a PKP ray?\n",
    "Plot the PKP rays and P rays from 0–360 degrees. If we consider PKP a direct compressional arrival, what is the range of the P-wave shadow zone?"
   ]
  },
  {
   "cell_type": "code",
   "execution_count": null,
   "metadata": {
    "id": "S86F3guMdC3g"
   },
   "outputs": [],
   "source": [
    "# Write code here"
   ]
  },
  {
   "cell_type": "markdown",
   "metadata": {
    "id": "7GIKufoYdGeR"
   },
   "source": [
    "#### Question 11\n",
    "\n",
    "Illustrate with a figure and explain in words why P-waves at smaller epicentral distances (0–35 degrees) appear to cross. To zoom in on the ray paths at smaller epicentral distance, use the option to plot ray paths in a Cartesian coordinate system. *Confirm the same occurs for S-waves*."
   ]
  },
  {
   "cell_type": "code",
   "execution_count": null,
   "metadata": {
    "id": "IfJ1ll7udQVB"
   },
   "outputs": [],
   "source": [
    "# Write code here"
   ]
  },
  {
   "cell_type": "markdown",
   "metadata": {
    "id": "mPrCJHRHUbpV"
   },
   "source": [
    "# **The travel times of seismic rays**\n",
    "\n",
    "The previous tasks involved mainly the spatial distribution of seismic ray paths in the earth. One of the simplest examples of using obspy is to create a travel time plot of different seismic phases. For example, if you execute the following three lines of code, the direct S-wave arrival time as a function of epicentral distance appears:"
   ]
  },
  {
   "cell_type": "code",
   "execution_count": null,
   "metadata": {
    "id": "EHanhuDsekRm"
   },
   "outputs": [],
   "source": [
    "from obspy.taup import plot_travel_times\n",
    "plot_travel_times(source_depth=100, phase_list=[\"S\"])"
   ]
  },
  {
   "cell_type": "markdown",
   "metadata": {
    "id": "tiMs3oT9eozP"
   },
   "source": [
    "#### Question 12\n",
    "\n",
    "Make one figure that contains the travel-time curves for P, S, SS, and PP arrivals at 100 points between 0 and 90 degrees epicentral distance, for an earthquake at 100 km depth. What are the definitions of these four wave types?"
   ]
  },
  {
   "cell_type": "code",
   "execution_count": null,
   "metadata": {
    "id": "YSVuVt8Beuyn"
   },
   "outputs": [],
   "source": [
    "# Write code here"
   ]
  },
  {
   "cell_type": "markdown",
   "metadata": {
    "id": "R8iVcplHUbpW"
   },
   "source": [
    "### Epicentre estimation from seismograms\n",
    "\n",
    "The previous analyses were based on models where the elastic properties only vary in the radial direction; in other words, the Earth we considered has a *spherical symmetry*. In the remainder of this lab, we will see that this assumption is good enough to estimate the epicentre of a real earthquake.\n",
    "\n",
    "#### Question 13\n",
    "\n",
    "The following code downloads seismic data for station SNZO from IRIS with the recordings of an Earthquake:"
   ]
  },
  {
   "cell_type": "code",
   "execution_count": null,
   "metadata": {
    "id": "m6EERRKTe3ku"
   },
   "outputs": [],
   "source": [
    "from obspy.clients.fdsn import Client\n",
    "from obspy.core import UTCDateTime\n",
    "\n",
    "client = Client(\"IRIS\") # IRIS is the host of the data\n",
    "t1 = UTCDateTime('2014-04-13T12:30:00.00') # start time\n",
    "t2 = t1 + 3600 # end time\n",
    "st = client.get_waveforms(\"IU\", \"SNZO\", \"00\", \"LHZ\", t1, t2)  # in later parts, you can ex-change SNZO for another stations.\n",
    "plt.figure()\n",
    "st.plot() \n",
    "plt.show()"
   ]
  },
  {
   "cell_type": "markdown",
   "metadata": {
    "id": "xkbh2Vv3UbpW"
   },
   "source": [
    "Zoom in on the part of the graph that you think contains the important body wave arrivals. If you use Colab, you cannot zoom in a figure panel, but you should use the [trim function](https://docs.obspy.org/packages/autogen/obspy.core.stream.Stream.trim.html). \n",
    "\n",
    "Identify the arrival time of the P, S, SS, and PP arrival. Your earlier work determines the order of these arrivals. \n",
    "\n",
    "By the way, the largest amplitudes in the seismogram are due to surface waves. Plot the arrivals on the graph by making use of this example code:"
   ]
  },
  {
   "cell_type": "code",
   "execution_count": null,
   "metadata": {},
   "outputs": [],
   "source": [
    "example_arrival = t1 + 1800\n",
    "fig = plt.figure()\n",
    "st.plot(fig=fig)\n",
    "ax = fig.gca()\n",
    "ax.axvline(x=example_arrival.datetime, label='Arrival', color='blue')\n",
    "plt.show()"
   ]
  },
  {
   "cell_type": "code",
   "execution_count": null,
   "metadata": {
    "id": "u85b5E25fG-D"
   },
   "outputs": [],
   "source": [
    "# Write your code here"
   ]
  },
  {
   "cell_type": "markdown",
   "metadata": {
    "id": "baHLLBx6UbpW"
   },
   "source": [
    "#### Question 14\n",
    "Calculate the delay times between the arrivals of P, S, PP, and SS waves. Use these delay times and your graph of predicted arrival times from before to estimate the epicentral distance of this earthquake."
   ]
  },
  {
   "cell_type": "code",
   "execution_count": null,
   "metadata": {
    "id": "tcAeUUc7miRe"
   },
   "outputs": [],
   "source": [
    "# Write code here"
   ]
  },
  {
   "cell_type": "markdown",
   "metadata": {
    "id": "jbkh2aolUbpX"
   },
   "source": [
    "#### Question 15\n",
    "\n",
    "Plot a circle with a radius equal to the epicentral distance from SNZO on a world map using this example code:"
   ]
  },
  {
   "cell_type": "code",
   "execution_count": null,
   "metadata": {
    "id": "gUm37DZGoVVH"
   },
   "outputs": [],
   "source": [
    "!pip install cartopy # install cartopy if you do not have it\n",
    "!pip uninstall -y shapely # this is a current issue with cartopy and shapely.\n",
    "!pip install shapely --no-binary shapely # hopefully, these two lines can go soon.\n",
    "\n",
    "import cartopy.crs as ccrs\n",
    "\n",
    "# define a map, and its projection:\n",
    "plt.figure(figsize=(15,15))\n",
    "ax = plt.axes(projection=ccrs.PlateCarree(central_longitude=180))\n",
    "ax.stock_img()\n",
    "\n",
    "# Plot a circle on the map, centered on \"station\" with a lat lon. The radius is \"radius\"\n",
    "station='SNZO'\n",
    "radius = 1000 #km\n",
    "lon= 174.704 \n",
    "lat=-41.309\n",
    "\n",
    "ax.tissot(rad_km=radius, lons=lon, lats=lat, alpha=0.2, color='r')\n",
    "ax.text(lon,lat,station,transform=ccrs.Geodetic())\n",
    "plt.show()"
   ]
  },
  {
   "cell_type": "markdown",
   "metadata": {},
   "source": [
    "#### Question 16\n",
    "With the code used to download data for station SNZO, obtain seismograms from two other stations. Then repeat steps 12-15 two draw two more circles on your map. [This page](https://www.fdsn.org/networks/detail/IU/) contains a map with all the different stations you could use and their corresponding station codes.\n",
    "#### Question 17\n",
    "Estimate the origin time $T_0$ and epicentre to find the most likely candidate for this earthquake. in an earthquake catalogue. Add the epicentre of this earthquake to your map to see how close your estimate is to that of the professionals. You may have to make a new map that zooms in around the epicentre to judge and discuss your results.  "
   ]
  },
  {
   "cell_type": "code",
   "execution_count": null,
   "metadata": {},
   "outputs": [],
   "source": []
  }
 ],
 "metadata": {
  "colab": {
   "collapsed_sections": [],
   "name": "ray-tracing-lab_2021.ipynb",
   "provenance": []
  },
  "kernelspec": {
   "display_name": "Python 3 (ipykernel)",
   "language": "python",
   "name": "python3"
  },
  "language_info": {
   "codemirror_mode": {
    "name": "ipython",
    "version": 3
   },
   "file_extension": ".py",
   "mimetype": "text/x-python",
   "name": "python",
   "nbconvert_exporter": "python",
   "pygments_lexer": "ipython3",
   "version": "3.10.4"
  }
 },
 "nbformat": 4,
 "nbformat_minor": 1
}
