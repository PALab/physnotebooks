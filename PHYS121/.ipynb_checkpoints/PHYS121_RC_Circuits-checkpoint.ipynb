{
 "cells": [
  {
   "cell_type": "markdown",
   "metadata": {},
   "source": [
    "# PHYSICS 121 Lab 1 *RC* Circuits\n",
    "## The purpose of this notebook\n",
    "This notebook is provided to help you plot your own experimental data collected in class. You will learn to:\n",
    "\n",
    "* create a simple scatter plot;\n",
    "* create a figure with two plots;\n",
    "* save a figure as a file;\n",
    "* compute natural logarithms;\n",
    "* fit linear models to data.\n",
    "\n",
    "## Import modules\n",
    "We will use Numpy, Matplotlib, and Scipy for this notebook. (More about Numpy, Matplotlib, and Scipy on https://www.scipy.org/.) "
   ]
  },
  {
   "cell_type": "code",
   "execution_count": 150,
   "metadata": {},
   "outputs": [],
   "source": [
    "# Import modules\n",
    "import numpy as np\n",
    "import matplotlib.pyplot as plt\n",
    "from scipy import stats\n",
    "\n",
    "# If you decide to increase or decrease the font size in figures later, you can turn on the following line of code.\n",
    "# plt.rcParams.update({'font.size': 16}) \n",
    "\n",
    "# Set the backend of matplotlib to the 'inline' backend so that plots appear below the code that produces them\n",
    "# (See details at the bottom of this webpage: https://ipython.readthedocs.io/en/stable/interactive/plotting.html)\n",
    "%matplotlib inline"
   ]
  },
  {
   "cell_type": "markdown",
   "metadata": {},
   "source": [
    "## Create a simple scatter plot\n",
    "\n",
    "Suppose we obtain the dataset below from an experiment. To assess the relationship between $x$ and $y$, we want to create a scatter plot of $x$-values (horizontal axis) against the $y$-values (vertical axis).\n",
    "\n",
    "$x$ value (unit)  | $y$ value (unit)\n",
    "------------------:|---------------:\n",
    "0.0               | 12.0\n",
    "1.0               | 7.3\n",
    "2.0               | 4.4\n",
    "3.0               | 2.5\n",
    "4.0               | 1.6\n",
    "5.0               | 1.0\n",
    "6.0               | 0.6\n",
    "7.0               | 0.4\n",
    "8.0               | 0.2\n",
    "\n",
    "\n",
    "We first create an array of `x` values and an array of `y` values:"
   ]
  },
  {
   "cell_type": "code",
   "execution_count": 151,
   "metadata": {},
   "outputs": [
    {
     "name": "stdout",
     "output_type": "stream",
     "text": [
      "9 , 9\n"
     ]
    }
   ],
   "source": [
    "x = np.array([0.0, 1.0, 2.0, 3.0, 4.0, 5.0, 6.0, 7.0, 8.0])\n",
    "y = np.array([12.0, 7.3, 4.4, 2.5, 1.6, 1.0, 0.6, 0.4, 0.2])\n",
    "\n",
    "# We can check the lengths of the x and y arrays match by using the command 'len()'.\n",
    "# If the lengths of these arrays don't match, then we know we should check the data pairs.\n",
    "print (len(x), ',', len(y))"
   ]
  },
  {
   "cell_type": "markdown",
   "metadata": {},
   "source": [
    "We now use the `plt.plot` function to produce a scatter plot:"
   ]
  },
  {
   "cell_type": "code",
   "execution_count": 152,
   "metadata": {},
   "outputs": [
    {
     "data": {
      "image/png": "[encoded data removed]",
      "text/plain": [
       "<matplotlib.figure.Figure at 0x7f1e6d1282b0>"
      ]
     },
     "metadata": {},
     "output_type": "display_data"
    }
   ],
   "source": [
    "# Plot data with blue circles at the data points (this is what 'bo' does - 'b' stands for blue and 'o' stands for circle)\n",
    "plt.plot(x, y, 'bo')\n",
    "\n",
    "# Attach labels and title (using LaTeX syntax)\n",
    "plt.xlabel('$x$ (unit)')\n",
    "plt.ylabel('$y$ (unit)')\n",
    "plt.title('Title here')\n",
    "\n",
    "# Display the figure\n",
    "plt.show()"
   ]
  },
  {
   "cell_type": "markdown",
   "metadata": {},
   "source": [
    "# Create a figure with two plots\n",
    "\n",
    "Suppose we have a second data set from the same experiment and would like to compare it with the first data set in a scatter plot.\n",
    "\n",
    "$x$ value (unit)  | $y$ value (unit)\n",
    "------------------:|---------------:\n",
    "0.0               | 11.9\n",
    "1.0               | 9.8\n",
    "2.0               | 7.9\n",
    "3.0               | 6.6\n",
    "4.0               | 5.4\n",
    "5.0               | 4.4\n",
    "6.0               | 3.6\n",
    "7.0               | 3.0\n",
    "8.0               | 2.4\n",
    "9.0               | 2.0\n",
    "10.0              | 1.6\n",
    "11.0              | 1.3\n",
    "12.0              | 1.1\n",
    "13.0              | 0.9\n",
    "14.0              | 0.7\n",
    "15.0              | 0.6"
   ]
  },
  {
   "cell_type": "code",
   "execution_count": 153,
   "metadata": {},
   "outputs": [
    {
     "data": {
      "image/png": "[encoded data removed]",
      "text/plain": [
       "<matplotlib.figure.Figure at 0x7f1e706d52b0>"
      ]
     },
     "metadata": {},
     "output_type": "display_data"
    }
   ],
   "source": [
    "# Create arrays for the second data set and give these different names\n",
    "x_new = np.array([0.0, 1.0, 2.0, 3.0, 4.0, 5.0, 6.0, 7.0, 8.0, 9.0, 10.0, 11.0, 12.0, 13.0, 14.0, 15.0])\n",
    "y_new = np.array([11.9, 9.8, 7.9, 6.6, 5.4, 4.4, 3.6, 3.0, 2.4, 2.0, 1.6, 1.3, 1.1, 0.9, 0.7, 0.6])\n",
    "\n",
    "# Create a figure with a specific name 'Test figure' - this will allow us to refer to this particular figure later on.\n",
    "plt.figure('Test figure')\n",
    "\n",
    "# Plot the first data set with blue circles ('bo') and the second data set with red crosses ('rx')\n",
    "# Add legend description for the two data sets\n",
    "plt.plot(x, y, 'bo', label='Legend 1')\n",
    "plt.plot(x_new, y_new, 'rx', label='Legend 2')\n",
    "\n",
    "# Attach labels and title \n",
    "plt.xlabel('$x$ (unit)')\n",
    "plt.ylabel('$y$ (unit)')\n",
    "plt.title('Title here')\n",
    "\n",
    "# Show the legend in the plot\n",
    "plt.legend()\n",
    "\n",
    "# Show a grid in the plot\n",
    "plt.grid(alpha=.4,linestyle='--')\n",
    "\n",
    "# Display the figure\n",
    "plt.show()"
   ]
  },
  {
   "cell_type": "markdown",
   "metadata": {},
   "source": [
    "# Save a figure as a file\n",
    "\n",
    "To save the figure with two datasets as a file, we will make use of 'savefig'."
   ]
  },
  {
   "cell_type": "code",
   "execution_count": 154,
   "metadata": {
    "scrolled": true
   },
   "outputs": [
    {
     "data": {
      "text/plain": [
       "<matplotlib.figure.Figure at 0x7f1e6d04bc50>"
      ]
     },
     "metadata": {},
     "output_type": "display_data"
    }
   ],
   "source": [
    "# Set the figure to save\n",
    "plt.figure('Test Figure') \n",
    "\n",
    "# Save the figure as a file in png, pdf or other formats\n",
    "plt.savefig('TestFigure.png', bbox_inches='tight') # The output figure is saved to your project folder by default.\n",
    "#plt.savefig('TestFigure.pdf', bbox_inches='tight')\n",
    "\n",
    "# It's possible to save the figure in png by drag-and-drop: click on the output figure and drag it to a folder on your computer."
   ]
  },
  {
   "cell_type": "markdown",
   "metadata": {},
   "source": [
    "# Compute natural logarithms\n",
    "\n",
    "Suppose we work out the relationship between $x$ and $y$ is an exponential one in our analysis, we can compute the values of $\\ln(y)$ to linearise the data and plot $x$ vs $\\ln{(y)}$. We will use the first dataset as an example below."
   ]
  },
  {
   "cell_type": "code",
   "execution_count": 155,
   "metadata": {},
   "outputs": [
    {
     "data": {
      "image/png": "[encoded data removed]",
      "text/plain": [
       "<matplotlib.figure.Figure at 0x7f1e6cddc860>"
      ]
     },
     "metadata": {},
     "output_type": "display_data"
    }
   ],
   "source": [
    "# Take the natural logarithm of y (this is what 'np.log(y)' does').\n",
    "# Plot data with blue diamond markers at the data points (this is what 'bd' does)\n",
    "# More on logarithms in numpy: https://docs.scipy.org/doc/numpy-1.15.0/reference/generated/numpy.log.html\n",
    "# More on marker types and colours: https://matplotlib.org/2.1.1/api/_as_gen/matplotlib.pyplot.plot.html\n",
    "plt.plot(x, np.log(y), 'bd') \n",
    "\n",
    "# Attach labels and title \n",
    "plt.xlabel('$x$ (unit)')\n",
    "plt.ylabel('$\\ln(y)$ (unit)')\n",
    "plt.title('Title here')\n",
    "\n",
    "# Display the figure\n",
    "plt.show()"
   ]
  },
  {
   "cell_type": "markdown",
   "metadata": {},
   "source": [
    "# Fit linear models to data\n",
    "\n",
    "We can now find the line of best fit in the linearised data by using *simple linear regression*."
   ]
  },
  {
   "cell_type": "code",
   "execution_count": 156,
   "metadata": {
    "scrolled": true
   },
   "outputs": [
    {
     "data": {
      "image/png": "[encoded data removed]",
      "text/plain": [
       "<matplotlib.figure.Figure at 0x7f1e6d131400>"
      ]
     },
     "metadata": {},
     "output_type": "display_data"
    },
    {
     "name": "stdout",
     "output_type": "stream",
     "text": [
      "-0.4998504091704745 2.4776378180054763 -0.999218547789066 4.388999502059293e-11 0.007473290997362307\n"
     ]
    }
   ],
   "source": [
    "# Find the line of best fit for the data\n",
    "slope, intercept, r_value, p_value, std_err = stats.linregress(x, np.log(y))\n",
    "\n",
    "# Create the line of best fit from the linear fit above\n",
    "line = slope*x + intercept\n",
    "\n",
    "# Plot the line of best fit in cyan and x vs ln(y) with blue diamonds\n",
    "plt.plot(x, line, 'c', label='Equation here')\n",
    "plt.plot(x, np.log(y),'bd')\n",
    "\n",
    "# Attach labels and title\n",
    "plt.xlabel('$x$ (unit)')\n",
    "plt.ylabel('$\\ln(y)$ (unit)')\n",
    "plt.title('Title here')\n",
    "\n",
    "# Add a grid to the plot\n",
    "plt.grid(alpha=.4,linestyle='--')\n",
    "\n",
    "# Show the legend in the plot\n",
    "plt.legend()\n",
    "\n",
    "# Display the figure\n",
    "plt.show()\n",
    "\n",
    "# Print the features from the linear fit\n",
    "print(slope, intercept, r_value, p_value, std_err)\n",
    "\n",
    "# After determining the slope and intercept, you can add the equation describing the linear model in the legend."
   ]
  }
 ],
 "metadata": {
  "kernelspec": {
   "display_name": "Python 3",
   "language": "python",
   "name": "python3"
  },
  "language_info": {
   "codemirror_mode": {
    "name": "ipython",
    "version": 3
   },
   "file_extension": ".py",
   "mimetype": "text/x-python",
   "name": "python",
   "nbconvert_exporter": "python",
   "pygments_lexer": "ipython3",
   "version": "3.7.10"
  }
 },
 "nbformat": 4,
 "nbformat_minor": 2
}
