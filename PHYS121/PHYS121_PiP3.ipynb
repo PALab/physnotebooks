{
 "cells": [
  {
   "cell_type": "markdown",
   "metadata": {},
   "source": [
    "# PiP 3: Analysis of Cyclotron Motion"
   ]
  },
  {
   "cell_type": "markdown",
   "metadata": {},
   "source": [
    "**Insert your name here**:\n",
    "\n",
    "\n",
    "(You are welcome to discuss your work with peers and staff, but you should complete this independently and submit it as an individual submission.)\n",
    "\n",
    "This notebook contains a total of 3 tasks, each worth 20 marks. You can get up to 60 marks in total.\n",
    "    \n",
    "You should **complete the whiteboard exercise on Canvas first**  (20 of 80 marks). Then, complete the notebook up to at least Task 1 in class, and submit your whole notebook on Canvas by 6 pm on Thursday 29th April (60 of 80 marks)."
   ]
  },
  {
   "cell_type": "markdown",
   "metadata": {},
   "source": [
    "## Derivation of differential equations for cyclotron motion\n",
    "\n",
    "In this notebook, we will explore the equations of motion for a charged particle with charge $q$, mass $m$ and velocity ${\\bf v} $ moving in a uniform magnetic field ${\\bf B}$. \n",
    "\n",
    "Our starting point in the whiteboard exercise was the equation for the Lorentz force (no electric field):\n",
    "\n",
    "$$ {\\bf F} = q {\\bf v} \\times {\\bf B}.$$\n",
    "\n",
    "Using this force as the net force in Newton's second law, we can find\n",
    "\n",
    "$$ {\\bf a} = \\frac{d {\\bf v}}{d t} = \\frac{q}{m} {\\bf v} \\times {\\bf B},$$\n",
    "\n",
    "where ${\\bf a}$ is the acceleration and ${\\bf v}$ the velocity of the particle. Note that the vector notation in this equation means that there are really 3 scalar equations.\n",
    "\n",
    "We know from class that the component of motion parallel to the magnetic field remains unchanged. If we can align the $z$ axis so that ${\\bf B} = B_0\\, \\hat{\\bf{k}}$, then the acceleration in $z$ direction $a_z$ is zero and we can reduce the problem to a two-dimensional one. We obtain a pair of coupled differential equations of **first order** (since we have **first derivatives**):\n",
    "\n",
    "$$ \\begin{align}\n",
    "\\frac{d v_x}{d t} & = \\omega \\: v_y \\\\\n",
    "\\frac{d v_y}{d t} & = -\\omega \\: v_x,\n",
    "\\end{align}\n",
    "$$\n",
    "introducing the cyclotron frequency $\\omega = B_0 q/m$.\n",
    "\n",
    "Note how the derivative of $v_x$ on the left hand side in the first equations depends on $v_y$ on the right hand side. The second equation shows similar coupling of $v_x$ and $v_y$. To solve for these components of the velocity,  we un-coupled these equations in the whiteboard exercise to\n",
    "$$ \n",
    "\\begin{align}\n",
    "\\frac{d^2 v_x}{d t^2} & = -\\omega \\: v_x \\\\\n",
    "\\frac{d^2 v_y}{d t^2} & = -\\omega \\: v_y,\n",
    "\\end{align}\n",
    "$$\n",
    "The de-coupling came at a cost, though; what used to be two first-order differential equations are now two second order differential equations. The good news is that the solutions are standard, and you confirmed on the whiteboard that they can be written as\n",
    "$$\n",
    "\\begin{align}\n",
    "v_x(t) =v \\cos(\\omega t-\\phi) \\\\\n",
    "v_y(t) =v \\sin(\\omega t-\\phi), \n",
    "\\end{align} $$\n",
    "where $v = \\sqrt{v_x^2+v_y^2}.$\n",
    "\n",
    "\n",
    "Integrating the solutions for the x and y components of the velocity, we find that\n",
    "\n",
    "$$ \\begin{align}\n",
    "r_x(t) =&\\;\\; \\frac{v}{\\omega}\\:\\sin(\\omega t-\\phi)+r_{xc}\\\\\n",
    "r_y(t) =&\\;\\; \\frac{v}{\\omega}\\: \\cos(\\omega t-\\phi) +r_{yc}\\\\\n",
    "\\end{align} $$\n",
    "\n",
    "where the phase $\\phi$ and initial velocities $v_x(t=0)=v_{x0}$ and $v_y(t=0)=v_{y0}$ are determined by the initial conditions. \n",
    "\n",
    "The position ($r_{xc},r_{yc}$) defines the centre of a circle describing the particle's motion in a cyclotron. If we move the origin of the coordinate system to the centre of the circle  $(r_{xc},r_{yc}) = (0,0)$ and set the initial phase to zero, $\\phi =0$, the expressions for the location and velocity of the particle reduce to:\n",
    "\n",
    "$$ \\begin{align}\n",
    "r_x(t) =\\frac{v}{\\omega} \\: \\sin(\\omega t)\\\\\n",
    "r_y(t) =\\frac{v}{\\omega} \\: \\cos(\\omega t)\\\\\n",
    "v_x(t) =v \\cos(\\omega t) \\\\\n",
    "v_y(t) =v \\sin(\\omega t) \n",
    "\\end{align} $$\n",
    "\n",
    "By inserting the solutions into the differential equations above, you can easily verify that the solutions are correct.\n",
    "\n",
    "To visualize the analytical solutions, we plot them using a couple of standard Python libraries:"
   ]
  },
  {
   "cell_type": "code",
   "execution_count": null,
   "metadata": {},
   "outputs": [],
   "source": [
    "import numpy as np\n",
    "import matplotlib.pyplot as plt"
   ]
  },
  {
   "cell_type": "markdown",
   "metadata": {},
   "source": [
    "Recall that ```numpy``` is a numerical library that contains a lot of useful mathematical functions. In order to use those functions we have to use the prefix ```np.``` in front of the function. E.g. $sin(x)$ would be implemented as ```np.sin(x)``` in python. ```matplotlib``` is a plotting library that we will use.\n",
    "\n",
    "### Initial conditions\n",
    "\n",
    "Next, we have to define our **inital conditions** and then we plot the solutions:\n",
    "\n",
    "Consider a particle with  $\\frac{q}{m}=1~\\text{C/kg}$  moving in a uniform magnetic field of $1~\\text{T}$ applied in $+z$-direction. At time $t=0$, it is located at $(r_{x0},r_{y0},r_{z0}) = (0, 10, 0)~\\text{m}$ and is travelling at a speed of $v = 10~\\text{m/s}$  in the $+x$-direction. Remember that we set the origin of the coordinate system to be the centre of the circular path that the particle will follow and the phase $\\phi$ to 0.\n",
    "\n",
    "We define the time range \\[```start_time```, ```end_time```\\] over which we want to track the motion of the particle by setting the initial time to zero and the number of loops to ```N_loops = 2```. Choose the number of steps per revolution to be ```steps_rev = 1000```. The cyclotron frequency ```omega``` as defined above determines the period of revolutions ```period_rev```. (Recall that the number $\\pi$ is implemented as ```np.pi```.) The ``end_time`` can then be determined from the number of loops and the period for one revolution. \n",
    "\n",
    "###  Task 1 [20 marks]\n",
    "\n",
    "(a) Enter the right initial conditions and formulae for the quantities calculated from the input in the code snippet below. If unsure how to do this, re-read the section on ***initial conditions*** above.\n",
    "    \n",
    "(b) Use the following code cells to calculate the $x$ and $y$ positions of the particle over time,  and the trajectory of the particle in the $x$-$y$ plane."
   ]
  },
  {
   "cell_type": "code",
   "execution_count": null,
   "metadata": {},
   "outputs": [],
   "source": [
    "q_m_ratio =        # charge-to-mass ratio\n",
    "B0 =               # magnetic field (homogeneous, in z direction) \n",
    "v =                # enter the correct initial velocity.\n",
    "phi =              # enter the correct phase\n",
    "rxc =              # enter the correct x-coordinate of the centre of the circle\n",
    "ryc =              # enter the correct y-coordinate of the centre of the circle\n",
    "start_time =       # enter the start time of the propagation\n",
    "N_loops =          # enter number of loops the particle should complete \n",
    "steps_rev =        # enter the number of time steps per revolution "
   ]
  },
  {
   "cell_type": "markdown",
   "metadata": {},
   "source": [
    "Calculate values from the input variables; do not re-enter numerical values"
   ]
  },
  {
   "cell_type": "code",
   "execution_count": null,
   "metadata": {},
   "outputs": [],
   "source": [
    "omega =                            # calculate the cyclotron frequency (from the input variables)\n",
    "\n",
    "period_osc =                      # calculate the period of the oscillation (from the input variables)\n",
    "\n",
    "end_time =                        # calculate the end time of the propagation (from the input variables)\n",
    "\n",
    "time_steps =                      # calculate the number of time steps (from the input variables)\n",
    "\n",
    "time = np.arange(start_time,end_time,time_steps) = # defininition of time array for propagation "
   ]
  },
  {
   "cell_type": "markdown",
   "metadata": {},
   "source": [
    "Let's now calculate the analytical solution for the position and velocity for all times:"
   ]
  },
  {
   "cell_type": "code",
   "execution_count": null,
   "metadata": {},
   "outputs": [],
   "source": [
    "exact_position_x = v/omega*np.sin(omega*time-phi) + rxc # multiplication with numpy array time yields a numpy array\n",
    "exact_position_y =\n",
    "exact_velocity_x = \n",
    "exact_velocity_y = "
   ]
  },
  {
   "cell_type": "markdown",
   "metadata": {},
   "source": [
    "And let's plot the particle's location as a function of time:"
   ]
  },
  {
   "cell_type": "code",
   "execution_count": null,
   "metadata": {},
   "outputs": [],
   "source": [
    "plt.figure()\n",
    "plt.plot(time,exact_position_x,linewidth=3,label='x position')\n",
    "plt.plot(time,exact_position_y,linewidth=3,label='y position')\n",
    "plt.legend()\n",
    "plt.title(f\"x and y component of particle's position vs. time\")\n",
    "plt.xlabel(f\"time [s]\") \n",
    "plt.ylabel(f\"position [m]\") \n",
    "plt.show()"
   ]
  },
  {
   "cell_type": "markdown",
   "metadata": {},
   "source": [
    "If we plot $r_y(t)$ against $r_x(t)$, the result should be a circle:"
   ]
  },
  {
   "cell_type": "code",
   "execution_count": null,
   "metadata": {},
   "outputs": [],
   "source": [
    "plt.figure()\n",
    "plt.plot(exact_position_x,exact_position_y)\n",
    "plt.axis('equal') #scale of x and y axes is the same to show that motion is along a circle\n",
    "plt.title(f\"cyclotron motion of particle in x-y plane\")\n",
    "plt.xlabel(f\"x position [m]\") \n",
    "plt.ylabel(f\"y position [m]\") \n",
    "plt.gca().set_aspect('equal') # a trick to make sure the x- and y-axis are of equal size.\n",
    "plt.show()"
   ]
  },
  {
   "cell_type": "markdown",
   "metadata": {},
   "source": [
    "### CHECKPOINT 1: \n",
    "    \n",
    "Do the plots look like you think they should? If not, check your initial conditions again.\n",
    "\n",
    "###  Task 2 [20 marks]\n",
    "\n",
    "Combine the code cells above to make a single program in a new cell below. Use the finished program to do the following:\n",
    "\n",
    "(a) Determine and show what happens to the radius of the path if the initial speed is doubled? And then halved? Are these results what you expect from the equations derived above?\n",
    "\n",
    "(b) Vary other constants/parameters and discuss/plot the differences in the cyclotron motion to show you understand the theory of the cyclotron as discussed in class and in your book in Section 29.7.\n",
    "\n",
    "\n",
    "## Numerical solution of the differential equations for cyclotron motion\n",
    "\n",
    "We have seen above that our problem can be written in the form of four coupled ordinary differential equations (ODEs) of first order:\n",
    "\n",
    "$$ \\begin{align}\n",
    "\\frac{d r_x}{d t} & = v_x \\\\\n",
    "\\frac{d r_y}{d t} & = v_y \\\\\n",
    "\\frac{d v_x}{d t} & = \\omega \\: v_y \\\\\n",
    "\\frac{d v_y}{d t} & = -\\omega \\: v_x\n",
    "\\end{align}\n",
    "$$\n",
    "The last two equations we derived on the whiteboard, and the first two are just the definition of the wavespeed in the x and y directions. The advantage here is that we have only first order equations to solve (good), but now we have four of them (bad). Lucky for us, scientific python provides a function to solve this system of first order ODEs in one line. First, we make a function that takes the positions, time, and angular frequency, and returns a vector with the ODEs: "
   ]
  },
  {
   "cell_type": "code",
   "execution_count": null,
   "metadata": {},
   "outputs": [],
   "source": [
    "def vectorfield(w, t, omega):\n",
    "    \"\"\"\n",
    "    Defines the differential equations for the cyclotron\n",
    "\n",
    "    Arguments:\n",
    "        w :  vector of the state variables:\n",
    "                  w = [x1,y1,x2,y2]\n",
    "        t :  time\n",
    "        omega = the angular frequency of the cyclotron\n",
    "    \"\"\"\n",
    "    rx, ry, vx, vy = w\n",
    "\n",
    "    # Create f = (x1',y1',x2',y2');\n",
    "    f = [vx,vy,omega*vy,-omega*vx]\n",
    "    return f"
   ]
  },
  {
   "cell_type": "markdown",
   "metadata": {},
   "source": [
    "Now, we can call the solver of these ODEs, odeint. \n",
    "\n",
    "The manual for odeint can be found at https://docs.scipy.org/doc/scipy/reference/generated/scipy.integrate.odeint.html and contains examples.\n",
    "\n",
    "The way it works, is that it calculates the solution at the initial conditions, then it uses this result to compute the next time step, etc. "
   ]
  },
  {
   "cell_type": "code",
   "execution_count": null,
   "metadata": {},
   "outputs": [],
   "source": [
    "from scipy.integrate import odeint\n",
    "\n",
    "# Initial conditions:\n",
    "rx = 0\n",
    "ry = 10\n",
    "vx = 10\n",
    "vy = 0\n",
    "\n",
    "# Pack up the parameters and initial conditions:\n",
    "w0 = [rx, ry, vx, vy]\n",
    "\n",
    "# Call the ODE solver:\n",
    "wsol = odeint(vectorfield, w0, time, args=(omega,))"
   ]
  },
  {
   "cell_type": "markdown",
   "metadata": {},
   "source": [
    "The output wsol is a vector with 4 columns (rx, ry, vx, and vy), for each time step. We can pick off individual columns from this array and plot them:"
   ]
  },
  {
   "cell_type": "code",
   "execution_count": null,
   "metadata": {},
   "outputs": [],
   "source": [
    "plt.figure()\n",
    "plt.plot(wsol[:,0],wsol[:,1]) # wsol[:,0] and wsol[:,1] are all values of r_x and r_y, respectively.\n",
    "plt.gca().set_aspect('equal') # a trick to make sure the x- and y-axis are of equal size.\n",
    "plt.xlabel('r$_x$ (m)')\n",
    "plt.ylabel('r$_y$ (m)')\n",
    "plt.show()"
   ]
  },
  {
   "cell_type": "markdown",
   "metadata": {},
   "source": [
    "## Quantifying the numerical error \n",
    "\n",
    "After we have successfully found a numerical solution, we can compare it to the analytical solution to look at any possible error in the numerical solution. \n",
    "\n",
    "###  Task 3 [20 marks]\n",
    "\n",
    "(a) Make a plot of the difference between the analytical and the numerical results for $r_x$ and $r_y$ for one revolution of the cyclotron. Comment on the absolute value of the accuracy of the numerical solution.\n",
    "\n",
    "(b) Extend the time array to include 8 revolutions of the particle; comment on the change in accuracy you observe. Note the (small) values on the y-axis!"
   ]
  },
  {
   "cell_type": "code",
   "execution_count": null,
   "metadata": {},
   "outputs": [],
   "source": []
  }
 ],
 "metadata": {
  "kernelspec": {
   "display_name": "Python 3",
   "language": "python",
   "name": "python3"
  },
  "language_info": {
   "codemirror_mode": {
    "name": "ipython",
    "version": 3
   },
   "file_extension": ".py",
   "mimetype": "text/x-python",
   "name": "python",
   "nbconvert_exporter": "python",
   "pygments_lexer": "ipython3",
   "version": "3.7.10"
  }
 },
 "nbformat": 4,
 "nbformat_minor": 4
}
