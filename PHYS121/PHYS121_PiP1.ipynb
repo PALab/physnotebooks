{
 "cells": [
  {
   "cell_type": "markdown",
   "metadata": {
    "id": "EuTDlo8abMhF"
   },
   "source": [
    "# Introduction to Programming in Python, PiP 1\n",
    "\n",
    "First double-click on \"Write your name here\" (or click on the edit button - pencil icon in the top right corner of this cell) and add your name. Press <kbd>Shift</kbd>+<kbd>Enter</kbd> to move on.\n",
    "\n",
    "**Write your name here:** your name"
   ]
  },
  {
   "cell_type": "markdown",
   "metadata": {
    "id": "QyxEphZmKXpe"
   },
   "source": [
    "This semester, we will be using Jupyter notebooks to write Python code for solving physics problems, analysing data, and modelling physical phenomena. This notebook provides a brief introduction to Python.\n",
    "\n",
    "**PiP1** is made up of a whiteboard exercise (20 marks), available on Canvas, and this notebook (60 marks). This notebook contains a total of **5 tasks**. The completed notebook has to be submitted by **Thursday, March 11th at 6 pm**.\n",
    "\n",
    "You are welcome to start on this notebook in advance. It is highly recommended that you do the whiteboard exercise first!\n"
   ]
  },
  {
   "cell_type": "markdown",
   "metadata": {
    "id": "VKWWvzGlKXpe"
   },
   "source": [
    "## Using Jupyter Notebooks\n",
    "\n",
    "A Jupyter notebook is a useful tool that allows you to add text and notes inline with your Python code and graphics (using the ```matplotlib``` library as described below). Further details are found at Jupyter's [homesite](https://jupyter.org/). \n",
    "\n",
    "A notebook is made up of **cells**. These can contain either text (Markdown), code, or results from running code. In order to evaluate code or convert Markdown code into pretty text, press <kbd>Shift</kbd>+<kbd>Enter</kbd> to move on to the next cell or <kbd>Ctrl</kbd>+<kbd>Enter</kbd> to stay in the same cell. More advanced *markdown* options are available [here](https://github.com/adam-p/markdown-here/wiki/Markdown-Cheatsheet). \n",
    "\n",
    "In order to generate a new code/text cell below the current cell, use the +Code or +Text button in the top left. \n",
    "\n",
    "In case you know how to write mathematical formulae with LateX, note that you can use LateX syntax to enter formulae in text cells."
   ]
  },
  {
   "cell_type": "markdown",
   "metadata": {
    "id": "PXIbykPLKXpf"
   },
   "source": [
    "<span style=\"color:red\"> Try it yourself: </span> \n",
    "* Make a new text cell below this cell and enter some text\n",
    "* Make a code cell copying in the following code\n",
    "\n",
    "```\n",
    "print('This is a code cell')\n",
    "2+2\n",
    "```\n",
    "\n",
    "* Execute the code cell."
   ]
  },
  {
   "cell_type": "markdown",
   "metadata": {
    "id": "phMiAaSYKXpf"
   },
   "source": [
    "Behind the scenes, for each notebook, there is a Python *kernel* running. The kernel remembers the values assigned to your variables and imported modules. You can reassign a variable later to a different value. "
   ]
  },
  {
   "cell_type": "markdown",
   "metadata": {
    "id": "QTybdgvvKXpf"
   },
   "source": [
    "## Navigating this Notebook\n",
    "\n",
    "If programming is totally new for you or you have never done Python before, we recommend that you go through the below sections step by step before attempting the tasks. Please make sure that you ask for help if needed.\n",
    "\n"
   ]
  },
  {
   "cell_type": "markdown",
   "metadata": {
    "id": "WHy1LBcwKXpg"
   },
   "source": [
    "## Background to Python\n",
    "\n",
    "\n",
    "Here, we will give you a very short introduction into Python, restricting us to the very basics that you will need to complete this first PiP. If you are unfamilar with Python or programming there are lots of resources on the web to help you learn in more detail. Python has fantastic help pages, as do the libraries we will use. We will give you examples of these resources in this notebook."
   ]
  },
  {
   "cell_type": "markdown",
   "metadata": {
    "id": "1q7D7_5eKXpg"
   },
   "source": [
    "## Expressions and Variables\n",
    "\n",
    "As you have already seen above you can use Python as a calculator, e.g. you can evaluate expressions like\n",
    "$\\frac{5*(7-3)^2}{10}$ in the following way:"
   ]
  },
  {
   "cell_type": "code",
   "execution_count": null,
   "metadata": {
    "id": "YSBmehMxKXph"
   },
   "outputs": [],
   "source": [
    "#Remember, in order to execute this cell, click on it and then press shift-return\n",
    "5*(7-3)**2/10"
   ]
  },
  {
   "cell_type": "markdown",
   "metadata": {
    "id": "lcFD2cSEKXph"
   },
   "source": [
    "Using variables is a very convenient way to store values to re-use later in the code, e.g."
   ]
  },
  {
   "cell_type": "code",
   "execution_count": null,
   "metadata": {
    "id": "gX8EeO3OKXph"
   },
   "outputs": [],
   "source": [
    "expression = 5*(7-3)**2"
   ]
  },
  {
   "cell_type": "markdown",
   "metadata": {
    "id": "aQUpqMPQKXph"
   },
   "source": [
    "The value of $5*(7-3)^2$ is now stored in the variable called ```expression```. In order to check it's value, we can use the ```print``` function."
   ]
  },
  {
   "cell_type": "code",
   "execution_count": null,
   "metadata": {
    "id": "XEJt-qRtKXpi"
   },
   "outputs": [],
   "source": [
    "print(expression)\n",
    "#we can now re-use the above expression to compute something else\n",
    "expression1 = expression / 10\n",
    "print(expression1)"
   ]
  },
  {
   "cell_type": "markdown",
   "metadata": {
    "id": "3lHqSLPfKXpi"
   },
   "source": [
    "Note, that in programming the ```=``` sign is an assignment and thus used differently than in maths. You always have to write the variable name first, and the value assigned to this variable after the ```=``` sign!\n",
    "\n",
    "You can easily change the value of your variable, even overwriting its value using the old value like in the following example, where the value of ```expression``` is overwritten with the square of its value. Have a look at the following example:"
   ]
  },
  {
   "cell_type": "code",
   "execution_count": null,
   "metadata": {
    "id": "34Jz8igxKXpi"
   },
   "outputs": [],
   "source": [
    "#change the value of the variable expression\n",
    "expression = 25\n",
    "print(expression)\n",
    "\n",
    "#overwrite the value of the variable expression by its square\n",
    "expression = expression**2\n",
    "\n",
    "print(expression)"
   ]
  },
  {
   "cell_type": "markdown",
   "metadata": {
    "id": "AefUgFzIKXpi"
   },
   "source": [
    "An often used short-hand notation is given by ```expression += 1``` which overrides the old value by the value increased by one, see below. In the same way one can subtract, multiply, and divide the original value by using ```-=```, ```*=``` and ```/=```, respectively."
   ]
  },
  {
   "cell_type": "code",
   "execution_count": null,
   "metadata": {
    "id": "lJZuiE-nKXpi"
   },
   "outputs": [],
   "source": [
    "expression = 625 # assigning the value 625 to the variable named expression\n",
    "\n",
    "#overwrite the value for expression by its old value + 1 and print\n",
    "expression += 1\n",
    "print(expression)\n",
    "\n",
    "#overwrite the value for expression by its old value + 1 \n",
    "expression += 1\n",
    "print(expression)\n",
    "\n",
    "#overwrite the value for expression by its old value - 2 \n",
    "expression -= 2\n",
    "print(expression)\n",
    "\n",
    "#and multiply by 4\n",
    "expression *= 4\n",
    "print(expression)"
   ]
  },
  {
   "cell_type": "markdown",
   "metadata": {
    "id": "GJbT7mp9KXpi"
   },
   "source": [
    "##  Task 1 (5 marks)\n",
    "\n",
    "\n",
    "* Make a new code cell below and use it for the following steps \n",
    "* Evaluate the expression $(25^2 - 25) /5 $ and store it in a variable called ```result```\n",
    "* Print the variable ```result```\n",
    "* Divide the variable ```result``` by 5 using short-hand notation and print again\n"
   ]
  },
  {
   "cell_type": "markdown",
   "metadata": {
    "id": "JxJ0pWJxKXpj"
   },
   "source": [
    "## Comments\n",
    "\n",
    "A comment is a non-code note within code. In Python, a comment is preceded by a ```#``` for single-line comments. A comment can take a whole line in your code or you can add a comment in the same line directly after the code snippet. For examples, see the code cells above or below. \n",
    "\n",
    "Comments are very useful as notes to yourself (the programmer) or to another user of your code. Try to get into the habit to write plenty of comments."
   ]
  },
  {
   "cell_type": "markdown",
   "metadata": {
    "id": "UMlDETq3KXpj"
   },
   "source": [
    "## Data Types\n",
    "\n",
    "\n",
    "Variables can be of different types, the important ones for us at present are integers (for whole numbers), floating point variables (for real numbers), and strings (for text). Look at the following examples:"
   ]
  },
  {
   "cell_type": "code",
   "execution_count": null,
   "metadata": {
    "id": "6jNsNCg7KXpj"
   },
   "outputs": [],
   "source": [
    "# Data types\n",
    "\n",
    "#integer\n",
    "a = 9\n",
    "print(a)\n",
    "print(type(a))\n",
    "\n",
    "#floating point; floats are indicated by a decimal point\n",
    "b = 5.0\n",
    "print(b)\n",
    "print(type(b))\n",
    "\n",
    "#string\n",
    "c = \"HEllO!\"\n",
    "print(c)\n",
    "print(type(c))"
   ]
  },
  {
   "cell_type": "markdown",
   "metadata": {
    "id": "lsz7QzBQKXpk"
   },
   "source": [
    "It is possible to convert between different data types, sometimes this is done implicitely. In particular, when dealing with integer and floats. See the following examples:"
   ]
  },
  {
   "cell_type": "code",
   "execution_count": null,
   "metadata": {
    "id": "Dq1v0mNKKXpk"
   },
   "outputs": [],
   "source": [
    "# Data conversion\n",
    "\n",
    "a = 10     #integer\n",
    "b = 5.0   #float\n",
    "\n",
    "c = a + b # integer plus float gives float\n",
    "print(c)\n",
    "print(type(c))\n",
    "\n",
    "b = 5     # overwrite variable b with an integer\n",
    "\n",
    "c = a + b\n",
    "print(c)\n",
    "print(type(c))\n",
    "\n",
    "\n",
    "d = a/b   # result of division of two integers gives float\n",
    "print(d)\n",
    "print(type(d))\n",
    "\n",
    "e = int(a/b) # if you want an integer you have to convert the float back to an integer\n",
    "print(e)\n",
    "print(type(e))\n"
   ]
  },
  {
   "cell_type": "markdown",
   "metadata": {
    "id": "XHBtrxrSKXpk"
   },
   "source": [
    "## Libraries\n",
    "\n",
    "The standard library in Python contains the most important general purpose types and functions, like e.g. the ```print``` function which we already used above (Documentation: https://docs.python.org/3/library/).\n",
    "There are also a lot of specialised libraries (called modules) available which have to be included before you can make use of the functions defined within that library. NumPy (http://www.numpy.org/) is a specialised library for numerical calculations which we will use a lot. We can include and use it in the following way:"
   ]
  },
  {
   "cell_type": "code",
   "execution_count": null,
   "metadata": {
    "id": "JhE4ILXJKXpk"
   },
   "outputs": [],
   "source": [
    "import numpy as np  # importing the specialised library NumPy\n",
    "                    # you could use a function 'func_name' from this library by writing numpy.func_name\n",
    "                    # to shorten the notation we use 'as np' which allows to write np.func_name instead\n",
    "    \n",
    "\n",
    "print(np.sqrt(4))   # example of the square-root function, defined in NumPy\n",
    "print(np.abs(-3))   # example for function that finds the absolute value of a number\n",
    "print(np.e)         # Euler's number e as defined in NumPy\n",
    "print(np.log(np.e)) # example of the ln function"
   ]
  },
  {
   "cell_type": "markdown",
   "metadata": {
    "id": "W9WVKp8pKXpk"
   },
   "source": [
    "Note, the many **comments** in the above code (using the ```#```); remember, everything after ```#``` is ignored when the program is executed but helps in making the program readable. "
   ]
  },
  {
   "cell_type": "markdown",
   "metadata": {
    "id": "87t6glCjKXpl"
   },
   "source": [
    "## Functions\n",
    "\n",
    "You can also easily define your own functions, the syntax for a function is:\n",
    "\n",
    "``` \n",
    "def func_name(parameter1,parameter2,...): \n",
    "    ... #statements which define function\n",
    "    return out1,out2,...\n",
    "```\n",
    "**Note** that all statements (including return) pertaining to the function **have to be indented** like shown in the example below. Subsequent code not included in the function definition is not indented anymore. \n",
    "\n",
    "Have a look at the example of a self-defined function ```my_power```:   "
   ]
  },
  {
   "cell_type": "code",
   "execution_count": null,
   "metadata": {
    "id": "O9SR2k3bKXpl"
   },
   "outputs": [],
   "source": [
    "def my_power(x, p):\n",
    "    '''Definition of our own function to calculate x to the power of p, x**p\n",
    "    \n",
    "    input variables: x and p are the parameters, that you have to specify when calling the function \n",
    "    x: base (can be integer or float)\n",
    "    p: exponent (can be integer or float)\n",
    "    output variable: y: contains the result x**p and is returned to the main program'''\n",
    "            \n",
    "    y = x**p            # function statements - note the indentation!\n",
    "    return y            # return the variable y (integer or float)"
   ]
  },
  {
   "cell_type": "markdown",
   "metadata": {
    "id": "O9SR2k3bKXpl"
   },
   "source": [
    "If you want to know how this function works, you can access the documentation (doc) string:  "
   ]
  },
  {
   "cell_type": "code",
   "execution_count": null,
   "metadata": {
    "id": "O9SR2k3bKXpl"
   },
   "outputs": [],
   "source": [
    "help(my_power) "
   ]
  },
  {
   "cell_type": "markdown",
   "metadata": {},
   "source": [
    "In the main program you can use your function by specifying the parameters of the function.\n",
    "To store the square of 4 in a variable a, we do:"
   ]
  },
  {
   "cell_type": "markdown",
   "metadata": {
    "id": "mw8Ld1_WKXpl"
   },
   "source": [
    "##  Task 2 (10 marks)\n",
    "\n",
    "* Write your own function ```my_log``` which evaluates $f(x,a) = \\ln{(a x^2)}$.  (5 marks)\n",
    "* Check that your function gives the desired outcomes by computing the results for simple examples where you know the answer already (using ```print``` statements). E.g., check the answer for $a=1$ and $x=1$ with ```print(my_log(1,1))``` as well as for $a=2$ and $x=1$, and $a=1$ and $x=2$. (5 marks)\n",
    "\n",
    "Hint: You will need the NumPy function ```np.log(x)``` to compute $ln(x)$."
   ]
  },
  {
   "cell_type": "code",
   "execution_count": null,
   "metadata": {},
   "outputs": [],
   "source": [
    "def my_log(a,x):\n",
    "    return np.log(a*x**2)"
   ]
  },
  {
   "cell_type": "markdown",
   "metadata": {
    "id": "-9TYfpn-KXpn"
   },
   "source": [
    "## Plots\n",
    "\n",
    "In order to be able to plot functions we have to import another standard Python library for plotting called ```matplotlib.pyplot```. We then plot the logarithm functions $\\ln(x^2)$ and $\\ln(2x^2)$ using our own function ```my_log(a,x)```. The plotting range is defined with the NumPy function ```np.arange(start, end, delta)```. E.g. ```np.arange(0, 5, 1)``` outputs a numpy array (0, 1, 2, 3, 4) - this concept will be explained in next section."
   ]
  },
  {
   "cell_type": "code",
   "execution_count": null,
   "metadata": {
    "id": "EShjzhS6KXpn"
   },
   "outputs": [],
   "source": [
    "import matplotlib.pyplot as plt  # access to functions of this library by using plt.func_name \n",
    "%matplotlib notebook \n",
    "#plot the Gauss function with the plot function from matplotlib\n",
    "start = 0.05\n",
    "stop= 5\n",
    "step =0.05\n",
    "x = np.arange(start,stop,step)      # this numpy function generates numbers between spacing and length\n",
    "                                                   # with the specified spacing\n",
    "\n",
    "plt.plot(x, my_log(x,1),label=\"a=1\")              # the actual plot of the function you defined above with a=1\n",
    "plt.plot(x, my_log(x,2),label=\"a=2\")              # the actual plot of the function you defined above with a=1\n",
    "plt.title(\"Logarithm function\")                   # title of plot\n",
    "plt.xlabel(\"x\")                                   # labelling of the axes \n",
    "plt.ylabel(\"f(x)\")\n",
    "plt.legend()                                      # adding legends\n",
    "plt.grid(True)                                    # adding a grid"
   ]
  },
  {
   "cell_type": "markdown",
   "metadata": {
    "id": "xVEvAwb6KXpo"
   },
   "source": [
    "## Arrays\n",
    "\n",
    "A NumPy array ```np.array()``` is a grid of values, all of the same data type (eg. integer or real number) and can be used to represent vectors and matrices. Learn how to write vectors and matrices by studying the examples below."
   ]
  },
  {
   "cell_type": "code",
   "execution_count": null,
   "metadata": {
    "id": "xtGf8YBoKXpo"
   },
   "outputs": [],
   "source": [
    "import numpy as np\n",
    "\n",
    "vec = np.array([1,2,3])   # a 3D vector \n",
    "print(vec)                # prints the whole vector\n",
    "print(vec[0])             # prints the first vector component (note: Python start with the index 0!!!)\n",
    "print(vec[2])             # prints the third vector component \n",
    "\n",
    "mat = np.array([[1,2],[3,4]]) # a (2x2) matrix\n",
    "print(mat)                    # prints the whole matrix\n",
    "print(mat[0,1])               # prints selected matrix element (here: first row, second column)"
   ]
  },
  {
   "cell_type": "markdown",
   "metadata": {
    "id": "aHN34FfzKXpo"
   },
   "source": [
    "You can do maths with arrays ... \n",
    "Try to understand what the following program is doing step by step, and predict the results before running it."
   ]
  },
  {
   "cell_type": "code",
   "execution_count": null,
   "metadata": {
    "id": "Fxi9yHJaKXpo"
   },
   "outputs": [],
   "source": [
    "import numpy as np\n",
    "\n",
    "vec1 = np.array([1,2,3])    # 3D vectors (array of rank 1)\n",
    "vec2 = np.array([-1,4,2])\n",
    "\n",
    "print(\"\\n Vector sum: \", vec1 + vec2)       # sum of two vectors\n",
    "\n",
    "mat = np.array([[1,2,3],[4,5,6],[7,8,9]])   #3x3 matrix (array of rank 2)\n",
    "print(\"\\n (3x3) Matrix: \", mat)\n",
    "\n",
    "xvec = np.zeros(3)          # initialise vector with zeros\n",
    "xvec[0] = 1                 # create unit vector in x-direction by overwriting the '0' for the first component\n",
    "\n",
    "yvec = np.zeros(3)          # unit vector in y-direction\n",
    "yvec[1] = 1 "
   ]
  },
  {
   "cell_type": "markdown",
   "metadata": {
    "id": "Fxi9yHJaKXpo"
   },
   "source": [
    "Python is very smart. You can now multiply these variables in a number of ways. If you want to multiply vectors term by term:"
   ]
  },
  {
   "cell_type": "code",
   "execution_count": null,
   "metadata": {},
   "outputs": [],
   "source": [
    "xvec*yvec"
   ]
  },
  {
   "cell_type": "code",
   "execution_count": null,
   "metadata": {
    "id": "Fxi9yHJaKXpo"
   },
   "outputs": [],
   "source": [
    "print(\"\\n Dot product of unit vectors in x and y-direction: \", np.dot(xvec,yvec))       # dot product  vector.vector\n",
    "print(\"\\n Dot product of matrix with unit vector in x-direction: \", np.dot(mat,xvec))   # dot product  matrix.vector \n",
    "\n",
    "print(\"\\n Cross product of unit vectors in x and y-direction:  \", np.cross(xvec,yvec))  # cross product vector x vector\n",
    " "
   ]
  },
  {
   "cell_type": "markdown",
   "metadata": {
    "id": "rJU3Br_2KXpo"
   },
   "source": [
    "##  Task 3 (15 marks)\n",
    "\n",
    "* Calculate the volume of the parallelepiped spanned by the vectors $\\vec{a}= (-2,3,1)$, $\\vec{b} = (0,4,0)$ and $\\vec{c} = (-1,3,3)$. Note, that you get the absolute value of $x$ by the numpy function ```np.abs(x)```. (5 marks)\n",
    "* Compare with your results from the whiteboard exercise. (2 marks)\n",
    "* Next, **define a function** that calculates the volume of a parallelepiped spanned by vectors $\\vec{a}$, $\\vec{b}$ and $\\vec{c}$. (5 marks)\n",
    "* Test your function by computing the volume of the cube spanned by the unit vectors and for the whiteboard example. (3 marks)\n",
    "\n",
    "Hint: If you want to comment on your results and compare with whiteboard results, you can either make use of the comment function or use the print function or make an extra text cell."
   ]
  },
  {
   "cell_type": "markdown",
   "metadata": {
    "id": "Wn5jXJVnKXpo"
   },
   "source": [
    "## Electric Field of a Point Charge\n",
    "\n",
    "Recall that for a point charge $q$ located at ${\\bf r}_0$ the electric field ${\\bf E}$ at a point ${\\bf r}$ is given by:\n",
    "\n",
    "$$ {\\bf E}({\\bf r}) = \\frac{1}{4 \\pi \\epsilon_0} \\frac{q}{|{\\bf r}- {\\bf r}_0|^3 } {({\\bf r}- {\\bf r}_0)}.$$\n",
    "\n",
    "Note how vectors $\\bf{E}$ and $\\bf{r}$ do not have an arrow over them, but the bold font used indicates a vector."
   ]
  },
  {
   "cell_type": "markdown",
   "metadata": {
    "id": "AosO8T_oKXpp"
   },
   "source": [
    "##  Task 4 (20 marks)\n",
    "\n",
    "* Below you find the definition of a function called ```E_point``` to compute the electric field ${\\bf E}$ at position ${\\bf r}$ when a point charge $q$ is located at position ${\\bf r_0}$. Familiarize yourself with the code. Do you understand what is done? If unsure, please ask! Or go back to the section on functions.\n",
    "* Fill in the blanks on the ..... below, to document what the function does step by step. Can you find (online) what np.linalg.norm does? (10 marks)\n",
    "* Test the function thouroughly: For example -- is the output of the function a vector? Are the values sensible? Use the whiteboard examples as test cases you can compare the answer to? That means, start with the case where the charge sits at the origin and calculate the electric field at ${\\bf r}=(2,0,0)$, ${\\bf r} = (\\sqrt{2}, \\sqrt{2}), 0)$ and ${\\bf r}=(0,2,0)$ for a charge of $q=1$. Next, change the variables ${\\bf r}, {\\bf r_0}$ and $q$ successively. (10 marks)"
   ]
  },
  {
   "cell_type": "code",
   "execution_count": null,
   "metadata": {
    "id": "MnB3YxeCKXpp"
   },
   "outputs": [],
   "source": [
    "from scipy.constants import epsilon_0 # here we import an important constant, called  the .....\n",
    "\n",
    "def E_point(q,r0,r):\n",
    "    'This function returns ........ in SI units of .... at coordinate ..., with a point charge of ... at coordinate ....'\n",
    "    dist3 =np.linalg.norm(r-r0)**3 # this line computes .....\n",
    "    E=(q/(4*np.pi*epsilon_0*dist3))*(r-r0)      \n",
    "    return E"
   ]
  },
  {
   "cell_type": "markdown",
   "metadata": {},
   "source": [
    "It is very important to realise that $\\bf{E}$ is a vector and has three components:"
   ]
  },
  {
   "cell_type": "code",
   "execution_count": null,
   "metadata": {
    "id": "MnB3YxeCKXpp"
   },
   "outputs": [],
   "source": [
    "help(E_point)\n",
    "r0 = np.array([0,0,0])\n",
    "r = np.array([0,2,0])\n",
    "print(E_point(2,r0,r))"
   ]
  },
  {
   "cell_type": "markdown",
   "metadata": {
    "id": "BJxbXSXivGIx"
   },
   "source": [
    "## Task 5 (10 marks)\n",
    "\n",
    "* Write a function to calculate the electric field at a position ${\\bf{r}}$ for an electric dipole with charges $q$ and $-q$ situated at posititions ${\\bf{r}}_{0,1}$ and ${\\bf{r}}_{0,2}$. (7 marks)\n",
    "\n",
    "* Compute the electric field for $q=1$ with ${\\bf{r}}_{0,1} = (0,0,0)$ and ${\\bf{r}}_{0,2} = (0,4,0)$ at ${\\bf{r}} = (0,2,0)$ and  ${\\bf{r}} = (\\sqrt{2},\\sqrt{2},0)$. (3 marks)\n",
    "\n",
    "Hint: Remember that you can use the principle of superposition to get the net electric field of several point charges - therefore you can make use of the definition of the function for the electric field of a point charge ```E_point(charge,r0,r)``` already defined above."
   ]
  },
  {
   "cell_type": "markdown",
   "metadata": {
    "id": "3EK5gqYyKXpp"
   },
   "source": [
    "## Visualization of the Electric Field of a Point Charge\n",
    "\n",
    "While plotting one dimensional graphs is relatively simple it does not always highlight the complexity of three-dimensional fields. However, viewing 3D graphs is hard - a good compromise is a 2D contour plot. Here we will learn how to construct contour plots using matplotlib. A simple example for a contour plot is found [here](https://matplotlib.org/stable/gallery/images_contours_and_fields/contour_demo.html).\n",
    "\n",
    "A contour plot is essentially a plot of a function $F(x,y)$ over a mesh of $x$ and $y$ values. In order to create the contour plot, we are thus going to need three arrays. One for the $x$ values, one for the $y$ values and one for the function values $F(x,y)$. The code is give below; in future PiPs you will be asked to code things like this.\n",
    "\n",
    "Our goal is to make a contour plot of the magnitude of the electric field in the x,y plane with a charge located at the origin at positions $(x, y)$.\n",
    "\n",
    "First, we make the mesh of points:"
   ]
  },
  {
   "cell_type": "code",
   "execution_count": null,
   "metadata": {},
   "outputs": [],
   "source": [
    "x=np.arange(-5,5,0.5)\n",
    "y=np.arange(-5,5,0.5)\n",
    "[xx,yy]=np.meshgrid(x,y)"
   ]
  },
  {
   "cell_type": "markdown",
   "metadata": {},
   "source": [
    "If we set $q/e_0=1$, then the x- and y- components of the Electric field are:"
   ]
  },
  {
   "cell_type": "code",
   "execution_count": null,
   "metadata": {},
   "outputs": [],
   "source": [
    "Ex = xx/(4*np.pi*(xx**2+yy**2)**(3/2))\n",
    "Ey = yy/(4*np.pi*(xx**2+yy**2)**(3/2))"
   ]
  },
  {
   "cell_type": "markdown",
   "metadata": {},
   "source": [
    "Now, we use the quiver and the contour functions to display the Electric field from this point charge at the origin:"
   ]
  },
  {
   "cell_type": "code",
   "execution_count": null,
   "metadata": {},
   "outputs": [],
   "source": [
    "fig,ax = plt.subplots()\n",
    "ax.quiver(xx,yy,Ex,Ey)\n",
    "zz = np.sqrt(Ex**2+Ey**2)\n",
    "ax.contour(xx,yy,zz,levels =np.logspace(-10,-2))\n",
    "ax.axis('equal')\n",
    "plt.show()"
   ]
  },
  {
   "cell_type": "markdown",
   "metadata": {
    "id": "IY8XWFEiKXpr"
   },
   "source": [
    "Does this plot displays the features you would expect for an electric field of a point charge? Look for symmetry, decay of the electric field with its distance from the charge. And why the pesky warning about true_divide, you think?"
   ]
  },
  {
   "cell_type": "code",
   "execution_count": null,
   "metadata": {},
   "outputs": [],
   "source": []
  }
 ],
 "metadata": {
  "colab": {
   "collapsed_sections": [
    "QTybdgvvKXpf",
    "mk9Dj_wlKXpg",
    "1q7D7_5eKXpg",
    "JxJ0pWJxKXpj",
    "UMlDETq3KXpj",
    "XHBtrxrSKXpk",
    "87t6glCjKXpl",
    "-9TYfpn-KXpn",
    "xVEvAwb6KXpo",
    "Wn5jXJVnKXpo",
    "3EK5gqYyKXpp",
    "a2pnuf8AKXpr",
    "BcwfkJioKXps"
   ],
   "name": "Copy of pip1_2021.ipynb",
   "provenance": [
    {
     "file_id": "1xccQoQQbwBGcmHuBpxRI_IbnFALo_347",
     "timestamp": 1614633853172
    },
    {
     "file_id": "1MVcSjuxEt-32Qi7E3eqt-4dUG2G4e0i4",
     "timestamp": 1613790743144
    }
   ]
  },
  "kernelspec": {
   "display_name": "Python 3",
   "language": "python",
   "name": "python3"
  },
  "language_info": {
   "codemirror_mode": {
    "name": "ipython",
    "version": 3
   },
   "file_extension": ".py",
   "mimetype": "text/x-python",
   "name": "python",
   "nbconvert_exporter": "python",
   "pygments_lexer": "ipython3",
   "version": "3.7.10"
  }
 },
 "nbformat": 4,
 "nbformat_minor": 1
}
