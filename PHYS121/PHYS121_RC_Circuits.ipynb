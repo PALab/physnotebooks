{
 "cells": [
  {
   "cell_type": "markdown",
   "metadata": {},
   "source": [
    "# PHYSICS 121 Lab 1 *RC* Circuits\n",
    "## The purpose of this notebook\n",
    "This notebook is provided to help you plot your own experimental data collected in class. You will learn to:\n",
    "\n",
    "* create a simple scatter plot;\n",
    "* create a figure with two plots;\n",
    "* save a figure as a file;\n",
    "* compute natural logarithms;\n",
    "* fit linear models to data.\n",
    "\n",
    "## Import modules\n",
    "We will use Numpy, Matplotlib, and Scipy for this notebook. Use google to find the up-to-date documentation on each of these modules. "
   ]
  },
  {
   "cell_type": "code",
   "execution_count": 1,
   "metadata": {},
   "outputs": [],
   "source": [
    "import numpy as np\n",
    "import matplotlib.pyplot as plt\n",
    "%matplotlib inline\n",
    "from scipy import stats\n",
    "import pandas as pd"
   ]
  },
  {
   "cell_type": "markdown",
   "metadata": {},
   "source": [
    "## Create a simple scatter plot\n",
    "\n",
    "Suppose we obtain the dataset below from an experiment. To assess the relationship between $x$ and $y$, we want to create a scatter plot of $x$-values (horizontal axis) against the $y$-values (vertical axis).\n",
    "\n",
    "$x$ value (unit)  | $y$ value (unit)\n",
    "------------------:|---------------:\n",
    "0.0               | 12.0\n",
    "1.0               | 7.3\n",
    "2.0               | 4.4\n",
    "3.0               | 2.5\n",
    "4.0               | 1.6\n",
    "5.0               | 1.0\n",
    "6.0               | 0.6\n",
    "7.0               | 0.4\n",
    "8.0               | 0.2\n",
    "\n",
    "and let's suppose you saved your data in a google docs spreadsheet linked\n",
    "[here.](https://docs.google.com/spreadsheets/d/1i5z3VpAYL3btennvo_V2wQaZxQXLtxJyVB7lbjmTeZ8)\n",
    "\n",
    "\n",
    "The module \"pandas\" can read (google doc) spreadsheets really easily. It places the spreadsheet in what it calls \"data frames.\" in 1 line:"
   ]
  },
  {
   "cell_type": "code",
   "execution_count": 2,
   "metadata": {},
   "outputs": [],
   "source": [
    "df = pd.read_csv('https://docs.google.com/spreadsheets/d/1i5z3VpAYL3btennvo_V2wQaZxQXLtxJyVB7lbjmTeZ8/export?format=csv')"
   ]
  },
  {
   "cell_type": "markdown",
   "metadata": {},
   "source": [
    "The only tricky bit is the very end of the address of the spreadsheet, after the ID of the spreadsheet, where you have to tell pandas explicitly this is a csv file. \n",
    "\n",
    "If you want to see what the dataframe df contains, simply:"
   ]
  },
  {
   "cell_type": "code",
   "execution_count": 3,
   "metadata": {},
   "outputs": [
    {
     "data": {
      "text/html": [
       "<div>\n",
       "<style scoped>\n",
       "    .dataframe tbody tr th:only-of-type {\n",
       "        vertical-align: middle;\n",
       "    }\n",
       "\n",
       "    .dataframe tbody tr th {\n",
       "        vertical-align: top;\n",
       "    }\n",
       "\n",
       "    .dataframe thead th {\n",
       "        text-align: right;\n",
       "    }\n",
       "</style>\n",
       "<table border=\"1\" class=\"dataframe\">\n",
       "  <thead>\n",
       "    <tr style=\"text-align: right;\">\n",
       "      <th></th>\n",
       "      <th>x-value</th>\n",
       "      <th>y-value</th>\n",
       "    </tr>\n",
       "  </thead>\n",
       "  <tbody>\n",
       "    <tr>\n",
       "      <th>0</th>\n",
       "      <td>0</td>\n",
       "      <td>12.0</td>\n",
       "    </tr>\n",
       "    <tr>\n",
       "      <th>1</th>\n",
       "      <td>1</td>\n",
       "      <td>7.3</td>\n",
       "    </tr>\n",
       "    <tr>\n",
       "      <th>2</th>\n",
       "      <td>2</td>\n",
       "      <td>4.4</td>\n",
       "    </tr>\n",
       "    <tr>\n",
       "      <th>3</th>\n",
       "      <td>3</td>\n",
       "      <td>2.5</td>\n",
       "    </tr>\n",
       "    <tr>\n",
       "      <th>4</th>\n",
       "      <td>4</td>\n",
       "      <td>1.6</td>\n",
       "    </tr>\n",
       "    <tr>\n",
       "      <th>5</th>\n",
       "      <td>5</td>\n",
       "      <td>1.0</td>\n",
       "    </tr>\n",
       "    <tr>\n",
       "      <th>6</th>\n",
       "      <td>6</td>\n",
       "      <td>0.6</td>\n",
       "    </tr>\n",
       "    <tr>\n",
       "      <th>7</th>\n",
       "      <td>7</td>\n",
       "      <td>0.4</td>\n",
       "    </tr>\n",
       "    <tr>\n",
       "      <th>8</th>\n",
       "      <td>8</td>\n",
       "      <td>0.2</td>\n",
       "    </tr>\n",
       "  </tbody>\n",
       "</table>\n",
       "</div>"
      ],
      "text/plain": [
       "   x-value  y-value\n",
       "0        0     12.0\n",
       "1        1      7.3\n",
       "2        2      4.4\n",
       "3        3      2.5\n",
       "4        4      1.6\n",
       "5        5      1.0\n",
       "6        6      0.6\n",
       "7        7      0.4\n",
       "8        8      0.2"
      ]
     },
     "execution_count": 3,
     "metadata": {},
     "output_type": "execute_result"
    }
   ],
   "source": [
    "df"
   ]
  },
  {
   "cell_type": "markdown",
   "metadata": {},
   "source": [
    "pandas assigned the first row of the spreadsheet as the headers, and pandas even has plotting tools, but that's for another time. We'll stick to your familiar way of plotting  arrays with matplotlib:"
   ]
  },
  {
   "cell_type": "code",
   "execution_count": 4,
   "metadata": {},
   "outputs": [
    {
     "data": {
      "image/png": "[encoded data removed]",
      "text/plain": [
       "<Figure size 432x288 with 1 Axes>"
      ]
     },
     "metadata": {
      "needs_background": "light"
     },
     "output_type": "display_data"
    }
   ],
   "source": [
    "x = df['x-value']\n",
    "y = df['y-value']\n",
    "\n",
    "# Plot data with blue circles at the data points (this is what 'bo' does - 'b' stands for blue and 'o' stands for circle)\n",
    "plt.plot(x, y, 'bo')\n",
    "\n",
    "# Attach labels and title (using LaTeX syntax)\n",
    "plt.xlabel('$x$ (unit)')\n",
    "plt.ylabel('$y$ (unit)')\n",
    "plt.title('Title here')\n",
    "\n",
    "# Display the figure\n",
    "plt.show()"
   ]
  },
  {
   "cell_type": "markdown",
   "metadata": {},
   "source": [
    "# Create a figure with two plots\n",
    "\n",
    "Suppose we have a second data set from the same experiment and would like to compare it with the first data set in a scatter plot.\n",
    "\n",
    "$x$ value (unit)  | $y$ value (unit)\n",
    "------------------:|---------------:\n",
    "0.0               | 11.9\n",
    "1.0               | 9.8\n",
    "2.0               | 7.9\n",
    "3.0               | 6.6\n",
    "4.0               | 5.4\n",
    "5.0               | 4.4\n",
    "6.0               | 3.6\n",
    "7.0               | 3.0\n",
    "8.0               | 2.4\n",
    "9.0               | 2.0\n",
    "10.0              | 1.6\n",
    "11.0              | 1.3\n",
    "12.0              | 1.1\n",
    "13.0              | 0.9\n",
    "14.0              | 0.7\n",
    "15.0              | 0.6\n",
    "\n",
    "If you do not feel comfortable using pandas to link to a spreadsheet, you can of course create an array for the second data set and give these different names:"
   ]
  },
  {
   "cell_type": "code",
   "execution_count": 5,
   "metadata": {},
   "outputs": [
    {
     "data": {
      "image/png": "[encoded data removed]",
      "text/plain": [
       "<Figure size 432x288 with 1 Axes>"
      ]
     },
     "metadata": {
      "needs_background": "light"
     },
     "output_type": "display_data"
    }
   ],
   "source": [
    "x_new = np.array([0.0, 1.0, 2.0, 3.0, 4.0, 5.0, 6.0, 7.0, 8.0, 9.0, 10.0, 11.0, 12.0, 13.0, 14.0, 15.0])\n",
    "y_new = np.array([11.9, 9.8, 7.9, 6.6, 5.4, 4.4, 3.6, 3.0, 2.4, 2.0, 1.6, 1.3, 1.1, 0.9, 0.7, 0.6])\n",
    "\n",
    "# Create a figure with a specific name 'Test figure' - this will allow us to refer to this particular figure later on.\n",
    "plt.figure('Test figure')\n",
    "\n",
    "# Plot the first data set with blue circles ('bo') and the second data set with red crosses ('rx')\n",
    "# Add legend description for the two data sets\n",
    "plt.plot(x, y, 'bo', label='Legend 1')\n",
    "plt.plot(x_new, y_new, 'rx', label='Legend 2')\n",
    "\n",
    "# Attach labels and title \n",
    "plt.xlabel('$x$ (unit)')\n",
    "plt.ylabel('$y$ (unit)')\n",
    "plt.title('Title here')\n",
    "\n",
    "# Show the legend in the plot\n",
    "plt.legend()\n",
    "\n",
    "# Show a grid in the plot\n",
    "plt.grid(alpha=.4,linestyle='--')\n",
    "\n",
    "# To save the figure as a file:\n",
    "plt.savefig('MyFigure.png')\n",
    "# Display the figure\n",
    "plt.show()"
   ]
  },
  {
   "cell_type": "markdown",
   "metadata": {},
   "source": [
    "# Compute natural logarithms\n",
    "\n",
    "Suppose we work out the relationship between $x$ and $y$ is an exponential one in our analysis, we can compute the values of $\\ln(y)$ to linearise the data and plot $x$ vs $\\ln{(y)}$. We will use the first dataset as an example below."
   ]
  },
  {
   "cell_type": "code",
   "execution_count": 6,
   "metadata": {},
   "outputs": [
    {
     "data": {
      "image/png": "[encoded data removed]",
      "text/plain": [
       "<Figure size 432x288 with 1 Axes>"
      ]
     },
     "metadata": {
      "needs_background": "light"
     },
     "output_type": "display_data"
    }
   ],
   "source": [
    "# Take the natural logarithm of y (this is what 'np.log(y)' does).\n",
    "# Plot data with blue diamond markers at the data points (this is what 'bd' does)\n",
    "plt.figure()\n",
    "plt.plot(x, np.log(y), 'bd') \n",
    "\n",
    "# Attach labels and title \n",
    "plt.xlabel('$x$ (unit)')\n",
    "plt.ylabel('$\\ln(y)$ (unit)')\n",
    "plt.title('Title here')\n",
    "\n",
    "# Display the figure\n",
    "plt.show()"
   ]
  },
  {
   "cell_type": "markdown",
   "metadata": {},
   "source": [
    "# Fit linear models to data\n",
    "\n",
    "We can find the line of best fit by using linear regression. Luckily, a function to do a linear regression is built into the \"stats\" module:"
   ]
  },
  {
   "cell_type": "code",
   "execution_count": 7,
   "metadata": {},
   "outputs": [],
   "source": [
    "slope, intercept, r_value, p_value, std_err = stats.linregress(x, np.log(y))"
   ]
  },
  {
   "cell_type": "markdown",
   "metadata": {},
   "source": [
    "The five arguments are assigned the values that fit the line the best. Next, we can use the slope, intercept and the array with x-values to define an array with points on this line:"
   ]
  },
  {
   "cell_type": "code",
   "execution_count": 8,
   "metadata": {},
   "outputs": [],
   "source": [
    "line = slope*x + intercept"
   ]
  },
  {
   "cell_type": "markdown",
   "metadata": {
    "scrolled": true
   },
   "source": [
    "Now we can plot the line of best fit in cyan and x vs ln(y) with blue diamonds, for example. Note the fancy way plot the parameters of the best fitting line in the legend:"
   ]
  },
  {
   "cell_type": "code",
   "execution_count": 9,
   "metadata": {
    "scrolled": true
   },
   "outputs": [
    {
     "data": {
      "image/png": "[encoded data removed]",
      "text/plain": [
       "<Figure size 432x288 with 1 Axes>"
      ]
     },
     "metadata": {
      "needs_background": "light"
     },
     "output_type": "display_data"
    }
   ],
   "source": [
    "plt.plot(x, line, 'c', label=f'y= {slope:.2f}x + {intercept:.2f}')\n",
    "plt.plot(x, np.log(y),'bd')\n",
    "\n",
    "# Attach labels and title\n",
    "plt.xlabel('$x$ (unit)')\n",
    "plt.ylabel('$\\ln(y)$ (unit)')\n",
    "plt.title(f'The p-value of the fit is {p_value:.2f}')\n",
    "\n",
    "# Add a grid to the plot\n",
    "plt.grid(alpha=.4,linestyle='--')\n",
    "\n",
    "# Show the legend in the plot\n",
    "plt.legend()\n",
    "\n",
    "# Display the figure\n",
    "plt.show()"
   ]
  }
 ],
 "metadata": {
  "kernelspec": {
   "display_name": "Python 3",
   "language": "python",
   "name": "python3"
  },
  "language_info": {
   "codemirror_mode": {
    "name": "ipython",
    "version": 3
   },
   "file_extension": ".py",
   "mimetype": "text/x-python",
   "name": "python",
   "nbconvert_exporter": "python",
   "pygments_lexer": "ipython3",
   "version": "3.7.10"
  }
 },
 "nbformat": 4,
 "nbformat_minor": 2
}
