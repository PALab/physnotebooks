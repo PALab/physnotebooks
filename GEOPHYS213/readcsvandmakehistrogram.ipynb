{
 "cells": [
  {
   "cell_type": "markdown",
   "id": "826a9c77",
   "metadata": {},
   "source": [
    "The pandas package in python is made to do data analysis. It is good at reading csv files (spreadsheets), and playing with the data. Here's how you can read your csv file from ImageJ:"
   ]
  },
  {
   "cell_type": "code",
   "execution_count": 1,
   "id": "5e94dcbb",
   "metadata": {},
   "outputs": [
    {
     "name": "stdout",
     "output_type": "stream",
     "text": [
      "      Area     Mean    Min      Max  Angle  Length\n",
      "0  1    52  102.494  1.850  229.699 -1.123  51.010\n",
      "1  2    60  116.278  0.667  249.333  0.000  59.000\n",
      "2  3    93   98.835  2.091  167.547 -4.351  92.266\n"
     ]
    }
   ],
   "source": [
    "import pandas as pd\n",
    "df = pd.read_csv('./Crater.csv')\n",
    "print(df)"
   ]
  },
  {
   "cell_type": "markdown",
   "id": "6381b5b4",
   "metadata": {},
   "source": [
    "In the code above, pandas read the csv file and put all the information in a \"dataframe\", as they call it. \n",
    "The read_csv function even reads the headers in the spreadsheet to name the columns! Making a histogram of any of the columns is easy. The column with the diameters is: "
   ]
  },
  {
   "cell_type": "code",
   "execution_count": 14,
   "id": "0c04a07d",
   "metadata": {},
   "outputs": [
    {
     "data": {
      "text/plain": [
       "<AxesSubplot:>"
      ]
     },
     "execution_count": 14,
     "metadata": {},
     "output_type": "execute_result"
    },
    {
     "data": {
      "image/png": "[encoded data removed]",
      "text/plain": [
       "<Figure size 432x288 with 1 Axes>"
      ]
     },
     "metadata": {
      "needs_background": "light"
     },
     "output_type": "display_data"
    }
   ],
   "source": [
    "df['Length'].hist(bins=5)"
   ]
  },
  {
   "cell_type": "markdown",
   "id": "6ff950f8",
   "metadata": {},
   "source": [
    "As with any python codes and packages, the online resources are numerous. Always start with reading the manual, but if the online manual (in this case https://pandas.pydata.org/) is unclear, a google search may solve your specific question. (posts on stackoverflow are often useful)."
   ]
  }
 ],
 "metadata": {
  "kernelspec": {
   "display_name": "Python 3 (ipykernel)",
   "language": "python",
   "name": "python3"
  },
  "language_info": {
   "codemirror_mode": {
    "name": "ipython",
    "version": 3
   },
   "file_extension": ".py",
   "mimetype": "text/x-python",
   "name": "python",
   "nbconvert_exporter": "python",
   "pygments_lexer": "ipython3",
   "version": "3.7.13"
  }
 },
 "nbformat": 4,
 "nbformat_minor": 5
}
