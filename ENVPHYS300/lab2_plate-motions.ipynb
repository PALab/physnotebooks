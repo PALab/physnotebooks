{
  "cells": [
    {
      "cell_type": "markdown",
      "metadata": {
        "id": "B5IcZ8Ksoe63"
      },
      "source": [
        "# **Geophysics 310 Lab 2: Plate Motions**\n",
        "\n",
        "The aim of this 310 lab is to understand the motions of Earth's tectonic plates, first in 1D geometry, and then on a sphere.\n",
        "\n",
        "**Lab work and submission:** Before starting, save a copy of this notebook to your Google Drive, and make sure you save regularly when working on it. Submit your .ipynb notebook file along with any other files or data through Canvas. You may complete the written exercises on paper or in a separate document, but make sure you upload all your working to Canvas and clearly label each problem."
      ]
    },
    {
      "cell_type": "markdown",
      "metadata": {
        "collapsed": true,
        "id": "GtONNgMMoe66"
      },
      "source": [
        "## **1   Objective**\n",
        "\n",
        "* Estimate the relative velocity of a plate on a flat Earth. \n",
        "\n",
        "* Estimate the relative velocity at a specific point on a plate for a spherical Earth. \n",
        "\n",
        "* By modifying a python code, estimate the speed of the Pacific and Australian plates with respect to each other for a margin that covers the subduction zone between New Zealand and Tonga. \n",
        "\n",
        "* Understand how your results compare with published data of the geologic setting (tectonic boundaries) of New Zealand."
      ]
    },
    {
      "cell_type": "markdown",
      "metadata": {
        "id": "USOKq-Ijoe69"
      },
      "source": [
        "## **2   Background**\n",
        "\n",
        "Plate tectonics is the study of the movement and evolution of rigid plates. A tectonic plate involves the lithosphere and part of the mantle and moves over the Asthenosphere, which is the viscous part of the Earth’s mantle. The location of seismic, volcanic and orogenetic activity tells us where these plate boundaries are. There are three types of plate boundaries: convergent (subduction), divergent (mid-ocean ridges) and transform. At convergent and divergent boundaries, Earth material is *recycled*. Transform boundaries are defined by strike slip (transform) faults, which provide stress relief in structures associated with divergent and convergent margins.\n",
        "\n",
        "Plate velocities are important to understand the formation of the Earth, the geological evolution of a region, as well as earthquake mechanics. Knowing how rocks geologically correlate between continents requires knowledge of plate velocities and geology, with implications to other fields: paleo-oceanography, paleo-climate and palaeontology, among others."
      ]
    },
    {
      "cell_type": "markdown",
      "metadata": {
        "id": "eDttjUD6oe6-"
      },
      "source": [
        "## **3   Plate velocities on a flat surface**\n",
        "\n",
        "We can measure velocities of plates relative to each other using vector analysis and trigonometry. Remember, all the plates are moving, so absolute values are hard to obtain over geological time. The velocity of Plate A with respect to a point on plate B is written as: ${}_{B}V_{A}$. It is clear that ${}_{B}V_{A}=-{}_{A}V_{B}$. To determine relative motion between multiple plates we use vector addition. If we know the relative velocity between plates A and B, and between A and C, we can determine the relative velocity between B and C by\n",
        "\n",
        "<div style=\"text-align: right;\">(1)</div>\n",
        "$${}_{C}V_{B}={}_{C}V_{A}+{}_{A}V_{B}$$\n",
        "\n",
        "**NOTE:** the magnitudes of plate velocities at transform and convergent margins are given as relative velocities (e.g. ${}_{B}V_{A}$). However, at divergent margins, the velocities are provided as half-spread values for each plate. Therefore, at a divergent margin you have to estimate the relative velocity: ${}_{B}V_{A}=V_{A}-V_{B}$, where $V_{A}$ and $V_{B}$ are absolute velocities of each of the plates on the sides of a mid-ocean ridge.\n",
        "\n",
        " **Exercise 1:** On Figure 1 complete the geological map by drawing the margin boundary symbols and estimate the relative velocity vectors for the boundary between plate A and B, and between A and C.\n",
        "\n",
        " **Exercise 2:** Estimate the direction (azimuth) and magnitude (speed) of the relative velocity of plate B with respect to C (${}_{C}V_{B}$). Draw your vector on Figure 1.\n",
        "\n",
        "![Figure 1: Flat Earth problem 1.](https://raw.githubusercontent.com/PALab/physnotebooks/main/GEOPHYS310/img/fig1.png)\n",
        "<center>Figure 1: Flat Earth for problem 1.</center>\n",
        "\n",
        " **Exercise 3:** Estimate the direction (azimuth) and magnitude (speed) of the relative velocity of plate D with respect to B (${}_{B}V_{D}$). Draw your vector on Figure 2.\n",
        "\n",
        "![Figure 2: Flat Earth problem 2.](https://raw.githubusercontent.com/PALab/physnotebooks/main/GEOPHYS310/img/fig2.png)\n",
        "<center>Figure 2: Flat Earth for problem 2.</center>"
      ]
    },
    {
      "cell_type": "markdown",
      "metadata": {
        "id": "ksQ9-k-moe6_"
      },
      "source": [
        "## **4   Plates on a spherical Earth**\n",
        "\n",
        "So far, you have calculated plate motion on a flat Earth. To apply such knowledge to our Earth, we need to define the movement of  plates on a sphere. Plate motion on a sphere can be harder to visualise compared to motion on a flat plane. In order to help you to understand the concepts in these sections, watch these two videos which demonstrate how we analyse the motion of tectonic plates on Earth:\n",
        "\n",
        "[Motion of a rigid plate across the surface of Earth](https://www.youtube.com/watch?v=_0mdH8NtJXE&authuser=0)\n",
        "\n",
        "[Plate tectonics](https://www.youtube.com/watch?v=zIirwtKLB1Y)\n",
        "\n",
        "\n",
        "In the videos, we saw that the motion of a plate can be described by rotation around a fixed axis. The point where the axis intersects the surface of the Earth is called Euler’s point or pole. (Note: this comes from a corollary to Euler’s theorem: \"*the displacement of a rigid body on the surface of a sphere is equivalent to the rotation about an axis that passes through its center*\".)  We can therefore estimate the movement of a plate on Earth by defining the location of the Euler’s pole and the angular velocity $\\omega$ of the plate. By using the *right hand rule* we are able to define the direction of the positive pole, and thus the direction of the positive angular velocity.\n",
        "\n",
        "For a spherical Earth we divide the sphere into *small* circles (think of a latitude **from** your Euler’s pole) and *great circles* (think of a longitude **from** your Euler’s pole). All the great circles have to cross the Euler’s pole. The velocity of the plate on the surface of the sphere depends on the angular distance from the pole. As for a flat Earth, relative angular velocity follows the same notation (${}_{B}\\omega_{A}$) and ${}_{B}\\omega_{A}=-{}_{A}\\omega_{B}$. Figure 3 shows the definitions of the movement of a plate on a sphere. We are interested in estimating the velocity at a specific point on the surface ($v_x$). The plate velocity at point $x$ depends on the angular velocity $\\omega$ and the angle (*latitude*) from Euler’s pole. It can be seen that velocity is maximum at the *equator* (referenced to this Euler pole) and decreases towards Euler’s pole. If we know the radius of the Earth ($R$), angular velocity of our plate, Euler’s pole location of that plate and the 'latitude' of the point of interest ($x$), we can estimate the velocity of the plate at $x$:\n",
        "\n",
        "<div style=\"text-align: right;\">(2)</div>\n",
        "$$v_x=\\omega{R}\\sin{\\theta}$$\n",
        "\n",
        "Next, we will see that if the angular velocity $\\omega$ of one plate with respect to another is known, and we know the location of the Euler’s pole for these plates, then we can calculate the relative velocity at a point $x$ ($v_x$) at any location on these plates.\n",
        "\n",
        "![Figure 3: Sketch of the definitions of small/great circles, Euler’s pole of rotation and angular (ω) and plate velocity (vx) at point x. Velocity at a point on the plate is tangent to the sphere’s surface and the maximum velocity is for a point on a plate that is 90◦ from Euler’s pole.](https://raw.githubusercontent.com/PALab/physnotebooks/main/GEOPHYS310/img/fig3.png)\n",
        "<center>Figure 3: Sketch of the definitions of small/great circles, Euler’s pole of rotation and angular ($\\omega$) and plate velocity ($v_x$) at point $x$. Velocity at a point on the plate is tangent to the sphere’s surface and the maximum velocity is for a point on a plate that is $90^\\circ$ from Euler’s pole.</center>"
      ]
    },
    {
      "cell_type": "markdown",
      "metadata": {
        "id": "Rq6VAoShoe7A"
      },
      "source": [
        "### 4.1   Plate speed and direction\n",
        "\n",
        " Now, the coordiante system we reference to is that of our geographic latitute and longitude (our Earth's rotational axis/pole). So you need to estimate $\\theta$ from the knowledge of the geographic latitude and longitude of Euler's pole ($\\lambda_P$, $\\phi_P$) for the 2 plates and the point of interest ($\\lambda_x$, $\\phi_x$). In this part of the lab you will derive/prove the equations you will use in the next sections. \n",
        " \n",
        " **Exercise 4:** By using Figure 4 and the spherical angle relation: $$\\cos(\\theta)\\equiv \\cos(b)\\cos(c)+\\sin(b)\\sin(c)\\cos(A),$$ show that the “latitude” $\\theta$ between the Euler pole and $x$ is\n",
        "\n",
        " <div style=\"text-align: right;\">(3)</div>\n",
        "    $$\\theta=\\cos^{-1}\\left[ \\sin(\\lambda_x)\\sin(\\lambda_P)+\\cos(\\lambda_x)\\cos(\\lambda_P)\\cos(\\phi_P-\\phi_x) \\right].$$\n",
        "\n",
        "We can plug this angle $\\theta$ into equation 2 to get the magnitude of the plate velocity: $v_x$. Now that we have the velocity magnitude, we need to know its orientation. The direction (azimuth) of this velocity vector is:\n",
        "\n",
        "<div style=\"text-align: right;\">(5)</div>\n",
        "$$\\beta=90^{\\circ}+C.$$\n",
        "\n",
        " **Exercise 5:** Using $\\frac{\\sin(\\theta)}{\\sin(A)}\\equiv\\frac{\\sin(c)}{\\sin(C)},$ show that:\n",
        "\n",
        "  <div style=\"text-align: right;\">(6)</div>\n",
        "    $$C=\\sin^{-1}\\left[ \\frac{\\cos(\\lambda_P)\\sin(\\phi_P-\\phi_x)}{\\sin(\\theta)} \\right].$$\n",
        "    \n",
        "  \n",
        "\n",
        "![Figure 4: A diagram showing the relative positions of the positive rotation pole P (i.e. Euler pole) and point x on the plate boundary. N is for North Pole. The sides of the spherical triangle NP$x$ are all great circles, the sides N$x$ and NP are lines of geographic longitude. The vector **v** (arrow) is the relative velocity at point $x$ on the plate boundary (note that **v** is perpendicular to $\\bar{P}x$). It is usual to quote the lengths of the sides of spherical triangles as angles (e.g. latitude and longitude when used as geographic coordinates).](https://raw.githubusercontent.com/PALab/physnotebooks/main/GEOPHYS310/img/fig4.png)\n",
        "<center>Figure 4: A diagram showing the relative positions of the positive rotation pole P (i.e. Euler pole) and point x on the plate boundary. N is for North Pole. The sides of the spherical triangle NP$x$ are all great circles, the sides N$x$ and NP are lines of geographic longitude. The vector **v** (arrow) is the relative velocity at point $x$ on the plate boundary (note that **v** is perpendicular to $\\bar{P}x$). It is usual to quote the lengths of the sides of spherical triangles as angles (e.g. latitude and longitude when used as geographic coordinates).</center>"
      ]
    },
    {
      "cell_type": "markdown",
      "metadata": {
        "id": "eRrzWEG5oe7B"
      },
      "source": [
        "### 4.2   Euler Poles\n",
        "\n",
        "From different geological and geophysical observations (e.g. transform faults, mid-ocean ridge spreading rates, magnetic reversals, etc.) geophysicists have defined the location of Euler’s pole and the angular velocity for the tectonic boundaries between two plates. Table 1 lists some of the major tectonic boundaries and their present-day motions.\n",
        "\n",
        "  **Exercise 6:** To get familiar with the equations in section 4.1, calculate the present day relative motion (direction and magnitude) for Santiago de Chile with respect to the Nazca plate. Assume the radius of the Earth is 6371 Km. Please do this calculation *by hand*, using equations in section 4.1 and Table 1.\n",
        "<br/><br/>\n",
        "\n",
        "<center>\n",
        "<table>\n",
        "  <tbody><tr><th></th><th></th><th>Positive-pole position</th><th>Angular velocity</th></tr>\n",
        "  <tr><th>Plates</th>                  <th>Latitude</th><th>Longitude</th><th>$(10^{-7}$deg yr${}^{-1})$</th></tr>\n",
        "  <tr><td>Africa-Antarctica</td>       <td>$5.6^{\\circ}$N</td><td>$39.2^{\\circ}$W</td><td>1.3</td></tr>\n",
        "  <tr><td>Africa-Eurasia</td>          <td>$21.0^{\\circ}$N</td><td>$20.6^{\\circ}$W</td><td>1.2</td></tr>\n",
        "  <tr><td>Africa-North America</td>    <td>$78.8^{\\circ}$N</td><td>$38.3^{\\circ}$W</td><td>2.4</td></tr>\n",
        "  <tr><td>Africa-South America</td>    <td>$62.5^{\\circ}$N</td><td>$39.4^{\\circ}$W</td><td>3.1</td></tr>\n",
        "  <tr><td>Australia-Antarctica</td>    <td>$13.2^{\\circ}$N</td><td>$38.2^{\\circ}$W</td><td>6.5</td></tr>\n",
        "  <tr><td>Pacific-Antarctica</td>      <td>$64.3^{\\circ}$N</td><td>$96.0^{\\circ}$W</td><td>8.7</td></tr>\n",
        "  <tr><td>South America-Antarctica</td><td>$86.4^{\\circ}$N</td><td>$139.3^{\\circ}$W</td><td>2.6</td></tr>\n",
        "  <tr><td>Arabia-Eurasia</td>          <td>$24.6^{\\circ}$N</td><td>$13.7^{\\circ}$W</td><td>5.0</td></tr>\n",
        "  <tr><td>India-Eurasia</td>           <td>$24.4^{\\circ}$N</td><td>$17.7^{\\circ}$W</td><td>5.1</td></tr>\n",
        "  <tr><td>Eurasia-North America</td>   <td>$62.4^{\\circ}$N</td><td>$135.8^{\\circ}$W</td><td>2.1</td></tr>\n",
        "  <tr><td>Eurasia-Pacific</td>         <td>$61.1^{\\circ}$N</td><td>$85.8^{\\circ}$W</td><td>8.6</td></tr>\n",
        "  <tr><td>Australia-Pacific</td>       <td>$60.1^{\\circ}$N</td><td>$6.3^{\\circ}$E</td><td>10.7</td></tr>\n",
        "  <tr><td>North America-Pacific</td>   <td>$48.7^{\\circ}$N</td><td>$78.2^{\\circ}$W</td><td>7.5</td></tr>\n",
        "  <tr><td>Cocos-North America</td>     <td>$27.9^{\\circ}$N</td><td>$120.7^{\\circ}$W</td><td>13.6</td></tr>\n",
        "  <tr><td>Nazca-Pacific</td>           <td>$55.6^{\\circ}$N</td><td>$90.1^{\\circ}$W</td><td>13.6</td></tr>\n",
        "  <tr><td>Nazca-South America</td>     <td>$56.0^{\\circ}$N</td><td>$94.0^{\\circ}$W</td><td>7.2</td></tr>\n",
        "  <tr><td><em>Note:</em> The first plate moves anticlockwise with respect to the second plate as shown.\n",
        "      <br><em>Source:</em> After DeMets *et al.* (1990; 1994).</td></tr>\n",
        "</tbody></table>\n",
        "Table 1: Current Euler poles and angular velocities for relative motion between pairs of plates: NUVEL-1A\n",
        "</center>"
      ]
    },
    {
      "cell_type": "markdown",
      "metadata": {
        "id": "-TVKZEoqoe7C"
      },
      "source": [
        "To get a feel for how plates move on a sphere, [check out this notebook](https://github.com/PALab/physnotebooks/blob/main/GEOPHYS310/lowrie_Euler-pole-rotation-of-a-tectonic-plate.ipynb) (from Lowrie's Fundamentals of Geophysics). You can copy the URL to run it on Colab if you like. Note: the exercises in that notebook would be good practice, but they are not part of this lab."
      ]
    },
    {
      "cell_type": "markdown",
      "metadata": {
        "id": "7T07gZ00oe7C"
      },
      "source": [
        "### 4.3   The Australian-Pacific margin\n",
        "\n",
        "Next, we will estimate the plate velocities at different points in the Australian-Pacific margin. It is very important that you know the direction of plate movement with respect to the positive pole (right-hand rule) and understand the plate direction and pole location in values reported in Table 1.\n",
        "\n",
        "You will use the python code below and equations previously derived to calculate the relative plate velocity (magnitude $v_x$ and direction $\\beta$) of the Pacific Plate at the following locations $x$:\n",
        "\n",
        "|Latitude at $x$ | Longitude at $x$ |\n",
        "| --- | --- |\n",
        "|14.515880 S | 173.078613 W|\n",
        "|16.168604 S | 172.089844 W|\n",
        "|17.891281 S | 172.419434 W|\n",
        "|19.659487 S | 172.924805 W|\n",
        "|21.347029 S | 173.62793  W|\n",
        "|22.974915 S | 174.440918 W|\n",
        "|24.343426 S | 175.231934 W|\n",
        "|26.388261 S | 175.319824 W|\n",
        "|28.339519 S | 175.671387 W|\n",
        "|30.596626 S | 176.52832  W|\n",
        "|32.820826 S | 177.429199 W|\n",
        "|34.990703 S | 178.330078 W|\n",
        "|36.718045 S | 179.274902 W|\n",
        "|38.062220 S | 179.736328 E|\n",
        "|39.195083 S | 178.967285 E|\n",
        "|40.041354 S | 178.59375  E|\n",
        "|40.893861 S | 178.088379 E|\n",
        "|41.571348 S | 176.989746 E|\n",
        "|41.964664 S | 175.605469 E|\n",
        "|42.582478 S | 174.70459  E|\n",
        "|43.162184 S | 173.803711 E|\n",
        "|43.831621 S | 173.408203 E|\n",
        "\n",
        "The following locations are on the __Australian Plate__ (thus you have to consider the right hand rule here for these positions)\n",
        "\n",
        "|Latitude at $x$ | Longitude at $x$ |\n",
        "| --- | --- |\n",
        "|46.679594 S | 164.223633 E|\n",
        "|48.283193 S | 163.696289 E|\n",
        "|49.525208 S | 162.685547 E|\n",
        "|51.124213 S | 160.927734 E|\n",
        "\n",
        "**Exercise 7:** Modify the provided Python code to plot the locations on a map with the estimated velocity vectors (showing direction and magnitude). Feel free to add any other relevant data to the map (e.g. plate boundaries)! This may work better if you copy this code and run it on a local install of Python/Anaconda on your own computer or a lab computer (but make sure you submit the Python file with your answers). If you run your code on Colab, we need to install cartopy first:"
      ]
    },
    {
      "cell_type": "code",
      "execution_count": null,
      "metadata": {
        "id": "Ip_rYAoroe7F"
      },
      "outputs": [],
      "source": [
        "!pip install cartopy\n",
        "!pip uninstall -y shapely\n",
        "!pip install shapely --no-binary shapely"
      ]
    },
    {
      "cell_type": "code",
      "execution_count": null,
      "metadata": {
        "id": "tPlgIBH2oe7G"
      },
      "outputs": [],
      "source": [
        "import math\n",
        "import numpy as np\n",
        "import matplotlib.pyplot as plt\n",
        "import cartopy.crs as ccrs\n",
        "\n",
        "# Uncomment these lines if you want to avoid those pesky warnings appearing every time!\n",
        "#import warnings\n",
        "#warnings.filterwarnings(\"ignore\")\n",
        "\n",
        "plt.rcParams[\"figure.figsize\"] = (7,9)\n",
        "\n",
        "# Set up the map\n",
        "plt.figure()\n",
        "ax = plt.axes(projection=ccrs.PlateCarree(central_longitude=180))\n",
        "extent = [160, 195, -10, -55]\n",
        "ax.set_extent(extent, crs=ccrs.PlateCarree())\n",
        "\n",
        "# Add coastlines, gridlines, and colour\n",
        "ax.coastlines(resolution='50m')\n",
        "ax.stock_img()\n",
        "\n",
        "#Plot an arrow on the map\n",
        "u1 = 5\n",
        "v1 = 2\n",
        "lat = -32.832\n",
        "lon = -177.43\n",
        "    \n",
        "plt.arrow(lon,lat,u1,v1,color='red',zorder=1,head_width=0.5, head_length=.5,linewidth=2,transform=ccrs.PlateCarree())\n",
        "\n",
        "plt.show()"
      ]
    },
    {
      "cell_type": "markdown",
      "metadata": {
        "id": "T0FXC01Coe7G"
      },
      "source": [
        "**Exercise 8:** Compare your calculations (directions and magnitudes of the plate relative velocity) to existing publications on this plate boundary __from New Zealand to Tonga__. Briefly explain the geologic nature of this tectonic boundary. Based you your research, does plate speed correlate to the number of earthquakes (over a period) in that region? Remember to provide the references to your literature search."
      ]
    },
    {
      "cell_type": "code",
      "execution_count": null,
      "metadata": {
        "id": "HofbPlkNoe7H"
      },
      "outputs": [],
      "source": [
        ""
      ]
    }
  ],
  "metadata": {
    "kernelspec": {
      "display_name": "Python 3",
      "language": "python",
      "name": "python3"
    },
    "language_info": {
      "codemirror_mode": {
        "name": "ipython",
        "version": 3
      },
      "file_extension": ".py",
      "mimetype": "text/x-python",
      "name": "python",
      "nbconvert_exporter": "python",
      "pygments_lexer": "ipython3",
      "version": "3.6.13"
    },
    "colab": {
      "name": "lab2_plate-motions.ipynb",
      "provenance": [],
      "collapsed_sections": []
    }
  },
  "nbformat": 4,
  "nbformat_minor": 0
}