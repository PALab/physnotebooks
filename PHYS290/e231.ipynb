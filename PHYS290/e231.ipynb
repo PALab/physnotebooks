{
 "cells": [
  {
   "cell_type": "markdown",
   "id": "8f57f380",
   "metadata": {},
   "source": [
    "There are many ways to read files in python. One of the easiest and most powerful ways is using a module called pandas. The documentation can be read here: https://pandas.pydata.org/docs/user_guide/index.html#user-guide."
   ]
  },
  {
   "cell_type": "code",
   "execution_count": 1,
   "id": "a6b4e3c6",
   "metadata": {},
   "outputs": [],
   "source": [
    "import pandas as pd"
   ]
  },
  {
   "cell_type": "markdown",
   "id": "995831c0",
   "metadata": {},
   "source": [
    "For experiment 231, you record the intensity of light as a function of position. The format of the files is fixed. Open the file in a text editor and you can see what we are talking about. There is meta data on the first 10 lines, followed by (x,y) data where x is the location, and y the intensity. \n",
    "\n",
    "Now, define the file(name) you want to read, and make a \"dataframe\" with the function read_csv from pandas:"
   ]
  },
  {
   "cell_type": "code",
   "execution_count": 2,
   "id": "662783fb",
   "metadata": {},
   "outputs": [],
   "source": [
    "filename = 'greensingle0.02mm.txt' # if the file is not in the same folder as this code, you need to define the path to it\n",
    "df = pd.read_csv(filename,skiprows=10,names=['position','intensity'])"
   ]
  },
  {
   "cell_type": "markdown",
   "id": "feae15d8",
   "metadata": {},
   "source": [
    "Note how we defined a name for each column, and skipped the 10 rows with metadata. You can do a lot of things with data frames. For starters, you can check what is in it, easily:"
   ]
  },
  {
   "cell_type": "code",
   "execution_count": 3,
   "id": "8fce35ff",
   "metadata": {},
   "outputs": [
    {
     "data": {
      "text/html": [
       "<div>\n",
       "<style scoped>\n",
       "    .dataframe tbody tr th:only-of-type {\n",
       "        vertical-align: middle;\n",
       "    }\n",
       "\n",
       "    .dataframe tbody tr th {\n",
       "        vertical-align: top;\n",
       "    }\n",
       "\n",
       "    .dataframe thead th {\n",
       "        text-align: right;\n",
       "    }\n",
       "</style>\n",
       "<table border=\"1\" class=\"dataframe\">\n",
       "  <thead>\n",
       "    <tr style=\"text-align: right;\">\n",
       "      <th></th>\n",
       "      <th>position</th>\n",
       "      <th>intensity</th>\n",
       "    </tr>\n",
       "  </thead>\n",
       "  <tbody>\n",
       "    <tr>\n",
       "      <th>0</th>\n",
       "      <td>1183</td>\n",
       "      <td>0</td>\n",
       "    </tr>\n",
       "    <tr>\n",
       "      <th>1</th>\n",
       "      <td>1182</td>\n",
       "      <td>0</td>\n",
       "    </tr>\n",
       "    <tr>\n",
       "      <th>2</th>\n",
       "      <td>1181</td>\n",
       "      <td>0</td>\n",
       "    </tr>\n",
       "    <tr>\n",
       "      <th>3</th>\n",
       "      <td>1180</td>\n",
       "      <td>0</td>\n",
       "    </tr>\n",
       "    <tr>\n",
       "      <th>4</th>\n",
       "      <td>1179</td>\n",
       "      <td>0</td>\n",
       "    </tr>\n",
       "    <tr>\n",
       "      <th>...</th>\n",
       "      <td>...</td>\n",
       "      <td>...</td>\n",
       "    </tr>\n",
       "    <tr>\n",
       "      <th>1628</th>\n",
       "      <td>-443</td>\n",
       "      <td>0</td>\n",
       "    </tr>\n",
       "    <tr>\n",
       "      <th>1629</th>\n",
       "      <td>-444</td>\n",
       "      <td>0</td>\n",
       "    </tr>\n",
       "    <tr>\n",
       "      <th>1630</th>\n",
       "      <td>-445</td>\n",
       "      <td>0</td>\n",
       "    </tr>\n",
       "    <tr>\n",
       "      <th>1631</th>\n",
       "      <td>-446</td>\n",
       "      <td>0</td>\n",
       "    </tr>\n",
       "    <tr>\n",
       "      <th>1632</th>\n",
       "      <td>-447</td>\n",
       "      <td>0</td>\n",
       "    </tr>\n",
       "  </tbody>\n",
       "</table>\n",
       "<p>1633 rows × 2 columns</p>\n",
       "</div>"
      ],
      "text/plain": [
       "      position  intensity\n",
       "0         1183          0\n",
       "1         1182          0\n",
       "2         1181          0\n",
       "3         1180          0\n",
       "4         1179          0\n",
       "...        ...        ...\n",
       "1628      -443          0\n",
       "1629      -444          0\n",
       "1630      -445          0\n",
       "1631      -446          0\n",
       "1632      -447          0\n",
       "\n",
       "[1633 rows x 2 columns]"
      ]
     },
     "execution_count": 3,
     "metadata": {},
     "output_type": "execute_result"
    }
   ],
   "source": [
    "df"
   ]
  },
  {
   "cell_type": "markdown",
   "id": "83b42b23",
   "metadata": {},
   "source": [
    "To plot the intensity versus the position of the detector, type:"
   ]
  },
  {
   "cell_type": "code",
   "execution_count": 4,
   "id": "e2a8ce59",
   "metadata": {},
   "outputs": [
    {
     "data": {
      "text/plain": [
       "<AxesSubplot:xlabel='position'>"
      ]
     },
     "execution_count": 4,
     "metadata": {},
     "output_type": "execute_result"
    },
    {
     "data": {
      "image/png": "[encoded data removed]",
      "text/plain": [
       "<Figure size 432x288 with 1 Axes>"
      ]
     },
     "metadata": {
      "needs_background": "light"
     },
     "output_type": "display_data"
    }
   ],
   "source": [
    "df.plot(x=\"position\",y=\"intensity\")"
   ]
  },
  {
   "cell_type": "code",
   "execution_count": null,
   "id": "3ea8fae7",
   "metadata": {},
   "outputs": [],
   "source": []
  }
 ],
 "metadata": {
  "kernelspec": {
   "display_name": "Python 3",
   "language": "python",
   "name": "python3"
  },
  "language_info": {
   "codemirror_mode": {
    "name": "ipython",
    "version": 3
   },
   "file_extension": ".py",
   "mimetype": "text/x-python",
   "name": "python",
   "nbconvert_exporter": "python",
   "pygments_lexer": "ipython3",
   "version": "3.7.10"
  }
 },
 "nbformat": 4,
 "nbformat_minor": 5
}
