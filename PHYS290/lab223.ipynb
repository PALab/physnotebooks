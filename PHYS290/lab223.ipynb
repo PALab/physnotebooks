{
 "cells": [
  {
   "cell_type": "markdown",
   "metadata": {},
   "source": [
    "**Experiment 223: The Centre of Mass**\n",
    "=========================================\n",
    "\n",
    "## Aims\n",
    "The central theme is around calculations on the **centre of mass**, an important topic of introductary physics, particularly in classical mechanics. The calculation of the centre of mass involves **multi-dimensional integration**, and this lab teaches both **analytic** and **numerical** integration (summation). The numerical integration involves learning **python** and its modules on numerics with **numpy** and data visualization with **matplotlib**."
   ]
  },
  {
   "cell_type": "markdown",
   "metadata": {},
   "source": [
    "## Tools\n",
    "plastic shapes, string, pin, plumbop, vernier calipers, ruler, erasable fine-tipped marker"
   ]
  },
  {
   "cell_type": "markdown",
   "metadata": {},
   "source": [
    "## Introduction\n",
    "Try balancing your ruler on the tip of your finger. If all goes well, your finger tip is (close to) the middle of the ruler, when the ruler is horizontal and at rest on your fingertip. This means, there is as much mass on the left, as on the right of your fingertip. "
   ]
  },
  {
   "cell_type": "markdown",
   "metadata": {},
   "source": [
    "#### Q1 (1 pt): \n",
    "If you put an eraser on one end of the ruler, where does your fingertip have to go to restore the balance? "
   ]
  },
  {
   "cell_type": "markdown",
   "metadata": {},
   "source": [
    "We treated the ruler here as a line object, but generalizing for any shape, the center of mass is the point where the weighted position vectors relative to this point sum to zero. \n",
    "\n",
    "This is a fancy way of saying there is as much mass from this object to the left, as there is to the right, as much above, as there is below, and as much in front as there is behind this point. A short video of this concept can be viewed [here](https://youtu.be/xx5DTyScRj4 \"centre of mass video\").\n",
    "\n",
    "Let us turn this definition into an equation. For $n$ discrete particles with a mass $m_i$, located in space with coordinates $\\mathbf{r}_i$,  the centre of mass $\\mathbf{R}$ satisfies\n",
    "\\begin{equation}\n",
    "    \\sum_{i = 1}^n m_i\\left(\\mathbf{r}_i-\\mathbf{R}\\right) = 0 . \n",
    "\\end{equation}\n",
    "\n",
    "Solving for $\\mathbf{R}$, we get\n",
    "\\begin{equation} \n",
    "    \\mathbf{R} = \\frac{1}{M} \\sum_{i = 1}^n m_i\\mathbf{r}_i,\n",
    "\\end{equation}\n",
    "where $M = \\sum_{i = 1}^n m_i$: the total mass of all the little masses $m_i$.\n",
    "\n",
    "From this rather formal definition, and the math, you can hopefully see what this means in practice. "
   ]
  },
  {
   "cell_type": "markdown",
   "metadata": {},
   "source": [
    "## Experimental measurements of centre of mass\n",
    "You should have in front of you one or more flat pieces of plastic of various shapes. We would like to calculate the positions of the centre of mass of these pieces. \n",
    "\n",
    "### Centre of gravity\n",
    "In a uniform gravitational field, the centre of mass coincides with the centre of gravity. We can now generalise our 1D thought experiment to 2 dimensions.\n",
    "When an object is hanging stationary, the centre of gravity\n",
    "always lies on the vertical line through the point of suspension. Basically, at this point there is as much mass pulling the left as there is to the right. By hanging the piece of plastic from each of the holes, one can find a set of lines on each of which the centre of\n",
    "gravity must lie. The common point of intersection of all of the lines defines the centre of\n",
    "gravity (and hence the centre of mass). \n",
    "\n",
    "### Experimentation\n",
    "Each piece of plastic has a number of small holes from which it may be\n",
    "suspended. "
   ]
  },
  {
   "cell_type": "markdown",
   "metadata": {},
   "source": [
    "#### Q2 (4 pts) \n",
    "Go to the whiteboard and draw a vertical line that extends the height of the board. At the top of the line, just above the whiteboard, insert a pin. "
   ]
  },
  {
   "cell_type": "markdown",
   "metadata": {},
   "source": [
    "#### Q3 (5 pts)\n",
    "Hang your plastic object with the wire from the pin to one of the holes in the object. \n",
    "Use a fine-tipped water-soluble marker pen to\n",
    "extend the line on the piece of plastic. Repeat for the other holes on your piece of plastic to find the centre of mass as the intersection of the lines. Take a photo of the result and insert in your notebook. How accurate can you determine the centre of mass?"
   ]
  },
  {
   "cell_type": "markdown",
   "metadata": {},
   "source": [
    "#### Q4 (2 pts) \n",
    "Our pieces are flat, so effectively only have two dimensions. We also assume that material is homogeneous, at least when it comes to density. This means the centre of mass estimation requires only hanging the shape from how many holes? Why would you measure from more holes than theoretically necessary?"
   ]
  },
  {
   "cell_type": "markdown",
   "metadata": {},
   "source": [
    "#### Q5 (5 pts)\n",
    "The centre of mass $\\bf{R}$ is a property of the object. In other words, it is always in the same position with respect to the suspension holes. Depending on the position of the object in space, however, the coordinates of $\\bf{R}$ may vary. To solve this problem, measure the distance between $\\bf{R}$ and the suspension holes. "
   ]
  },
  {
   "cell_type": "markdown",
   "metadata": {},
   "source": [
    "## Numerical measurements of centre of mass\n",
    "Let's use the computer to find the centre of mass of each plastic piece. For that, we need two python modules. One is called numpy and it contains functions to deal with numerical data in python. The matplotlib module provides lots of tools to display data in python."
   ]
  },
  {
   "cell_type": "code",
   "execution_count": null,
   "metadata": {},
   "outputs": [],
   "source": [
    "import matplotlib.pyplot as plt\n",
    "import numpy as np\n",
    "\n",
    "# this is to make sure figures pop out as a separate window:\n",
    "%matplotlib tk \n",
    "\n",
    "# loading standard colour maps\n",
    "from matplotlib import cm "
   ]
  },
  {
   "cell_type": "markdown",
   "metadata": {},
   "source": [
    "#### Q6 (5 pts) \n",
    "Scan your plastic piece(s) on the lab printer/scanner, and save the file as a black and white image to your working directory. If you use a filename that matches the name on the piece, that will help."
   ]
  },
  {
   "cell_type": "markdown",
   "metadata": {},
   "source": [
    "The code snippet below will prompt you for the filename of your scan. Make sure it is in the working directory! \n",
    " Run the code cell below, and at the prompt,\n",
    "type in the image filename for one of your pieces. For example, if\n",
    "your piece is labelled `Q2`, you should type in `Q2` (or the full path to the file if is not in the working directory) in response to the question: `Name of image file?`."
   ]
  },
  {
   "cell_type": "code",
   "execution_count": null,
   "metadata": {},
   "outputs": [],
   "source": [
    "fname = input('Name of image file?')\n",
    "F = plt.imread(fname+'.png')"
   ]
  },
  {
   "cell_type": "markdown",
   "metadata": {},
   "source": [
    "The following script reads plots the scanned figures.  The image file is read with the `imread()` function and is converted into a NumPy array named `F`. The `imshow` function is used to display the array as a greyscale image using axes with equal scaling."
   ]
  },
  {
   "cell_type": "code",
   "execution_count": null,
   "metadata": {},
   "outputs": [],
   "source": [
    "fig, ax = plt.subplots()\n",
    "implot = ax.imshow(F, cmap=cm.gray, aspect='equal')\n",
    "plt.show()"
   ]
  },
  {
   "cell_type": "markdown",
   "metadata": {},
   "source": [
    "You should see the piece displayed in white on a black background in the figure.  The axes are in pixels, and since no figure is complete with axis labels:"
   ]
  },
  {
   "cell_type": "code",
   "execution_count": null,
   "metadata": {},
   "outputs": [],
   "source": [
    "ax.set_xlabel('horizontal distance (in pixels)')\n",
    "ax.set_ylabel('vertical distance (in pixels)')"
   ]
  },
  {
   "cell_type": "markdown",
   "metadata": {},
   "source": [
    "`F` is\n",
    "simply a (large) table of numbers whose entries consist of zeros\n",
    "(black) and ones (white). To examine the contents of\n",
    "an array, type its name in a code cell."
   ]
  },
  {
   "cell_type": "code",
   "execution_count": null,
   "metadata": {},
   "outputs": [],
   "source": [
    "F"
   ]
  },
  {
   "cell_type": "markdown",
   "metadata": {},
   "source": [
    "depending on the piece, you may see only zeros, because there are so many elements to the table that only a few are actually shown."
   ]
  },
  {
   "cell_type": "markdown",
   "metadata": {},
   "source": [
    "We started this lab with explaining how in case of discrete masses, the centre $\\bf{R}$ obeys:\n",
    "\\begin{equation}\n",
    "    \\sum_{i = 1}^n m_i\\left(\\mathbf{r}_i-\\mathbf{R}\\right) = 0 . \n",
    "\\end{equation}\n",
    "\n",
    "If the mass distribution is continuous with the density $\\rho(\\bf{r})$ within a solid $Q$, then the integral of the weighted position coordinates of the points in this volume relative to the center of mass R over the volume V is zero, that is\n",
    "\\begin{equation} \n",
    "   \\iiint \\limits _{Q}\\rho (\\mathbf {r} )(\\mathbf {r} -\\mathbf {R} )dV=0.\n",
    "\\end{equation}\n",
    "\n",
    "Solving for the coordinates $\\bf{R}$, we get\n",
    "\\begin{equation}\n",
    "  \\mathbf {R} ={\\frac {1}{M}}\\iiint \\limits _{Q}\\rho (\\mathbf {r} )\\mathbf {r} dV,\n",
    "\\end{equation}\n",
    "where M is the total mass in the volume. \n",
    "\n",
    "If the density is constant, then\n",
    "\\begin{equation}\n",
    "  \\mathbf {R} ={\\frac {1}{V}}\\iiint \\limits _{Q}\\mathbf {r} dV,\n",
    "\\end{equation}\n",
    "where V is the total volume. "
   ]
  },
  {
   "cell_type": "markdown",
   "metadata": {},
   "source": [
    "That is for 3-dimensional objects, but our plastic shapes are only 2-dimensional. In that case, the centre of mass of a plane object $S$ of uniform density involves not volumes $V$, but areas $A$:\n",
    "\n",
    "$\\mathbf{R} = (\\bar{x},\\bar{y})$,\n",
    "where\n",
    "\n",
    "\\begin{eqnarray*}\n",
    "\\bar{x} = \\frac{\\int_Sx\\, dA}{\\int_SdA} ~~~~ \\textrm{and} ~~~~\n",
    "\\bar{y} = \\frac{\\int_Sy\\, dA}{\\int_SdA} \\, .\n",
    "\\end{eqnarray*}\n",
    "\n",
    "We calculate each integral in the usual way, i.e., by\n",
    "\n",
    "**(a)** dividing the set $S$ into small pieces,\n",
    "\n",
    "**(b)** evaluating the quantity to the right of the $\\int$ sign on each of the pieces, and\n",
    "\n",
    "**(c)** adding these up.\n",
    "\n",
    "In the denominators, the integral of $dA$ just yields the total area of the object."
   ]
  },
  {
   "cell_type": "markdown",
   "metadata": {},
   "source": [
    "Write a function definition\n",
    "\n",
    "`def area(shape, res):`\n",
    "\n",
    "which returns the area in **square millimetres**,\n",
    "when `shape` is an array of zeros and ones and `res` is\n",
    "the resolution of the scan in **dots per inch**. You can then use the function by typing\n",
    "`area(F,100)` to display the area of the piece. (3 points)\n",
    "\n",
    "**Hint**:\n",
    "Each pixel (dot) in the scan has a fixed area which you can calculate.\n",
    "You may find the `sum` function useful.\n",
    "If `M = array([[1,2,3],[4,5,6]])` is a 2D array, then `sum(M,0)` is a 1D array formed by adding the rows, yielding `array([5,7,9])`,\n",
    "while `sum(M,1)` is a 1D array formed by adding the columns, yielding `array([6,15])`; \n",
    "`sum(M)` adds both ways to give 21.\n",
    "    "
   ]
  },
  {
   "cell_type": "code",
   "execution_count": null,
   "metadata": {},
   "outputs": [],
   "source": [
    "def area(shape,res):\n",
    "    return np.sum(shape)*(25.4/res)**2\n",
    "area(F,100)"
   ]
  },
  {
   "cell_type": "markdown",
   "metadata": {},
   "source": [
    "For the integral $\\int_Sx\\, dA$, we again divide the set $S$ into small pieces.\n",
    "For each small piece, we calculate $x\\, dA$ which is the product\n",
    "of the $x$ coordinate and the area of the piece.\n",
    "If the piece is small enough, the $x$ coordinate can be\n",
    "taken anywhere within the piece.\n",
    "\n",
    "\n",
    "When we use a scanner, the pixels are small square regions which are ideal\n",
    "candidates for the small pieces into which $S$ is to be divided.\n",
    "Each pixel is an entry in the array `F`. The column number may be\n",
    "regarded as the $x$ coordinate, and the row number as the $y$ coordinate.\n",
    "Using the normal convention for array indices, this is written as\n",
    "`F(y,x)` where the integer `y` is the row index and `x` is the column\n",
    "index. In Python, array indices start at 0, and so `F(0,0)` is at the top left of the array.\n",
    "\n",
    "Let us consider calculating $\\int_Sx\\, dA$ for an array with three rows and four columns.\n",
    "In the table below, each `F(y,x)` is either one or zero, depending whether or not\n",
    "the pixel belongs to the set $S$:\n",
    "\n",
    "\\begin{bmatrix}\n",
    "\\texttt{F(0,0)} & \\texttt{F(0,1)} & \\texttt{F(0,2)} & \\texttt{F(0,3)}\\\\\n",
    "\\texttt{F(1,0)} & \\texttt{F(1,1)} & \\texttt{F(1,2)} & \\texttt{F(1,3)}\\\\\n",
    "\\texttt{F(2,0)} & \\texttt{F(2,1)} & \\texttt{F(2,2)} & \\texttt{F(2,3)}\n",
    "\\end{bmatrix}\n",
    "\n",
    "Each pixel has an $x$ value associated with it, which is equal to the column (second) index.\n",
    "We can multiply every `F(y,x)` by `x` to obtain the new table\n",
    "\n",
    "\\begin{bmatrix}\n",
    "\\texttt{0*F(0,0)} & \\texttt{1*F(0,1)} & \\texttt{2*F(0,2)} & \\texttt{3*F(0,3)}\\\\\n",
    "\\texttt{0*F(1,0)} & \\texttt{1*F(1,1)} & \\texttt{2*F(1,2)} & \\texttt{3*F(1,3)}\\\\\n",
    "\\texttt{0*F(2,0)} & \\texttt{1*F(2,1)} & \\texttt{2*F(2,2)} & \\texttt{3*F(2,3)}\n",
    "\\end{bmatrix}\n",
    "\n",
    "Remembering that each of the entries in this table is either zero\n",
    "(if the pixel is not in $S$) or is equal to the value of $x$ for that pixel,\n",
    "make sure that you can convince yourself that the value of $\\int_Sx\\, dA$ is the\n",
    "**sum of all elements** in this table multiplied by the area of a single pixel. \n",
    "\n",
    "#### Q7 (5 points)\n",
    "Use these ideas to complete the `cofm` function below that finds the centre of mass\n",
    "of an array \"a\" consisting of zeros and ones. Notice that we do not need to know\n",
    "the resolution in this case, because the area of a pixel appears in both the integrals in the\n",
    "numerator and denominator, so that the area units cancel. The position of the centre of mass is\n",
    "calculated in units of **pixels**.  The NumPy `arange` function is similar to the built-in Python `range`, but returns an array. \n",
    "\n",
    "**Note:** The inner dimensions of matrices must match in order to be multiplied together (e.g. a 2x2 matrix can be multiplied with a 2x4 matrix, but not a 4x2 matrix.  The `newaxis` object can be used to expand the dimensions of an array/matrix by one unit-length dimension. Evaluate the following cell as an example of how `newaxis` is used to change the dimensionality of an array."
   ]
  },
  {
   "cell_type": "code",
   "execution_count": null,
   "metadata": {},
   "outputs": [],
   "source": [
    "a = np.array([5,4,3])\n",
    "print(a)\n",
    "print(a[:,np.newaxis])"
   ]
  },
  {
   "cell_type": "markdown",
   "metadata": {},
   "source": [
    "#### Q8 (5 pts) \n",
    "If we now enter\n",
    "\n",
    "`xcm, ycm = cofm(F)`\n",
    "\n",
    "the coordinates of the centre of mass returned from `cofm` are placed in `xcm` and `ycm`. \n",
    "Record the coordinates of the centre of mass (xcm and ycm) for each of the pieces of plastic using the scans and code you created."
   ]
  },
  {
   "cell_type": "markdown",
   "metadata": {},
   "source": [
    "The centre of mass for a piece is a physical property of the piece, but the coordinates you found depend on how you oriented the piece in the scan. For example, you could have rotated the piece on the page, or translated it top-left, bottom right, or anything in between.\n",
    "\n",
    "### Calculating centre of mass \n",
    "We need to return to our scans in order to find the distances from the\n",
    "calculated centre of mass to the points of suspension, because those distances will be the same for every scan of the piece. For these, we need to know\n",
    "the coordinates of the suspension points. We can use the function ginput() that is part of matplotlib. Once the figure pops up, you can use the left mouse button to send the coordinates of that point to your programme."
   ]
  },
  {
   "cell_type": "code",
   "execution_count": null,
   "metadata": {},
   "outputs": [],
   "source": [
    "fig, ax = plt.subplots()\n",
    "plt.imshow(F, cmap=cm.gray, aspect='equal')\n",
    "points = plt.ginput(n=2)\n",
    "plt.show()"
   ]
  },
  {
   "cell_type": "markdown",
   "metadata": {},
   "source": [
    "In the code above, we save only n=2 hole positions, but more is better, as you discussed earlier. You should adjust the value of $n$ to match the number of holes in your piece."
   ]
  },
  {
   "cell_type": "markdown",
   "metadata": {},
   "source": [
    "#### Q9 (5 pts)\n",
    "In order to find the distances of each of the suspension points from the calculated centre of mass,\n",
    "use the theorem of Pythagoras:\n",
    "\n",
    "`dist = sqrt((x-xcm)**2+(y-ycm)**2)`\n",
    "\n",
    "\n",
    "The distances are calculated in terms of **pixels**. Convert these distances to millimetres\n",
    "so that it is easier to compare them with your measurements."
   ]
  },
  {
   "cell_type": "markdown",
   "metadata": {},
   "source": [
    "#### Q10 (5 pts)\n",
    "Calculate and record the distances of the centre of mass from the points of\n",
    "suspension for each of your pieces of plastic in a table below. Compare these to your measurements. "
   ]
  },
  {
   "cell_type": "markdown",
   "metadata": {},
   "source": [
    "## Multi-variable integration\n",
    "For an analytic approach to \n",
    "\\begin{equation}\n",
    "  \\mathbf {R} ={\\frac {1}{V}}\\iiint \\limits _{Q}\\mathbf {r} dV,\n",
    "\\end{equation}\n",
    "where V is the total volume, requires integrating over more than 1 dimension. \n",
    "Integration over more than one dimension/variable looks intimidating, maybe, but you have done if for years! When you compute the area of a rectangle, for example, you multiply the length of one side of the rectangle by the length of the other. In your head, you divided up the rectangle in small (unit) squares $dA = dx*dy$ and summed these. That was multidimensional integration all along.\n",
    "\n",
    "### The centre of mass of a cubic aquarium\n",
    "The centre of mass of a square aquarium with 2-m sides, filled with a fluid of uniform density (water would be $\\rho \\approx 1000$ kg/m$^3$) is\n",
    "\\begin{equation}\n",
    "  \\mathbf {R} =1/V\\int_0^2\\int_0^2\\int_0^2 \\left( x\\hat{x}+ y\\hat{y}+z\\hat{z}\\right)dx dy dz,\n",
    "  \\end{equation}\n",
    "where $V$ is the volume of the aquarium.\n",
    "\n",
    "The centre of mass is defined by a bold-faced $\\mathbf{R}$, because it is a 3D coordinate. In Cartesian coordinates, this means it has three orthogonal components: an x,y and z direction, for example. To illustrate the integration, let us focus on the x-coordinate of the centre of mass:\n",
    "\\begin{equation}\n",
    "  Rx = \\mathbf{R}\\cdot\\hat{x}=\\frac{1}{8} \\int_0^2 \\int_0^2 \\int_0^2 x dx dy dz = 1. \n",
    "\\end{equation}\n",
    "So the x-coordinate of the centre of mass of this square aquarium full of water is at 1 m.\n",
    "\n",
    "#### Q11 (5 pt)\n",
    "Show that explicit integrations in the y and z coordinates are also return \"1\". This means the centre of mass is at $\\mathbf{R} = (1,1,1)$."
   ]
  },
  {
   "cell_type": "markdown",
   "metadata": {},
   "source": [
    "### The centre of mass of a hemisphere\n",
    "The centre of mass of a sphere filled with a material with a constant density is obviously its geometric centre, but how about the centre of mass of a hemisphere with unit radius?\n",
    "\n",
    "<img src=\"./sphericalcoords.png\">\n",
    "\n",
    "This problem lends itself to be treated in spherical coordinates, where a point in or on the hemisphere is defined by $r$, $\\theta$ and $\\phi$, as opposed to the Cartesian $x$,$y$ and $z$.\n",
    "\n",
    "The definition of the centre of mass is (still):\n",
    "\\begin{equation}\n",
    "  \\mathbf {R} ={\\frac {1}{V}}\\iiint \\limits _{Q}\\mathbf {r} dV,\n",
    "\\end{equation}"
   ]
  },
  {
   "cell_type": "markdown",
   "metadata": {},
   "source": [
    "#### Q12 (5 pts)\n",
    "\n",
    "In Cartesian coordinates, we are used to dividing up space in infinitesimally small cubes $dxdydz$, but what is this small cube in spherical coordinates?\n",
    "\n",
    "<img src=\"./sphericalcoordsint.png\">"
   ]
  },
  {
   "cell_type": "markdown",
   "metadata": {},
   "source": [
    "#### Q13 (5 pts)\n",
    "What are the integration limits $Q$ for a hemisphere in spherical coordinates? "
   ]
  },
  {
   "cell_type": "markdown",
   "metadata": {},
   "source": [
    "This means we can find the centre of mass by  integration in spherical coordinates:\n",
    "\n",
    "\\begin{equation}\n",
    "  \\mathbf {R} ={\\frac {1}{V}}\\int_0^{2\\pi}\\int_0^{\\pi/2}\\int_0^1\\mathbf {r} r^2\\sin\\theta dr d\\theta d\\phi.\n",
    "\\end{equation}"
   ]
  },
  {
   "cell_type": "markdown",
   "metadata": {},
   "source": [
    "#### Q14 (5 pts)\n",
    "\n",
    "As before, these are really three equations to compute $\\mathbf{R}$, but what can we say without any calculations, just based on the symmetry, about $\\mathbf{R}$ already? "
   ]
  },
  {
   "cell_type": "markdown",
   "metadata": {},
   "source": [
    "This means $\\mathbf{R}= R\\hat{z}$, and\n",
    "\\begin{equation}\n",
    "  R = \\mathbf {R}\\cdot\\hat{z} ={\\frac {1}{V}}\\iiint \\limits _{Q}\\mathbf {r}\\cdot\\hat{z} dV.\n",
    "\\end{equation}"
   ]
  },
  {
   "cell_type": "markdown",
   "metadata": {},
   "source": [
    "#### Q15 (5 pts)\n",
    "From the figure above, what is the z-component of $\\mathbf{r}$? "
   ]
  },
  {
   "cell_type": "markdown",
   "metadata": {},
   "source": [
    "#### Q16 (5 pts)\n",
    "For our final trick, use the elementary volume in spherical coordinates to carry out the triple integral to find the centre of mass $R$. Also, explain in words why/how your answer makes physical sense."
   ]
  }
 ],
 "metadata": {
  "kernelspec": {
   "display_name": "Python 3",
   "language": "python",
   "name": "python3"
  },
  "language_info": {
   "codemirror_mode": {
    "name": "ipython",
    "version": 3
   },
   "file_extension": ".py",
   "mimetype": "text/x-python",
   "name": "python",
   "nbconvert_exporter": "python",
   "pygments_lexer": "ipython3",
   "version": "3.7.9"
  }
 },
 "nbformat": 4,
 "nbformat_minor": 1
}
