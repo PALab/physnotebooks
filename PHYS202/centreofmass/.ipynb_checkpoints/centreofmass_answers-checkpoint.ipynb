{
 "cells": [
  {
   "cell_type": "markdown",
   "metadata": {},
   "source": [
    "## The centre of Mass\n",
    "\n",
    "This lab will introduce you to concept of the centre of mass with examples, experiments, and numerical calculations. \n",
    "\n",
    "There are 9 tasks for 45 points in total.\n",
    "\n",
    "### Aims\n",
    "The learning outcomes include:\n",
    "- learning about the centre of mass\n",
    "- doing integration and summation\n",
    "- gaining experience in python programming\n",
    "\n",
    "### Introduction\n",
    "Everybody has balanced their pencil on their finger in class. You know from experience that the balance point is at --or very near -- the middle of the pencil. If the pencil has a heavy rubber on the end, you need to account for that, and move your finger closer to the heavy rubber to keep the balance. This balance point is called the centre of mass. Today we will expand on this idea. \n",
    "\n",
    "The centre of mass is the point where \"the weighted relative position of the mass in a volume sums to zero.\" For today, we will stick to objects with a uniform density distribution. In this cas,e the centre of mass of an object $V$ is defined to be at the point $(\\bar{x},\\bar{y},\\bar{z})$ where\n",
    "\n",
    "\\begin{eqnarray*}\n",
    "\\bar{x} = \\frac{\\int_V x\\, dV}{\\int_VdV} \\, , ~~~~\n",
    "\\bar{y} = \\frac{\\int_V y\\, dV}{\\int_VdV} \\, , ~~~~\n",
    "\\bar{z} = \\frac{\\int_V z\\, dV}{\\int_VdV} \\, .\n",
    "\\end{eqnarray*}\n",
    "\n",
    "The multiplication under the integral sign of the numerator and dividing by the total volume (the denominator) do the weighting.\n",
    "\n",
    "We can analytically determine the centre of mass for regularly-shaped objects, such as circles and squares. HOwever, you may have been given an object with an irregular shape. For those objects especially, we will turn analytic integration into summation of small parts of the object. Your numerical result will be compared to experimental estimation of the centre of mass, but let us first do the physical experiment to help us understand the concept of a centre of mass."
   ]
  },
  {
   "cell_type": "markdown",
   "metadata": {},
   "source": [
    "### Experimental estimation of the centre of mass\n",
    "\n",
    "In this lab, you were presented with one or more pieces of PVC plastic with small holes. Each piece has a unique shape. You also need string and a pin. When you hang your object from one of these holes, it hangs in balance. **This means that there is as much mass to the left as to the right of the extension of the line through the object.** \n",
    "\n",
    "In the case of a long, thin pencil, there is only one axis to hang a pencil from: the middle between the tip and the end. (We ignore the wizards among you, who can balance a pencil *on* its tip or end.) In other words, a long  and thin pencil can be considered 1-dimensional, but our plastic pieces have 2 dimensions. This means the centre of mass of our plastic pieces is a point with an x and a y-coordinate (but not a third z-coordinate):\n",
    "\n",
    "\\begin{eqnarray*}\n",
    "\\bar{x} = \\frac{\\int_S x\\, dS}{\\int_SdS} \\, , ~~~~\n",
    "\\bar{y} = \\frac{\\int_S y\\, dS}{\\int_SdS} \\, .\n",
    "\\end{eqnarray*}\n",
    "\n",
    "In practice, this means we need to repeat the experiment of suspending the object from the other hole(s) in the plastic shape.\n",
    "\n",
    "Hang the plastic piece from a string connected to one of the holes in the plastic piece. Use a fine-tipped water-soluble marker pen or a pencil to draw the extension of the string from the pin to the hole on the pieces of plastic. This line divides the weighted average to the left and right of this line. Now hang the piece from the other holes and repeat drawing the extension of the wire onto the piece in pencil or water-soluble marker. The intersection of the lines should define a single point: the centre of mass.\n",
    "\n",
    "#### Task 1 (5 points)\n",
    "For each of the pieces of plastic, use a pair of vernier calipers to measure the distance between the centre of mass and the centres of each of the holes in the plastic. Write these distances in a table."
   ]
  },
  {
   "cell_type": "markdown",
   "metadata": {},
   "source": [
    "### Numerical estimation of the centre of mass\n",
    "Now let's use the computer to find the centre of mass of your piece. Unfortunately, we cannot use google colab, because later we need to interact with the graphics (which is not possible in colab). First, we need to install the packages we need for this lab. If you are missing packages, here's how you get setup:\n",
    "- install miniconda on your machine\n",
    "- create a new environment: `conda create -n cvenv`\n",
    "- activate the new environment: `conda activate cvenv`\n",
    "- `conda install opencv -c conda-forge`\n",
    "- `conda install jupyter`\n",
    "- `conda install matplotlib`\n",
    "- (re)start this notebook."
   ]
  },
  {
   "cell_type": "markdown",
   "metadata": {},
   "source": [
    "### Example\n",
    "To help understand the concept of the centre of mass calculation, we first numerically compute the centre of mass of a rectangle. \n",
    "Let's define a white rectangle on a black background, and plot this shape:"
   ]
  },
  {
   "cell_type": "code",
   "execution_count": 4,
   "metadata": {},
   "outputs": [],
   "source": [
    "import numpy as np # this imports all methods of the numpy package\n",
    "%matplotlib tk \n",
    "# we need this later when interacting with the figure. This does not work on google colab...\n",
    "import matplotlib.pyplot as plt # this allows you to graph your shape\n",
    "\n",
    "# Define a shape. This would be the photo of your image, after setting all colours to 1 or 0:\n",
    "A= np.zeros([5,7]) # background is 0 or black\n",
    "A[1:3,2:6] =1 # shape colour is white, or has value 1.\n",
    "\n",
    "# plot the shape:\n",
    "fig,ax = plt.subplots()\n",
    "ax.imshow(A,cmap='gray')\n",
    "ax.set_xlabel('x-axis (pixels)')\n",
    "ax.set_ylabel('y-axis (pixels)')\n",
    "plt.show()"
   ]
  },
  {
   "cell_type": "markdown",
   "metadata": {},
   "source": [
    "Let's describe a rectangle `A` of 4x3 elements:\n",
    "\\begin{bmatrix}\n",
    "    A(1,1) & A(1,2) & A(1,3) & A(1,4)\\\\\n",
    "    A(2,1) & A(2,2) & A(2,3) & A(2,4)\\\\\n",
    "    A(3,1) & A(3,2) & A(3,3) & A(3,4).\n",
    "\\end{bmatrix}\n",
    "\n",
    "Each element of `A` represents a little square of the big rectangle. $A_{ij}$ is a little square where `i` is the y-coordinate, and the `j` the x-coordinate. If we want to know the full area of the rectangle, we sum over all the little squares that make up this rectangle:\n",
    "\n",
    "\\begin{eqnarray*}\n",
    "    \\int_S dS \\approx \\sum_i \\sum_j A_{ij}.\n",
    "\\end{eqnarray*}\n",
    "\n",
    "\n",
    "To shorten the notation, we can also call this $\\sum_{i,j}A_{ij}$. \n",
    "\n",
    "To estimate the numerator for the x-coordinate of the centre of mass calculation, we must multiply every little square `A(ij)` by `j`:\n",
    "\\begin{bmatrix}\n",
    "    A(1,1)*1 & A(1,2)*2 & A(1,3)*3 & A(1,4)*4\\\\\n",
    "    A(2,1)*1 & A(2,2)*2 & A(2,3)*3 & A(2,4)*4\\\\\n",
    "    A(3,1)*1 & A(3,2)*1 & A(3,3)*3 & A(3,4)*4.\n",
    "\\end{bmatrix}\n",
    "Then, we sum all the elements of this new array:\n",
    "\\begin{eqnarray*}\n",
    "    \\int_S x\\, dS = \\sum_{i} \\sum_{j}A_{ij}x_j,\n",
    "\\end{eqnarray*}\n",
    "\n",
    "where the vector `x` starts at 1 and increments by 1 until reaching the width of the shape. You will often see in textbooks the short-hand\n",
    "$\\sum_{i} \\sum_{j}A_{ij}x_j = \\sum_{i} A_{ij}x_j$, because summation over `j` is implied by the repeating of this index. This is the so-called\n",
    "Einstein's convention. Now we have all the ingredients to write down the numerical approximation for the centre of mass:\n",
    "\\begin{eqnarray*}\n",
    "\\bar{x} = \\frac{\\sum_i A_{ij}x_j}{\\sum_{i,j}A_{ij}} \\, , ~~~~\n",
    "\\bar{y} = \\frac{\\sum_j y_iA_{ij}}{\\sum_{i,j}A_{ij}}.\n",
    "\\end{eqnarray*}\n",
    "\n",
    "This fiddling with indices may seem confusing, so let's apply all this to the calculation of the centre of mass of our rectangle."
   ]
  },
  {
   "cell_type": "markdown",
   "metadata": {},
   "source": [
    "The denominator for the centre of mass is simply the sum of all elements. numpy has a method for summing the elements of an array:"
   ]
  },
  {
   "cell_type": "code",
   "execution_count": 5,
   "metadata": {
    "tags": []
   },
   "outputs": [
    {
     "name": "stdout",
     "output_type": "stream",
     "text": [
      "8.0\n"
     ]
    }
   ],
   "source": [
    "sumA = np.sum(A)\n",
    "print(sumA)"
   ]
  },
  {
   "cell_type": "markdown",
   "metadata": {},
   "source": [
    "To compute the numerators, we need to define the weights to get the weighted average along the x- and y-axis. \n",
    "These are just:"
   ]
  },
  {
   "cell_type": "code",
   "execution_count": 6,
   "metadata": {},
   "outputs": [
    {
     "name": "stdout",
     "output_type": "stream",
     "text": [
      "[1 2 3 4 5 6 7] [1 2 3 4 5]\n"
     ]
    }
   ],
   "source": [
    "sizey,sizex= A.shape \n",
    "x = np.arange(sizex)+1 # we have to add 1, because Python starts its arrays at \"0\"\n",
    "y = np.arange(sizey)+1\n",
    "print(x,y)"
   ]
  },
  {
   "cell_type": "markdown",
   "metadata": {},
   "source": [
    "To find the x-coordinate of the centre of mass, we multiply the x-values of the shape (i.e., each column) by these weights (see the equation at the top), and sum all elements according to our definition of the numerical centre of mass:"
   ]
  },
  {
   "cell_type": "code",
   "execution_count": 7,
   "metadata": {},
   "outputs": [
    {
     "name": "stdout",
     "output_type": "stream",
     "text": [
      "[[0. 0. 0. 0. 0. 0. 0.]\n",
      " [0. 0. 3. 4. 5. 6. 0.]\n",
      " [0. 0. 3. 4. 5. 6. 0.]\n",
      " [0. 0. 0. 0. 0. 0. 0.]\n",
      " [0. 0. 0. 0. 0. 0. 0.]]\n",
      "36.0\n"
     ]
    }
   ],
   "source": [
    "Ax = A*x\n",
    "print(Ax)\n",
    "\n",
    "sumAx = np.sum(Ax)\n",
    "print(sumAx)"
   ]
  },
  {
   "cell_type": "markdown",
   "metadata": {},
   "source": [
    "For the y-coordinate, multiply the y-values (each row) by the weights. Note the trick to get the dimensions to work by transposing the figure (and back):"
   ]
  },
  {
   "cell_type": "code",
   "execution_count": 8,
   "metadata": {},
   "outputs": [
    {
     "name": "stdout",
     "output_type": "stream",
     "text": [
      "[[0. 0. 0. 0. 0. 0. 0.]\n",
      " [0. 0. 2. 2. 2. 2. 0.]\n",
      " [0. 0. 3. 3. 3. 3. 0.]\n",
      " [0. 0. 0. 0. 0. 0. 0.]\n",
      " [0. 0. 0. 0. 0. 0. 0.]]\n",
      "20.0\n"
     ]
    }
   ],
   "source": [
    "yA = (A.T*y).T\n",
    "print(yA)\n",
    "sumyA = np.sum(yA)\n",
    "print(sumyA)"
   ]
  },
  {
   "cell_type": "markdown",
   "metadata": {},
   "source": [
    "Find the weighted average in x and y, defining the centre of mass:"
   ]
  },
  {
   "cell_type": "code",
   "execution_count": 9,
   "metadata": {},
   "outputs": [
    {
     "name": "stdout",
     "output_type": "stream",
     "text": [
      "4.5 2.5\n"
     ]
    }
   ],
   "source": [
    "centre_x = sumAx/sumA\n",
    "centre_y = sumyA/sumA\n",
    "print(centre_x,centre_y)"
   ]
  },
  {
   "cell_type": "markdown",
   "metadata": {},
   "source": [
    "Add the centre of mass to your plot of the shape. "
   ]
  },
  {
   "cell_type": "code",
   "execution_count": 10,
   "metadata": {},
   "outputs": [],
   "source": [
    "fig,ax = plt.subplots()\n",
    "ax.imshow(A,cmap='gray')\n",
    "ax.plot(centre_x-1,centre_y-1,'o') # Note the subtraction by 1, because the way python's arrays start at 0.\n",
    "plt.show()"
   ]
  },
  {
   "cell_type": "markdown",
   "metadata": {},
   "source": [
    "#### Task 2 (5 points)\n",
    "\n",
    "If you have understood the steps of the example above, scan each of your shapes on the printer in the lab. Save your scan in jpeg format. Think about how you can create the most accurate scan."
   ]
  },
  {
   "cell_type": "markdown",
   "metadata": {},
   "source": [
    "The following code cell will read and plot the scan of your figure. The image file is read with the `cv2.imread()` function and is converted into a NumPy array named `A`. When you run the code cell you will be asked to type in the image filename for your piece. (or the full path to the file if is not in the working directory) in response to the question: `Name of image file?`."
   ]
  },
  {
   "cell_type": "code",
   "execution_count": 13,
   "metadata": {},
   "outputs": [
    {
     "name": "stdin",
     "output_type": "stream",
     "text": [
      "Name of image file?  Q2A5.jpeg\n"
     ]
    }
   ],
   "source": [
    "import cv2\n",
    "fname = input('Name of image file? ')\n",
    "A = cv2.imread('./figures/'+fname,cv2.IMREAD_GRAYSCALE)\n",
    "# Create a figure and a set of subplots\n",
    "fig, ax = plt.subplots()\n",
    "ax.imshow(A,cmap='gray')\n",
    "plt.show()"
   ]
  },
  {
   "cell_type": "markdown",
   "metadata": {},
   "source": [
    "#### Task 3 (5 points) \n",
    "\n",
    "You should see a grey piece displayed on a white background in the figure. To be consistent, convert each of the white pixels of the background to a value of 0 (black) and the grey pixels of your shape to 1. If you print (some of your) array A to screen, you will see the current values of each pixel. You may find the method \"where\" from numpy useful for the task of converting the values to 1s and 0s. \n",
    "\n",
    "After this conversion, you can use the example above to calculate its centre of mass.  "
   ]
  },
  {
   "cell_type": "code",
   "execution_count": 18,
   "metadata": {},
   "outputs": [],
   "source": [
    "# Two steps to get the image in white as \"1\" and the background \"0,\" to be consistent with our example above.\n",
    "A = np.where(A > 225, 0, A) # make the shape 255\n",
    "A = np.where(A >0, 1, A) # to normalise to 1\n",
    "\n",
    "fig, ax = plt.subplots()\n",
    "ax.imshow(A,cmap='gray')\n",
    "plt.show()"
   ]
  },
  {
   "cell_type": "markdown",
   "metadata": {},
   "source": [
    "#### Task 4 (5 points)\n",
    "The equation for the centre of mass requires the total area of the shape. You already saw how to compyte the area, but now we are going to use a function. Python functions are useful to streamline routine tasks in your code. Write a function to compute the area in square centimeters. Functions start with a line:\n",
    "\n",
    "`def area(shape, res):`\n",
    "\n",
    "If you need more help with python functions, just search the web for \"python functions,\" and you will find the python documentation of how they work. A good function definition has comments to describe its in- and output(s).\n",
    "\n",
    "Make sure your function returns the area in **square millimetres,** not in pixels. \n",
    "Hint: you need to know the resolution of your scan and the size of the total area scanned (usually, this is A4 paper size)."
   ]
  },
  {
   "cell_type": "code",
   "execution_count": 24,
   "metadata": {
    "tags": []
   },
   "outputs": [],
   "source": [
    "def area(A, res):\n",
    "    ''' from the shape and the resolution of the scan, get the area of the shape in square cms'''\n",
    "    area_inches = (np.sum(A))*(1/res**2)\n",
    "    return area_inches*(2.54**2)"
   ]
  },
  {
   "cell_type": "code",
   "execution_count": 26,
   "metadata": {
    "tags": []
   },
   "outputs": [
    {
     "name": "stdout",
     "output_type": "stream",
     "text": [
      "20.4041124175\n"
     ]
    }
   ],
   "source": [
    "res = 400 # I scanned at the highest resolution (400DPI) on the smallest papersize (A5)\n",
    "print(area(A,res))"
   ]
  },
  {
   "cell_type": "markdown",
   "metadata": {},
   "source": [
    "#### Task 5 (5 points)\n",
    "\n",
    "Use the example above to complete a function that finds the centre of mass\n",
    "of an array \"A\" consisting of zeros and ones. The position of the centre of mass is\n",
    "calculated in units of **pixels**."
   ]
  },
  {
   "cell_type": "code",
   "execution_count": 11,
   "metadata": {},
   "outputs": [],
   "source": [
    "def cofm(A):\n",
    "    '''Function that returns the x- and y-coordinates (in pixels) of the center of mass of an array `A`'''\n",
    "    sizex= A.shape[1] \n",
    "    sizey = A.shape[0] \n",
    "    x = np.arange(sizex)+1\n",
    "    y = np.arange(sizey)+1\n",
    "    Ax = A*x\n",
    "    Ay = (A.T*y).T\n",
    "    \n",
    "    return np.sum(Ax)/np.sum(A),np.sum(Ay)/np.sum(A)"
   ]
  },
  {
   "cell_type": "code",
   "execution_count": 12,
   "metadata": {
    "tags": []
   },
   "outputs": [
    {
     "data": {
      "text/plain": [
       "(315.2742430174889, 575.0263312451057)"
      ]
     },
     "execution_count": 12,
     "metadata": {},
     "output_type": "execute_result"
    }
   ],
   "source": [
    "cofm(F)"
   ]
  },
  {
   "cell_type": "markdown",
   "metadata": {},
   "source": [
    "#### Task 6 (5 points)\n",
    "Numerically estimate the centre of mass of each of the pieces of plastic using the files you have\n",
    "created, and record these coordinates in a table. At this stage, your result is in pixels, not millimetres."
   ]
  },
  {
   "cell_type": "markdown",
   "metadata": {},
   "source": [
    "### Calculating centre of mass \n",
    "\n",
    "The position of the centre of mass was calculated in terms of coordinates\n",
    "$(\\bar{x},\\bar{y})$, but the coordinate system depends on how the pieces were placed\n",
    "on the scanner. \n",
    "\n",
    "In order to compare the estimates of the centre of mass from the physical\n",
    "experiment with the numerical approximation, we want to express the centres of mass in a way\n",
    "that is independent of the coordinate system chosen. This can be done by defining the centre of mass by the distance to the small holes in the shape.  \n",
    "\n",
    "We already have a table with distance from the holes to the centre of mass for the experiment. Now, we will do the same for our numerical experiment.\n",
    "\n",
    "Below, we define a function that prints to screen the position on the plots of (left) mouse clicks. \n",
    "\n",
    "#### Task 7 (5 points)\n",
    "\n",
    "Click on the position of the centre of each small hole in the figure below. Copy/paste these values in variables with an x, and a y-coordinate, for example:\n",
    "\n",
    "hole1 = [300,400]\n",
    "\n",
    "hole2 = [520,1012]\n",
    "\n",
    "etc."
   ]
  },
  {
   "cell_type": "code",
   "execution_count": 28,
   "metadata": {},
   "outputs": [
    {
     "data": {
      "text/plain": [
       "<matplotlib.image.AxesImage at 0x7f41344a09d0>"
      ]
     },
     "execution_count": 28,
     "metadata": {},
     "output_type": "execute_result"
    }
   ],
   "source": [
    "# Function to print the coordinate of a mouse click:\n",
    "def onclick(event):\n",
    "   print([event.xdata, event.ydata])\n",
    "\n",
    "A = cv2.imread('./figures/'+fname,cv2.IMREAD_GRAYSCALE) # reread the image, so you can see the holes (again).\n",
    "\n",
    "# Create a figure and a set of subplots\n",
    "fig, ax = plt.subplots()\n",
    "\n",
    "# Bind the button_press_event with the onclick() method\n",
    "fig.canvas.mpl_connect('button_press_event', onclick)\n",
    "\n",
    "ax.imshow(A,cmap='gray')"
   ]
  },
  {
   "cell_type": "markdown",
   "metadata": {},
   "source": [
    "We now find the centre of mass with\n",
    "\n",
    "`x, y = cofm(A)`\n",
    "\n",
    "To get the distances of each of the suspension points from the calculated centre of mass,\n",
    "we use Pythagoras' theorem:\n",
    "\n",
    "`dist = sqrt((x-hole1[0])**2+(y-hole1[1])**2),`\n",
    "where `hole` contains the x and y coordinates of one of the holes you selected previously. \n",
    "\n",
    "#### Task 8 (5 points)\n",
    "\n",
    "Estimate the distances between each hole and the centre of mass.\n",
    "The distances are calculated in terms of pixels. Convert these distances to millimetres\n",
    "so you can compare them with your measured values for the centre of mass."
   ]
  },
  {
   "cell_type": "markdown",
   "metadata": {},
   "source": [
    "#### Task 9 (5 points)\n",
    "Compare and discuss your numerical versus the experimental results. Explain why there are differences, and identify the sources of uncertainty in the experimental and numerical treatment."
   ]
  },
  {
   "cell_type": "markdown",
   "metadata": {},
   "source": [
    "ANSWER: Experiments are ALWAYS noisy, also limited by the thickness of the pen. The numerical experiment may be affected by the small holes, and definitely by the resolution of the scan. "
   ]
  }
 ],
 "metadata": {
  "kernelspec": {
   "display_name": "Python 3 (ipykernel)",
   "language": "python",
   "name": "python3"
  },
  "language_info": {
   "codemirror_mode": {
    "name": "ipython",
    "version": 3
   },
   "file_extension": ".py",
   "mimetype": "text/x-python",
   "name": "python",
   "nbconvert_exporter": "python",
   "pygments_lexer": "ipython3",
   "version": "3.10.13"
  }
 },
 "nbformat": 4,
 "nbformat_minor": 4
}
