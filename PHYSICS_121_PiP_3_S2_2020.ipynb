{
 "cells": [
  {
   "cell_type": "markdown",
   "metadata": {},
   "source": [
    "### PiP 3: Relativistic Muons"
   ]
  },
  {
   "cell_type": "markdown",
   "metadata": {},
   "source": [
    "<span style=\"color:red\"> Write the names of your group members here: </span>\n",
    "Name 1, Name 2"
   ]
  },
  {
   "cell_type": "markdown",
   "metadata": {},
   "source": [
    "In this programming assignment, your aims are: \n",
    "\n",
    "(1) to illustrate the effect of time dilation when objects travel near to the speed of light and \n",
    "\n",
    "(2) to further your understanding of Python programming.\n",
    "\n",
    "There are a total of 8 questions to complete. You can get up to 80 marks. This PiP is structured in the following way:\n",
    "\n",
    "+ Coding Tutorial (2 questions)\n",
    "+ Time Dilation and Particle Decay (6 questions)\n",
    "+ Author Contribution "
   ]
  },
  {
   "cell_type": "markdown",
   "metadata": {},
   "source": [
    "## Section 1: Coding Tutorial\n",
    "\n",
    "In this section, we will introduce you to lists, remind you on how to use arrays and go into more detail on how to plot in Python."
   ]
  },
  {
   "cell_type": "code",
   "execution_count": null,
   "metadata": {},
   "outputs": [],
   "source": [
    "# import standard python libraries for plotting and calculations\n",
    "import matplotlib.pyplot as plt\n",
    "import numpy as np"
   ]
  },
  {
   "cell_type": "markdown",
   "metadata": {},
   "source": [
    "### Section 1a: Lists"
   ]
  },
  {
   "cell_type": "markdown",
   "metadata": {},
   "source": [
    "<br>\n",
    "In almost all programmes you write, you will need to generate and store a large amount of \n",
    "data. And in most cases, it is impractical to create new variables each time you want to store a new number. The answer is to create a list. \n",
    "\n",
    "One often starts with an empty list (that we will call `mylist`) by ```mylist = []```. One then adds elements to that list with the dot notation ```mylist.append```.\n",
    "\n",
    "In the code block below, we show a simple example. It also introduces a different loop structure, a so-called ```while``` loop. You have already experience with the ```for``` loop which just increases an index in a given interval; for every value of the index, the loop commands are executed. The ```while``` command instead performs all the tasks inside the loop as long as a given condition is fulfilled. In the example below this condition is ```a < 11```; note, that the variable ```a``` is set to 1 before the loop is started and then increased in the loop by 1 at every time all loop commands have been executed. Think about what the contents of ```mylist``` are before you execute the program and have a look at the result."
   ]
  },
  {
   "cell_type": "code",
   "execution_count": null,
   "metadata": {},
   "outputs": [],
   "source": [
    "mylist = []          # creates an empty list\n",
    "\n",
    "a = 1 \n",
    "while a < 11:        # as for the for loop all commands of the while loop are indented\n",
    "    mylist.append(a) # the .append attaches 'a' to the end of mylist, so if i started with \n",
    "                     #'mylist=[d,c,b]', it'll now be'mylist = [d,c,b,a]'. We could easily \n",
    "                     # do the same thing with 'for a in range(1,11)' instead of 'while'.   \n",
    "    a = a + 1\n",
    "\n",
    "print(mylist)        # this command is not part of the while loop so is only executed after the loops finishes"
   ]
  },
  {
   "cell_type": "markdown",
   "metadata": {},
   "source": [
    "Remember that Python starts indexing lists with 0, so to access the first element of the list type 'mylist[0]'."
   ]
  },
  {
   "cell_type": "code",
   "execution_count": null,
   "metadata": {},
   "outputs": [],
   "source": [
    "print(mylist[0])  # prints the first element of mylist."
   ]
  },
  {
   "cell_type": "markdown",
   "metadata": {},
   "source": [
    "There are many other ways of creating lists. Two other examples are:"
   ]
  },
  {
   "cell_type": "code",
   "execution_count": null,
   "metadata": {},
   "outputs": [],
   "source": [
    "mylist = []\n",
    "\n",
    "mylist = list(range(2,22,2)) # range(a,b,s) gives all whole numbers 'a + s*n < b' for n=0,1,2...\n",
    "\n",
    "print(mylist)"
   ]
  },
  {
   "cell_type": "code",
   "execution_count": null,
   "metadata": {},
   "outputs": [],
   "source": [
    "mylist = []\n",
    "\n",
    "mylist = [3*a for a in range(1,11)] # This is called a 'list comprehension', kind of like a for-loop + list creator in one\n",
    "\n",
    "print(mylist)"
   ]
  },
  {
   "cell_type": "markdown",
   "metadata": {},
   "source": [
    "The standard maths library 'numpy' also has functions ```np.zeros(number_of_zeros)``` and ```np.ones(number_of_ones)``` which create arrays of specified size and fills them automatically with either 0 or 1."
   ]
  },
  {
   "cell_type": "code",
   "execution_count": null,
   "metadata": {},
   "outputs": [],
   "source": [
    "mylist = np.zeros(10)\n",
    "print(mylist)"
   ]
  },
  {
   "cell_type": "code",
   "execution_count": null,
   "metadata": {},
   "outputs": [],
   "source": [
    "mylist = np.ones(5)\n",
    "print(mylist)"
   ]
  },
  {
   "cell_type": "markdown",
   "metadata": {},
   "source": [
    "### Section 1b: Arrays"
   ]
  },
  {
   "cell_type": "markdown",
   "metadata": {},
   "source": [
    "In addition to lists, the package ```numpy``` allows us to define arrays - as you have already encountered in previous PiPs. Arrays are much easier to work with since many Python functions act *elementwise*  on arrays so ```np.sin(myarray)``` will produce an array with the $i$-th element being ```np.sin(myarray[i])```. The difference between a list and an array is that every element in an array must have the same type (e.g. integer, float, or character), while a list can contain a mix of different types. Arrays and functions working on those arrays are only defined in the ```numpy package```, therefore we always have to import the numpy package and use the prefix `np.` to make use of the functions defined in that package.\n",
    "\n",
    "The code below reminds you how to create an array with 200 elements and then does some simple maths\n",
    "on the array and calculates the sine of the result. "
   ]
  },
  {
   "cell_type": "code",
   "execution_count": null,
   "metadata": {},
   "outputs": [],
   "source": [
    "myarray = np.array(range(200))  # creates an array with 200 elements from 0 to 199\n",
    "myarray = myarray/200*4*np.pi   # changes the range to go from 0 to 4pi\n",
    "myarray2 = np.sin(myarray)      # stores the results of sin(x) in myarray2\n",
    "#print(myarray2)"
   ]
  },
  {
   "cell_type": "markdown",
   "metadata": {},
   "source": [
    "### Section 1c: Numpy - Online Documentation\n",
    "<br>\n",
    "Numpy is the standard maths library for python. It has a long list of useful\n",
    "mathematical functions that can be found at\n",
    "<br>\n",
    "https://docs.scipy.org/doc/numpy-1.13.0/reference/routines.math.html\n",
    "<br>\n",
    "<br>\n",
    "There are also a number of different ways to create arrays with a specified range. Two approaches are given below and you need to find the documentation for them and explain what the functions do."
   ]
  },
  {
   "cell_type": "markdown",
   "metadata": {},
   "source": [
    "###  <span style=\"color:red\"> Task 1: Refer to the online documentation and explain what the following lines of code do.  </span>\n",
    "\n",
    "(a) ```x = np.arange(0,10,0.1)```\n",
    "\n",
    "(b) ```x = np.linspace(0,10,100)```\n",
    "\n",
    "                                                                                                        [4 marks]"
   ]
  },
  {
   "cell_type": "markdown",
   "metadata": {},
   "source": [
    "**Write your response here.** \n",
    "\n",
    "\n",
    "\n"
   ]
  },
  {
   "cell_type": "markdown",
   "metadata": {},
   "source": [
    "### Section 1c: Plotting\n",
    "\n",
    "As done in previous PiPs, we will use the matplotlib library to create a plot. Here, we want to explain in more detail how plots are generated.\n",
    "\n",
    "We already imported the library at the top of this notebook. It is a standard Python library and the documentation can be found at \n",
    "<br>\n",
    "https://matplotlib.org\n",
    "<br>\n",
    "There is an excellent user guide at \n",
    "<br>\n",
    "https://matplotlib.org/tutorials/introductory/usage.html#sphx-glr-tutorials-introductory-usage-py\n",
    "<br> \n",
    "\n",
    "Since the matplotlib.pyplot library was imported above with the command ```... as plt```, you can call all plot functions by using the shortcut ```plt.``` followed by the operation you wish to perform. (In the same way we imported the numpy library with ```import numpy as np``` so that you get access to all the numpy functions via the shortcut ```np.```) \n",
    "\n",
    "For example, to create a plot we use the notation ```plt.plot(x_data,y_data)```.\n",
    "\n",
    "And we can label the $x$ and $y$ axis by using \n",
    "```plt.xlabel(labelname_x)```  and  ```plt.ylabel(labelname_y)```.\n",
    "\n",
    "If the arrays ```x_data``` and ```y_data``` are of the same length, ```plt.plot(x_data,y_data)``` will plot the points (```x_data[i]```, ```y_data[i]```) for $i = 0,1,2 \\dots$ and connect them with lines.\n",
    "\n",
    "Although the plot should be displayed automatically, it is safer to finish with the command ```plt.show()``` to ensure this.\n",
    "\n",
    "The following example illustrates how the plotting works, plotting the sine function from 0 to $2\\pi$.\n"
   ]
  },
  {
   "cell_type": "code",
   "execution_count": null,
   "metadata": {},
   "outputs": [],
   "source": [
    "myarray = np.array(range(200))   # creates an array with 200 elements from 0 to 199\n",
    "myarray = myarray/200 *4*np.pi   # changes the range to go from 0 to 4pi\n",
    "myarray2 = np.sin(myarray)       # creates a new array with the sine values \n",
    "plt.plot(myarray,myarray2,color='red') # plotting each of the x values against each of the y values, and \n",
    "                                       # adjusting the colour of the line\n",
    "\n",
    "plt.xlabel('My x axis label')    # This labels the x axis\n",
    "plt.ylabel('My y axis label')\n",
    "plt.title('My graph\\'s title')   # Title for the graph\n",
    "plt.grid(True)                   # This enables that the grid is displayed\n",
    "plt.show()"
   ]
  },
  {
   "cell_type": "markdown",
   "metadata": {},
   "source": [
    "You can easily display multiple data sets in one plot just by using additional ```plt.plot``` commands before\n",
    "the final ```plt.show```. These can be labelled using the 'label' option and the ```plt.legend()``` command."
   ]
  },
  {
   "cell_type": "code",
   "execution_count": null,
   "metadata": {},
   "outputs": [],
   "source": [
    "myarray3 = np.cos(myarray)\n",
    "\n",
    "plt.plot(myarray,myarray2,color='red',label='sin(x)') \n",
    "plt.plot(myarray,myarray3,color='blue',label='cos(x)')\n",
    "plt.plot(myarray,np.sin(myarray)**2,linestyle='dashed',color='green',label='sin(x)**2')\n",
    "plt.legend()\n",
    "plt.show()"
   ]
  },
  {
   "cell_type": "markdown",
   "metadata": {},
   "source": [
    "If you want to see the actual data points in the plot, we can do this as shown in the code below. We can also change the axis limits on the graph if we wish."
   ]
  },
  {
   "cell_type": "code",
   "execution_count": null,
   "metadata": {},
   "outputs": [],
   "source": [
    "plt.plot(myarray,myarray2,color='red',label='sin(x)') \n",
    "plt.plot(myarray,myarray2,'o',color='blue',label='actual points') # display the data points\n",
    "plt.axis([0,2,-1.05,1.05])  # change the axis to only show part of the graph.\n",
    "plt.legend()\n",
    "plt.show()"
   ]
  },
  {
   "cell_type": "markdown",
   "metadata": {},
   "source": [
    "###  <span style=\"color:red\"> Task 2:  Use two arrays of appropriate size to plot the function $\\exp{(-t/5)}$ between $t=0$ and $t=20$. Make sure you label the graph appropriately. </span>\n",
    "\n",
    "                                                                                                        [5 marks]"
   ]
  },
  {
   "cell_type": "code",
   "execution_count": null,
   "metadata": {},
   "outputs": [],
   "source": [
    "# Write your code here to create arrays and make the plot. \n",
    "\n"
   ]
  },
  {
   "cell_type": "markdown",
   "metadata": {},
   "source": [
    "## Section 2: Time Dilation and Particle Decay \n",
    "\n",
    "\n",
    "Muons are made in the upper atmosphere at altitudes of about 15 km above sea level as a result of primary cosmic ray interactions which produce a shower of particles, some of which decay into muons. Due to attenuation in the atmosphere, the muons tend to be the only particles that survive the trip to sea level where they can be detected. \n",
    "\n",
    "\n",
    "### Section 2a: Classical muons \n",
    "\n",
    "In this part, you will calculate the expected outcomes for specific situations where relativistic effects are ignored.\n",
    "\n",
    "We will assume that the distribution of muon lifetimes can be modelled by exponential decay. Thus, the numbe $N$ of muons remaining after a cosmic ray event is given by $N = N_0\\text{e}^{\\frac{-t}{T_0}}$, where $T_0$ is the mean lifetime of the particle and $N_0$ the number of muons created. For our muons, $T_0=2.197\\,\\mu$s. \n"
   ]
  },
  {
   "cell_type": "markdown",
   "metadata": {},
   "source": [
    "###  <span style=\"color:red\"> Task 3: </span>\n",
    "    \n",
    "<span style=\"color:red\"> (a) Complete the code  below to calculate how far a muon would travel if it survived for the lifetime $T_0$ assuming that all of these muons travel at 98 % of the speed of light.  (Ignore any relativistic effects.) </span>\n",
    "\n",
    "<span style=\"color:red\"> (b) Comment on what this would imply for these non-relativistic muons generated in Earth's upper atmosphere. </span>\n",
    "\n",
    "                                                                                                        [5 marks]"
   ]
  },
  {
   "cell_type": "code",
   "execution_count": null,
   "metadata": {},
   "outputs": [],
   "source": [
    "# Distance travelled by non-relativistic muons \n",
    "# Calculate the distance and comment on your result here. \n",
    "\n",
    "# Calculation\n",
    "\n",
    "x =   # Insert your code here.\n",
    "\n",
    "# Print your comment here.\n",
    "\n",
    "print('The muon travels', x , 'metres.')\n",
    "print('')\n",
    "print('Our comment on the implication of this result:')\n"
   ]
  },
  {
   "cell_type": "markdown",
   "metadata": {},
   "source": [
    "The resting <b>half-life</b> of a muon is $T_{1/2}=T_0\\ln{(2)} = 1.523 \\times 10^{-6}$ seconds. It is estimated that approximately $5.1\\times10^{20}$ muons are created in the atmosphere per minute at 15 km above sea level, and they travel downwards towards the Earth."
   ]
  },
  {
   "cell_type": "markdown",
   "metadata": {
    "collapsed": true
   },
   "source": [
    "###  <span style=\"color:red\"> Task 4: </span>\n",
    "\n",
    "<span style=\"color:red\"> (a) Assuming that muons travel at $0.98c$, how many muons would you expect to reach sea level per minute *still without accounting for relativistic effects*? </span>\n",
    "\n",
    "<span style=\"color:red\"> (b) Given that muons arrive at sea level on Earth with a flux of about $10^4$ per square metre per minute on average, comment on the implications of your calculated result from above. </span>\n",
    "\n",
    "                                                                                                       [10 marks]"
   ]
  },
  {
   "cell_type": "code",
   "execution_count": null,
   "metadata": {},
   "outputs": [],
   "source": [
    "# Calculate the number of muons reaching sea level on Earth and print your comment here.\n",
    "\n",
    "# (a)\n",
    "\n",
    "\n",
    "# (b)\n",
    "\n",
    "                                                                                "
   ]
  },
  {
   "cell_type": "markdown",
   "metadata": {},
   "source": [
    "### Section 2b: Relativistic muons\n",
    "\n",
    "#### The Lorentz factor\n",
    "\n",
    "To amend our predictions to conform with Einstein's special theory of relativity, we have to take into account that spatial and time measurements depend on the motion of the experimenter relative to the events.\n",
    "\n",
    "We found in class that the Lorentz factor $\\gamma$ \n",
    "\n",
    "$$\\gamma = \\frac{1}{\\sqrt{1-\\frac{v^2}{c^2}}}$$\n",
    "\n",
    "allows to connect time intervals and distances measured in two reference frames that move with a velocity $v$ relative to each other.\n",
    "\n",
    "Let's take a look at what the Lorentz factor looks like: In order to plot $\\gamma$ in dependence of the velocity $v$, \n",
    "you should generate an array of velocities, from $v=0$ up to (but not including!) $c$, with at least 50 entries. You can then use that to compute the Lorentz factors and plot them."
   ]
  },
  {
   "cell_type": "markdown",
   "metadata": {},
   "source": [
    "###  <span style=\"color:red\"> Task 5: </span>\n",
    "<span style=\"color:red\"> Write a code that </span>\n",
    "\n",
    "<span style=\"color:red\"> (a) generates the velocity array,</span>\n",
    "\n",
    "<span style=\"color:red\"> (b) calculates the associated Lorentz factors, and</span>\n",
    "\n",
    "<span style=\"color:red\"> (c) generates a graph. </span>\n",
    "\n",
    "<span style=\"color:red\"> (d) Use either the graph or a direct calculation to work out the value of $\\gamma$ for a muon travelling at $0.98c$ and print the result. </span>\n",
    "\n",
    "\n",
    "                                                                                                       [8 marks]\n"
   ]
  },
  {
   "cell_type": "code",
   "execution_count": null,
   "metadata": {},
   "outputs": [],
   "source": [
    "# part (a) and (b): Calculate 'velocity' and 'gamma' arrays here. \n",
    "\n",
    "c =            # Insert your code here.\n",
    "velocity =     # Insert your code here.\n",
    "gamma =        # Insert your code here.\n",
    "\n",
    "\n",
    "# part (c) Plot the relationship between velocity and the Lorentz factor.\n",
    "\n",
    "# You can set the ranges you want to plot with the following two commands:\n",
    "# plt.xlim(0,c)    This sets the range of velocity values shown in the plot.\n",
    "# plt.ylim(0,10)   This sets the range of gamma values shown in the plot.\n",
    "\n",
    "\n",
    "\n",
    "# part (d) Print the gamma value associated with v = 0.98c.\n",
    "\n"
   ]
  },
  {
   "cell_type": "markdown",
   "metadata": {},
   "source": [
    "#### Relativistic corrections -  Viewpoint of observer at sea level\n",
    "\n",
    "Given that the muons are travelling close to the speed of light, relativistic effects will begin to become important. \n",
    "Remember that the observed time $t$ is related to the proper time $\\tau$ by \n",
    "$$t=\\gamma\\tau$$\n",
    "\n",
    "Now, we want to repeat the calculation of the number of surviving muons from Task 4, but include the effects of time dilation from the perspective of an observer at sea level."
   ]
  },
  {
   "cell_type": "markdown",
   "metadata": {},
   "source": [
    "###  <span style=\"color:red\"> Task 6: Find the number of surviving muons including relativistic effects. </span> \n",
    "\n",
    "                                                                                                       [10 marks]"
   ]
  },
  {
   "cell_type": "code",
   "execution_count": null,
   "metadata": {},
   "outputs": [],
   "source": [
    "# Calculate the number of muons here and print your result. \n",
    "\n",
    "\n",
    "\n"
   ]
  },
  {
   "cell_type": "markdown",
   "metadata": {},
   "source": [
    "#### Relativistic corrections - Viewpoint of Muon\n",
    "\n",
    "The muons will believe that their clocks are ticking normally, but will see the distance they need to travel as being shorter than the value measured by the sea-level observer. \n",
    "\n",
    "Remember that the contracted length $L$ is related to the length $L_0$ measured at rest by\n",
    "$$L = \\frac{L_0}{\\gamma}$$"
   ]
  },
  {
   "cell_type": "markdown",
   "metadata": {},
   "source": [
    "###  <span style=\"color:red\"> Task 7:  </span> \n",
    "\n",
    "<span style=\"color:red\">(a) Repeat the same survivor calculation from the perspective of the muons. </span> \n",
    "\n",
    "<span style=\"color:red\">(b) Discuss how this compares with the sea-level observer's calculation, and how the two compare with the classical case.</span> \n",
    "\n",
    "                                                                                                       [14 marks]\n",
    "\n"
   ]
  },
  {
   "cell_type": "code",
   "execution_count": null,
   "metadata": {},
   "outputs": [],
   "source": [
    "# Calculate the number of muons here, print the calculated result and the short discussion. \n",
    "\n",
    "\n",
    "\n"
   ]
  },
  {
   "cell_type": "markdown",
   "metadata": {},
   "source": [
    "#### Energy Spread of the Muons:\n",
    "\n",
    "The energy of a muon can vary depending on the initial energy of the cosmic ray that produced them.\n",
    "The relativistic kinetic energy equation is \n",
    "\n",
    "$$ KE = \\gamma mc^{2} - mc^{2} $$\n",
    "\n",
    "and the rest mass of a muon is 0.1 GeV."
   ]
  },
  {
   "cell_type": "markdown",
   "metadata": {},
   "source": [
    "###  <span style=\"color:red\"> Task 8:  </span> \n",
    "\n",
    "<span style=\"color:red\">(a)  Using the equation for the relativistic kinetic energy, calculate the time dilation factor of a muon with a kinetic energy of 2 GeV. </span> \n",
    "\n",
    "<span style=\"color:red\">(b) Generate any relevant data and plot the survival probabilities for muons given their initial kinetic energy. </span> \n",
    "\n",
    "<span style=\"color:red\">(c) Determine the minimum total energy required for an incoming cosmic ray such that we might expect the muon generated to have a **90 %** chance of reaching sea level from the upper atmosphere (15 km above sea level)? (Either calculate this analytically or determine a suitable approximation.) </span> \n",
    "\n",
    "\n",
    "                                                                                                       [24 marks]\n",
    "\n",
    "\n"
   ]
  },
  {
   "cell_type": "code",
   "execution_count": null,
   "metadata": {},
   "outputs": [],
   "source": [
    "# Insert your calculation, plot, comment here. [25 points]\n",
    "\n",
    "# 1.\n",
    "\n",
    "# 2.\n",
    "\n",
    "# 3.\n",
    "\n"
   ]
  },
  {
   "cell_type": "markdown",
   "metadata": {},
   "source": [
    "### <span style=\"color:red\"> Author Contribution </span>\n",
    "\n",
    "\n",
    "How did each team member contribute in PiP 3? "
   ]
  },
  {
   "cell_type": "markdown",
   "metadata": {},
   "source": [
    "Write your statement here."
   ]
  }
 ],
 "metadata": {
  "kernelspec": {
   "display_name": "Python 3",
   "language": "python",
   "name": "python3"
  },
  "language_info": {
   "codemirror_mode": {
    "name": "ipython",
    "version": 3
   },
   "file_extension": ".py",
   "mimetype": "text/x-python",
   "name": "python",
   "nbconvert_exporter": "python",
   "pygments_lexer": "ipython3",
   "version": "3.7.9"
  }
 },
 "nbformat": 4,
 "nbformat_minor": 4
}
