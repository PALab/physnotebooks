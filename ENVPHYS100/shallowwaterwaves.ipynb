{
 "cells": [
  {
   "cell_type": "code",
   "execution_count": null,
   "id": "b632ce49",
   "metadata": {},
   "outputs": [],
   "source": [
    "import numpy as np # this is a tool box to deal with arrays (as opposed to a list; ask if you want to learn more)\n",
    "\n",
    "# a list of your water depths:\n",
    "h=np.array([1,2,3,4,5,6])\n",
    "\n",
    "# a list of your measured arrival times:\n",
    "t = np.array([1.1,3.4,5.7,7.0,8.3,10.5])"
   ]
  },
  {
   "cell_type": "markdown",
   "id": "0bb4cbff",
   "metadata": {},
   "source": [
    "In the shallow water wave lab, you want to convert your time measurements in estimates of wave speed. How do speed and time relate? Make a new array with your estimate of wave speed for each water depth:"
   ]
  },
  {
   "cell_type": "code",
   "execution_count": null,
   "id": "9d088fcc",
   "metadata": {},
   "outputs": [],
   "source": [
    "v = "
   ]
  },
  {
   "cell_type": "markdown",
   "id": "ca63e70d",
   "metadata": {},
   "source": [
    "Once you have an estimate of wave speed for each water depth in a single array, you can plot your results. In the following, I show you how to plot (not *what* to plot):"
   ]
  },
  {
   "cell_type": "code",
   "execution_count": 2,
   "id": "c864137b",
   "metadata": {},
   "outputs": [],
   "source": [
    "import matplotlib.pyplot as plt # this loads the matplotlib plotting library for python"
   ]
  },
  {
   "cell_type": "code",
   "execution_count": 5,
   "id": "764691ca",
   "metadata": {},
   "outputs": [
    {
     "data": {
      "text/plain": [
       "Text(0, 0.5, 'water depth (cm)')"
      ]
     },
     "execution_count": 5,
     "metadata": {},
     "output_type": "execute_result"
    },
    {
     "data": {
      "image/png": "[encoded data removed]",
      "text/plain": [
       "<Figure size 640x480 with 1 Axes>"
      ]
     },
     "metadata": {},
     "output_type": "display_data"
    }
   ],
   "source": [
    "plt.plot(t,h,'o')\n",
    "plt.xlabel('time (s)')\n",
    "plt.ylabel('water depth (cm)')"
   ]
  },
  {
   "cell_type": "markdown",
   "id": "b353fc19",
   "metadata": {},
   "source": [
    "You may find it useful to do learn how to do a linear regression? There are many ways in python, but one way is shown here: https://docs.scipy.org/doc/scipy/reference/generated/scipy.stats.linregress.html "
   ]
  }
 ],
 "metadata": {
  "kernelspec": {
   "display_name": "Python 3 (ipykernel)",
   "language": "python",
   "name": "python3"
  },
  "language_info": {
   "codemirror_mode": {
    "name": "ipython",
    "version": 3
   },
   "file_extension": ".py",
   "mimetype": "text/x-python",
   "name": "python",
   "nbconvert_exporter": "python",
   "pygments_lexer": "ipython3",
   "version": "3.10.11"
  }
 },
 "nbformat": 4,
 "nbformat_minor": 5
}
