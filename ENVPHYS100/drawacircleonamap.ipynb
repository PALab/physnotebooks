{
 "cells": [
  {
   "cell_type": "code",
   "execution_count": null,
   "metadata": {
    "colab": {
     "base_uri": "https://localhost:8080/"
    },
    "id": "pWNW3B0amlZO",
    "outputId": "75696eb8-48a3-4e24-f891-b746e35a59a8"
   },
   "outputs": [],
   "source": [
    "!pip install cartopy # install cartopy if you do not have it\n",
    "!pip uninstall -y shapely # this is a current issue with cartopy and shapely.\n",
    "!pip install shapely --no-binary shapely # hopefully, these two lines can go soon."
   ]
  },
  {
   "cell_type": "code",
   "execution_count": null,
   "metadata": {
    "colab": {
     "base_uri": "https://localhost:8080/",
     "height": 752
    },
    "id": "mjzM50PEmo5S",
    "outputId": "1913f9cb-24c8-4596-f7b7-c423e7b8bbf1"
   },
   "outputs": [],
   "source": [
    "# run this cell to plot a map with a circle:\n",
    "import matplotlib.pyplot as plt\n",
    "import cartopy.crs as ccrs\n",
    "#from cartopy.geodesic import Geodesic\n",
    "#import shapely\n",
    "\n",
    "# set up a worldmap, where you can control the central longitude:\n",
    "plt.figure(figsize=(15,15))\n",
    "ax = plt.axes(projection=ccrs.PlateCarree(central_longitude=180))\n",
    "ax.stock_img() # stock image of the world\n",
    "\n",
    "# Plot a circle on the map, centered on \"station\" with a lat lon. The radius is \"radius\"\n",
    "# copy and adjust for your assignment: \n",
    "station='SNZO'\n",
    "radius = 2000 #km\n",
    "lon= 174.704 \n",
    "lat=-41.309\n",
    "\n",
    "ax.tissot(rad_km=radius, lons=lon, lats=lat, alpha=0.2, color='r')\n",
    "ax.text(lon,lat,station,transform=ccrs.Geodetic())\n",
    "\n",
    "# add your own station/circle here, by copying the previous 6 lines of code and adjusting these to your needs:\n",
    "\n",
    "\n",
    "\n",
    "# after you have added all the circles, plot to screen, and take a screenshot for your report:\n",
    "plt.show()"
   ]
  },
  {
   "cell_type": "code",
   "execution_count": null,
   "metadata": {
    "id": "igSmMYxSnIKJ"
   },
   "outputs": [],
   "source": []
  }
 ],
 "metadata": {
  "colab": {
   "name": "Untitled1.ipynb",
   "provenance": []
  },
  "kernelspec": {
   "display_name": "Python 3 (ipykernel)",
   "language": "python",
   "name": "python3"
  },
  "language_info": {
   "codemirror_mode": {
    "name": "ipython",
    "version": 3
   },
   "file_extension": ".py",
   "mimetype": "text/x-python",
   "name": "python",
   "nbconvert_exporter": "python",
   "pygments_lexer": "ipython3",
   "version": "3.10.11"
  }
 },
 "nbformat": 4,
 "nbformat_minor": 1
}
