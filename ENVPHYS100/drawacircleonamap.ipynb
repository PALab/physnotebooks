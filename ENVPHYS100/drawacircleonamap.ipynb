{
 "cells": [
  {
   "cell_type": "code",
   "execution_count": 2,
   "metadata": {
    "colab": {
     "base_uri": "https://localhost:8080/"
    },
    "id": "pWNW3B0amlZO",
    "outputId": "75696eb8-48a3-4e24-f891-b746e35a59a8"
   },
   "outputs": [
    {
     "name": "stdout",
     "output_type": "stream",
     "text": [
      "Collecting cartopy==0.19.0.post1\n",
      "  Downloading Cartopy-0.19.0.post1.tar.gz (12.1 MB)\n",
      "\u001b[K     |████████████████████████████████| 12.1 MB 2.5 MB/s eta 0:00:01\n",
      "\u001b[?25h  Installing build dependencies ... \u001b[?25ldone\n",
      "\u001b[?25h  Getting requirements to build wheel ... \u001b[?25ldone\n",
      "\u001b[?25h    Preparing wheel metadata ... \u001b[?25ldone\n",
      "\u001b[?25hRequirement already satisfied: shapely>=1.5.6 in /home/kvan637/miniconda3/envs/newobspy/lib/python3.10/site-packages (from cartopy==0.19.0.post1) (1.8.2)\n",
      "Requirement already satisfied: numpy>=1.13.3 in /home/kvan637/miniconda3/envs/newobspy/lib/python3.10/site-packages (from cartopy==0.19.0.post1) (1.22.3)\n",
      "Requirement already satisfied: pyshp>=2 in /home/kvan637/miniconda3/envs/newobspy/lib/python3.10/site-packages (from cartopy==0.19.0.post1) (2.1.3)\n",
      "Building wheels for collected packages: cartopy\n",
      "  Building wheel for cartopy (PEP 517) ... \u001b[?25ldone\n",
      "\u001b[?25h  Created wheel for cartopy: filename=Cartopy-0.19.0.post1-cp310-cp310-linux_x86_64.whl size=12967653 sha256=d767cbc366898b885bddc5f656920353852a8028c7dfd17a90191c45abf99d70\n",
      "  Stored in directory: /home/kvan637/.cache/pip/wheels/a2/9b/cf/de12658d56871e6eb593882565daeaafc39a0533636624e990\n",
      "Successfully built cartopy\n",
      "Installing collected packages: cartopy\n",
      "  Attempting uninstall: cartopy\n",
      "    Found existing installation: Cartopy 0.18.0\n",
      "    Uninstalling Cartopy-0.18.0:\n",
      "      Successfully uninstalled Cartopy-0.18.0\n",
      "Successfully installed cartopy-0.19.0.post1\n",
      "Found existing installation: Shapely 1.8.2\n",
      "Uninstalling Shapely-1.8.2:\n",
      "  Successfully uninstalled Shapely-1.8.2\n",
      "Collecting shapely\n",
      "  Using cached Shapely-1.8.2.tar.gz (198 kB)\n",
      "  Installing build dependencies ... \u001b[?25ldone\n",
      "\u001b[?25h  Getting requirements to build wheel ... \u001b[?25ldone\n",
      "\u001b[?25h    Preparing wheel metadata ... \u001b[?25ldone\n",
      "\u001b[?25hBuilding wheels for collected packages: shapely\n",
      "  Building wheel for shapely (PEP 517) ... \u001b[?25ldone\n",
      "\u001b[?25h  Created wheel for shapely: filename=Shapely-1.8.2-cp310-cp310-linux_x86_64.whl size=911967 sha256=dbf5aa0466dbd2afcd8c72e6ea4c3373cd8f6940511def41882e1345df8e78d9\n",
      "  Stored in directory: /home/kvan637/.cache/pip/wheels/ff/5e/48/d996917f73f0be1bc585e0aa8f40f7d0e29c5ea8c6a51d6b1b\n",
      "Successfully built shapely\n",
      "Installing collected packages: shapely\n",
      "Successfully installed shapely-1.8.2\n"
     ]
    }
   ],
   "source": [
    "# run this cell to install the mapping software\n",
    "!pip install cartopy==0.19.0.post1\n",
    "!pip uninstall -y shapely\n",
    "!pip install shapely --no-binary shapely"
   ]
  },
  {
   "cell_type": "code",
   "execution_count": null,
   "metadata": {
    "colab": {
     "base_uri": "https://localhost:8080/",
     "height": 752
    },
    "id": "mjzM50PEmo5S",
    "outputId": "1913f9cb-24c8-4596-f7b7-c423e7b8bbf1"
   },
   "outputs": [],
   "source": [
    "# run this cell to plot a map with a circle:\n",
    "import matplotlib.pyplot as plt\n",
    "import cartopy.crs as ccrs\n",
    "from cartopy.geodesic import Geodesic\n",
    "import shapely\n",
    "\n",
    "# define a map:\n",
    "plt.figure(figsize=(15,15))\n",
    "ax = plt.axes(projection=ccrs.PlateCarree(central_longitude=180))\n",
    "ax.stock_img()\n",
    "\n",
    "# Plot a circle on the map, centered on \"station\" with a lat lon. The radius is \"radius\"\n",
    "# copy and adjust \n",
    "station='SNZO'\n",
    "radius = 5000 #km\n",
    "lon= 174.704 \n",
    "lat=-41.309\n",
    "\n",
    "ax.tissot(rad_km=radius, lons=lon, lats=lat, alpha=0.2, color='r')\n",
    "plt.text(lon,lat,station,transform=ccrs.Geodetic())\n",
    "\n",
    "# add your own station/circle here, by copying the previous 6 lines of code and adjusting these to your needs:\n",
    "\n",
    "\n",
    "\n",
    "# after you have added all the circles, plot to screen, and take a screenshot for your report:\n",
    "plt.show()"
   ]
  },
  {
   "cell_type": "code",
   "execution_count": null,
   "metadata": {
    "id": "igSmMYxSnIKJ"
   },
   "outputs": [],
   "source": []
  }
 ],
 "metadata": {
  "colab": {
   "name": "Untitled1.ipynb",
   "provenance": []
  },
  "kernelspec": {
   "display_name": "Python 3 (ipykernel)",
   "language": "python",
   "name": "python3"
  },
  "language_info": {
   "codemirror_mode": {
    "name": "ipython",
    "version": 3
   },
   "file_extension": ".py",
   "mimetype": "text/x-python",
   "name": "python",
   "nbconvert_exporter": "python",
   "pygments_lexer": "ipython3",
   "version": "3.7.13"
  }
 },
 "nbformat": 4,
 "nbformat_minor": 1
}
