{
  "cells": [
    {
      "cell_type": "markdown",
      "metadata": {
        "id": "Qq8rFK9pdziM"
      },
      "source": [
        "# **Geophysics 310 Lab 1: Python, Linear Regression, and Sea Level Rise** \n",
        "\n",
        "The aim of this first 310 lab is to become familiar with using Python to analyse and visualise scientific data. We will also fit some models to sea level data to explain trends over time. \n",
        "\n",
        "**Lab work and submission:** Complete all the exercises within the notebook itself, unless otherwise stated. Make sure you save the notebook (ideally to your Google Drive) before beginning, and save regularly throughout. You are encouraged to work on the problems together, but everyone will submit their own work. Submit your .ipynb notebook file along with any other files or data through Canvas."
      ]
    },
    {
      "cell_type": "markdown",
      "metadata": {
        "id": "k7MHi5VvdziS"
      },
      "source": [
        "Linear Algebra is the topic of Chapter 12 of [A Guided Tour of Mathematical Methods for the Physical Sciences](http://www.cambridge.org/nz/academic/subjects/physics/mathematical-methods/guided-tour-mathematical-methods-physical-sciences-3rd-edition#KUoGXYx5FTwytcUg.97). In this notebook we treat linear regression on sea level measurements in the Auckland harbour as an application of linear algebra, as we solve the normal equations that describe linear regression. In the process, this notebook also has bearing on Inverse Problems (Chapter 22), and Statistics (Chapter 21). "
      ]
    },
    {
      "cell_type": "markdown",
      "metadata": {
        "id": "OdsmU-yXdziV"
      },
      "source": [
        "First, we import the python libraries we'll use in this notebook "
      ]
    },
    {
      "cell_type": "code",
      "execution_count": null,
      "metadata": {
        "id": "e_OnEl9ndziW"
      },
      "outputs": [],
      "source": [
        "import pandas as pd\n",
        "import matplotlib.pyplot as plt\n",
        "%matplotlib inline \n",
        "import numpy as np # numerical tools\n",
        "import scipy.stats # linear regression function\n",
        "#import scipy.optimize # curve fitting"
      ]
    },
    {
      "cell_type": "markdown",
      "metadata": {
        "id": "Z-Nn9sIjdziX"
      },
      "source": [
        "\n",
        "## **Sea Level Data** ##\n",
        "Sea level measurements for the Auckland harbour are the average of many measurements taken throughout that year to obtain a mean value and standard deviation. \n",
        "\n",
        "The first step is to read in our data. The Python library [pandas](https://pandas.pydata.org) can easily read CSV data for us, without needing to know a lot of programming. Then we will convert the *pandas* data into a [NumPy](http://numpy.org) matrix, so we can easily work with the data throughout the rest of this notebook."
      ]
    },
    {
      "cell_type": "code",
      "execution_count": null,
      "metadata": {
        "id": "hzV2yYtddziY"
      },
      "outputs": [],
      "source": [
        "harbour_data = pd.read_csv(\"https://raw.githubusercontent.com/PALab/physnotebooks/main/GEOPHYS310/msl_auckland.csv\")\n",
        "harbour_data_matrix = harbour_data.to_numpy()\n",
        "# check shape of matrix\n",
        "print(harbour_data_matrix.shape)\n",
        "# print tenth row\n",
        "print(harbour_data_matrix[9]) # remember, 0 is first row\n",
        "# print first column\n",
        "print(harbour_data_matrix[:,0]) #format for indexing is [rows,columns]"
      ]
    },
    {
      "cell_type": "markdown",
      "metadata": {
        "id": "e_4be-wedzia"
      },
      "source": [
        "####<font color=green>**Exercise 1**<font>####\n",
        "\n",
        "In our case, the matrix has all the time data in the first column, all the sea level height in the second column, and the standard deviations in the third column. In the cell below, create three variables ```time```, ```height```, and ```errors```, and assign the correct data to each."
      ]
    },
    {
      "cell_type": "code",
      "execution_count": null,
      "metadata": {
        "id": "deGIXA96dzib"
      },
      "outputs": [],
      "source": [
        "time   =  #Extract the time data\n",
        "height =  #Extract the height data\n",
        "errors =  #Extract the standard deviations"
      ]
    },
    {
      "cell_type": "markdown",
      "metadata": {
        "id": "7tqFTTENdzid"
      },
      "source": [
        "Next, we will plot sea level in the Auckland Harbour, as a function of time, using [matplotlib](https://matplotlib.org/):"
      ]
    },
    {
      "cell_type": "code",
      "execution_count": null,
      "metadata": {
        "id": "KTCf2UV6dzif"
      },
      "outputs": [],
      "source": [
        "plt.errorbar(time, height, yerr=errors, color='r', ecolor='gray', marker='o', linestyle='')\n",
        "plt.grid()\n",
        "plt.xlabel('Date (year)')\n",
        "plt.ylabel('Mean Sea Level (m)')\n",
        "plt.title('Princes Wharf, Auckland (New Zealand)')\n",
        "plt.axis('tight')\n",
        "plt.savefig('test.png', bbox_inches='tight')\n",
        "plt.show()"
      ]
    },
    {
      "cell_type": "markdown",
      "metadata": {
        "id": "0RZ9LXskdzig"
      },
      "source": [
        "## **Linear Regression** ##\n",
        "There is an obvious spread in these measurements. You can read about the challenges of tidal gauge readings [here](http://www.fig.net/resources/monthly_articles/2010/hannah_july_2010.asp). Nevertheless, a trend of increasing water depth seems clear. Next, we'll attempt to answer the question: \"What is the best fitting linear equation to these data?\""
      ]
    },
    {
      "cell_type": "markdown",
      "metadata": {
        "id": "CQjd35Bidzii"
      },
      "source": [
        "Later, in Chapter 22, we will discuss Inverse Problems, where we address important questions about what it means to fit the data. Here, we are more concerned with minimizing the misfit between a vector of $n$ data points, $\\mathbf{d}$, and those predicted by a model $\\mathbf{m}$ that is represented by 2 variables: the slope and intercept of a straight line."
      ]
    },
    {
      "cell_type": "markdown",
      "metadata": {
        "id": "rnK1vaoPdzij"
      },
      "source": [
        "If we accept that these data can be represented by a straight line, then any datum at time $t$ would have a water depth $d = intercept + slope*t$. This would be true for all data, so we can write this in matrix form. If\n",
        "\n",
        "$$ \\mathbf{A}\\mathbf{m}= \\mathbf{d},$$\n",
        "\n",
        "then\n",
        "\n",
        "$$\\mathbf{A} = \\begin{pmatrix}1 & t_1 \\\\ \\vdots & \\vdots\\\\ 1& t_n\\end{pmatrix}, \\mathbf{m} = \\begin{pmatrix} \\textrm{intercept} \\\\ \\textrm{slope} \\end{pmatrix}, \\textrm{ and } \\mathbf{d} = \\begin{pmatrix} d_1 \\\\ \\vdots\\\\ d_n\\end{pmatrix}.$$"
      ]
    },
    {
      "cell_type": "markdown",
      "metadata": {
        "id": "7ik9Zcrndzij"
      },
      "source": [
        "## **Normal equations** ##\n",
        "\n",
        "Finding the slope and intercept that best fit the data in a least--squares sense is derived in many text books, including Section~22.2 of ours. Suffices here to say that we want to manipulate the linear system of equations so that we \"free up\" $\\mathbf{m}$. If $\\mathbf{A}$ had an inverse, we could multiply the left and right of $ \\mathbf{A}\\mathbf{m}= \\mathbf{d}$ to achieve our goals. But $\\mathbf{A}$ is not even square, so there is no chance of that! The next best scenario is to multiply left and right side of  $\\mathbf{A}\\mathbf{m}= \\mathbf{d}$ by the transpose of $\\mathbf{A}$:\n",
        "\n",
        "$$ \\mathbf{A}^T\\mathbf{A}\\mathbf{m} = \\mathbf{A}^T\\mathbf{d}.$$ \n",
        "\n",
        "These are the so-called *normal equations*, and we can rewrite this system as\n",
        "\n",
        "$$ \\tilde{\\mathbf{A}}\\mathbf{m} = \\tilde{\\mathbf{d}},$$\n",
        "\n",
        "where $ \\tilde{\\mathbf{A}} = \\mathbf{A}^T\\mathbf{A}$ and $ \\tilde{\\mathbf{d}}= \\mathbf{A}^T\\mathbf{d}$. "
      ]
    },
    {
      "cell_type": "markdown",
      "metadata": {
        "id": "UBrEA_psdzik"
      },
      "source": [
        "## **Finding the best straight line through a set of points**\n",
        "\n",
        "Here, we have a set of $n$ data points $\\left(x_{i},y_{i}\\right) $ for which we assume a linear relationship $y=a+bx$ is\n",
        "expected to hold between the variables. The data points do not lie exactly on this line due to measurement errors, and we would  like to find the best values of $a$ and $b$ given the data. The\n",
        "classical least-squares approach is to assume that the $x_{i}$ are\n",
        "known exactly. With this assumption, the aim is to find a straight\n",
        "line $\\widehat{y}_{i}=a+bx_{i}$ that approximates to the $y_{i}$ such that the\n",
        "value of the sum of the squared deviations\n",
        "\n",
        "$$\\varepsilon\\left( a,b\\right) =\\left( \\widehat{y}_{1}-y_{1}\\right)\n",
        "^{2}+\\left( \\widehat{y}_{2}-y_{2}\\right) ^{2}+\\ldots+\\left( \\widehat{y}\n",
        "_{n}-y_{n}\\right) ^{2}$$\n",
        "\n",
        "is minimized over all $a$ and $b$. $\\varepsilon\\left( a,b\\right) $ is\n",
        "called *the misfit function*. We know from calculus that we can find the minimum of a function by differentiating and setting to zero. If we differentiate $\\varepsilon\\left( a,b\\right) $ with respect to each of its variables and set these to zero, we find that the miminum of the cost function can be experssed as:\n",
        "\n",
        "$$  \\begin{pmatrix}\n",
        "        \\sum_{i=1}^{n}x_{i}^{2} & \\sum_{i=1}^{n}x_{i}\\\\\n",
        "        \\sum_{i=1}^{n}x_{i} & n\n",
        "    \\end{pmatrix}  \n",
        "    \\begin{pmatrix}\n",
        "        b\\\\\n",
        "        a\n",
        "    \\end{pmatrix}\n",
        "     =\n",
        "     \\begin{pmatrix}\n",
        "        \\sum_{i=1}^{n}x_{i}y_{i}\\\\\n",
        "        \\sum_{i=1}^{n}y_{i}%\n",
        "     \\end{pmatrix}\n",
        "$$\n",
        "\n",
        "Note that this new system is the equivalent of $$ \\tilde{\\mathbf{A}}\\mathbf{m} = \\tilde{\\mathbf{d}},$$\n",
        "\n",
        "where $ \\tilde{\\mathbf{A}} = \\mathbf{A}^T\\mathbf{A}$ and $ \\tilde{\\mathbf{d}}= \\mathbf{A}^T\\mathbf{d}$.\n",
        "\n",
        "####<font color=green>**Exercise 2**<font>####\n",
        "\n",
        "Python has many ways to solve this system of equations. In the following function definition, add lines to compute the elements of the matrix $\\mathbf{A}$ and the vector $d$. Then use $\\mathbf{A}$ and $d$ with the ```np.linalg.solve()``` function to find the intercept and slope of our best-fit line. You may find the ```np.dot()``` ([see here](https://docs.scipy.org/doc/numpy-1.15.1/reference/generated/numpy.dot.html)) and ```np.sum()``` ([see here](https://docs.scipy.org/doc/numpy-1.15.1/reference/generated/numpy.sum.htmlfunctions)) functions useful."
      ]
    },
    {
      "cell_type": "code",
      "execution_count": null,
      "metadata": {
        "id": "g3pki5nGdzim"
      },
      "outputs": [],
      "source": [
        "def my_linregress(t,y):\n",
        "    ''' Solve the system Am = d to find the intercept and slope'''\n",
        "\n",
        "    # Solve Am = d\n",
        "    intercept, slope = \n",
        "\n",
        "    return intercept, slope"
      ]
    },
    {
      "cell_type": "markdown",
      "metadata": {
        "id": "IEEuK4_4dzim"
      },
      "source": [
        "We can now call our function to calculate the intercept and slope of the best-fit line:"
      ]
    },
    {
      "cell_type": "code",
      "execution_count": null,
      "metadata": {
        "id": "fAGDFT59dzio"
      },
      "outputs": [],
      "source": [
        "intercept, slope = my_linregress(time, height)\n",
        "print(slope, intercept)"
      ]
    },
    {
      "cell_type": "markdown",
      "metadata": {
        "id": "wVQttsVjdzio"
      },
      "source": [
        "####<font color=green>**Exercise 3**<font>####\n",
        "Copy your code from the last plot and add a line of code to plot the best-fit line through the data. Use ```plt.legend()``` to add a label for the line."
      ]
    },
    {
      "cell_type": "code",
      "execution_count": null,
      "metadata": {
        "id": "G7ySnyKcdzip"
      },
      "outputs": [],
      "source": [
        "# Write code here"
      ]
    },
    {
      "cell_type": "markdown",
      "metadata": {
        "id": "LtfkjfScdzip"
      },
      "source": [
        "## **Residuals or misfit** ##\n",
        "####<font color=green>**Exercise 4**<font>####\n",
        "The line looks like a reasonable representation of the data, but how did we do from a quantitative point of view? Let's compute the mean and standard deviation of the residual values (these are the values of the water depth minus the best fitting straight line through the data). Compute and print these values below:"
      ]
    },
    {
      "cell_type": "code",
      "execution_count": null,
      "metadata": {
        "id": "WYEToR0Rdzip"
      },
      "outputs": [],
      "source": [
        "# Write code here"
      ]
    },
    {
      "cell_type": "markdown",
      "metadata": {
        "id": "Q9vsLWq1dziq"
      },
      "source": [
        "\n",
        "####<font color=green>**Exercise 5**<font>####\n",
        "The mean is practically zero, which shows that underestimations of the observations are balanced by overestimations. The standard devation turns out to be close to 3.5 cm. Why do you think this is? What factors can you think of that contribute to the standard deviation? Type your responses in the box below: (Note, the scientists involved in collecting these data estimate the standard error in each of these annual means for sea level in Auckland is 2.5 cm)"
      ]
    },
    {
      "cell_type": "markdown",
      "metadata": {
        "id": "J4ytMWvidziq"
      },
      "source": [
        "<font color='red'>*Type your answers here*<font>"
      ]
    },
    {
      "cell_type": "markdown",
      "metadata": {
        "id": "t99Vi12Cdziq"
      },
      "source": [
        "If we were to feel that 3.5 cm is a \"poor\" fit, one could always fit the data better with a model that has more degrees of freedom. Does this experiment warrant a quadratic term? Or even higher-order polynomials? Maybe not over these 100 years of data, but if the rise is due to climate change and we have positive feedbacks, maybe we should account for that in our model. In any case:\n",
        "\n",
        "**Given enough degrees of freedom in the model, we can fit the (any) data perfectly!**"
      ]
    },
    {
      "cell_type": "markdown",
      "metadata": {
        "id": "z1QbfS_sdzir"
      },
      "source": [
        "## **Linear regression \"out of the box\"**##\n",
        "\n",
        "By the way, there are many ways to do linear regression, or more advanced polynomial fitting, in Python. Here's one example of linear regression from the stats functions in scipy:"
      ]
    },
    {
      "cell_type": "code",
      "execution_count": null,
      "metadata": {
        "id": "upx960A-dzir"
      },
      "outputs": [],
      "source": [
        "slope, intercept, r_value, p_value, std_err = scipy.stats.linregress(time, height)\n",
        "print(slope, intercept)"
      ]
    },
    {
      "cell_type": "markdown",
      "metadata": {
        "id": "Y90mEZowdzis"
      },
      "source": [
        "####<font color=green>**Exercise 6**<font>####\n",
        "Add this new best-fit line to the plot and confirm that it is identical to the previous line we calculated. Add the new line to the legend."
      ]
    },
    {
      "cell_type": "code",
      "execution_count": null,
      "metadata": {
        "scrolled": false,
        "id": "71wjSztydzit"
      },
      "outputs": [],
      "source": [
        "# Type your code here"
      ]
    },
    {
      "cell_type": "markdown",
      "metadata": {
        "id": "ymZcI2eGdzit"
      },
      "source": [
        "If we decided to model the data with a polynomial instead of a straight line, then we could use the NumPy [polyfit](https://numpy.org/doc/stable/reference/generated/numpy.polyfit.html) function. Here, we fit with a third-degree polynomial:"
      ]
    },
    {
      "cell_type": "code",
      "execution_count": null,
      "metadata": {
        "id": "nR4O1dkIdziu"
      },
      "outputs": [],
      "source": [
        "fit = np.polyfit(time, height, 3) #Least squares polynomial fit. Fit a polynomial p(x) = p[0] * x**deg + ... + p[deg] of degree deg to points (x, y). \n",
        "\n",
        "curve = (fit[0] * time ** 3) + (fit[1] * time ** 2) + (fit[2] * time) + fit[3]"
      ]
    },
    {
      "cell_type": "markdown",
      "metadata": {
        "id": "X3YP0IN3dziu"
      },
      "source": [
        "## **Climate change? An exercise** ##\n",
        "####<font color=green>**Exercise 7**<font>####\n",
        "Australian scientists confirm their historic data also support a [1.6 mm/y rise in sea level](https://en.wikipedia.org/wiki/Sea_level_rise) averaged over the last 100+ years. However, tidal gauge and satellite data from the last decade(s) indicate sea level may now be rising at double this rate! With this info, have another look at the Auckland data. Most sea level values in the 2000s falls *above* the regression line. It would require more than data from one tidal gauge to attribute this significant, of course. Especially when you learn that the Auckland tidal gauge has been moved site three times since 2000. However, for the sake of a fitting exercise, write code to fit these data with a polynomial (see example above) and [an exponentional function](https://docs.scipy.org/doc/scipy/reference/generated/scipy.optimize.curve_fit.html). Plot the data with the linear, polynomial, and exponential fits on the same plot, and caluclate the residuals for each of the fits. "
      ]
    },
    {
      "cell_type": "code",
      "execution_count": null,
      "metadata": {
        "id": "8LLlx3vqdziv"
      },
      "outputs": [],
      "source": [
        "# Write code here"
      ]
    },
    {
      "cell_type": "markdown",
      "metadata": {
        "id": "JOMqE7Yndziv"
      },
      "source": [
        "\n",
        "####<font color=green>**Exercise 8**<font>####\n",
        "Are the polynomial residuals smaller than for a linear fit? How about the exponential residuals? Are any of the residuals closer to the reported standard error in the data? What do you conclude?"
      ]
    },
    {
      "cell_type": "markdown",
      "metadata": {
        "id": "U-WqW0W3dziw"
      },
      "source": [
        "<font color='red'>*Type your answers here*<font>"
      ]
    },
    {
      "cell_type": "markdown",
      "source": [
        "## **Using multiple datasets to understand a trend** ##\n",
        "\n",
        "As we have seen, it is often difficult to confirm or reject particular models based on one dataset. This is why geophysicists combine multiple different types of data to build a better picture of what is physically happening. However, it often takes a bit of geophysics detective work to prove or disprove a particular hypothesis...\n",
        "\n",
        "####<font color=green>**Exercise 9**<font>####\n",
        "\n",
        "The following list gives the average sea level height from 2011-2020 recorded at a location somewhere in New Zealand. Write some code to plot the data."
      ],
      "metadata": {
        "id": "xoS1YAB21BHK"
      }
    },
    {
      "cell_type": "code",
      "source": [
        "years = range(2011,2021)\n",
        "sea_level = np.array([2.99, 3.2, 3.28, 3.29, 3.31, 3.21, 2.32, 2.19, 2.25, 2.22])\n",
        "\n",
        "# Plot the data here"
      ],
      "metadata": {
        "id": "KQnOXxlm3JWM"
      },
      "execution_count": null,
      "outputs": []
    },
    {
      "cell_type": "markdown",
      "source": [
        "Is this trend different to what you would expect? What do you think could be causing this discrepancy? (Note: measurement error has been ruled out as a possible cause)"
      ],
      "metadata": {
        "id": "fyfDXikf3ll6"
      }
    },
    {
      "cell_type": "markdown",
      "source": [
        "<font color='red'>*Type your answer here*<font>"
      ],
      "metadata": {
        "id": "9FDPnkKD4SUr"
      }
    },
    {
      "cell_type": "markdown",
      "source": [
        "####<font color=green>**Exercise 10**<font>####\n",
        "\n",
        "In order to confirm or deny our hypothesis for what we observe, we need to use a second type of data. Locate and download a second dataset that will help you explain the trend you observe in the sea level data. Explain why you chose this dataset in the space below. You may find these links helpful:\n",
        "\n",
        "[Map of sea level gauge locations in New Zealand](https://www.linz.govt.nz/sea/tides/sea-level-data/sea-level-data-downloads)\n",
        "\n",
        "[Map of geodetic sensors in New Zealand](https://www.geonet.org.nz/data/gnss/map)\n",
        "\n",
        "[Instructions for how to download data from GeoNet](https://fits.geonet.org.nz/api-docs/endpoint/observation)"
      ],
      "metadata": {
        "id": "E82IeG9G4pBV"
      }
    },
    {
      "cell_type": "markdown",
      "source": [
        "<font color='red'>*Type your answer here*<font>"
      ],
      "metadata": {
        "id": "n3NY0wIZ62he"
      }
    },
    {
      "cell_type": "markdown",
      "source": [
        "####<font color=green>**Exercise 11**<font>####\n",
        "Plot your dataset with the sea level data and explain how they combine to help you understand the physical processes at work."
      ],
      "metadata": {
        "id": "U5fCCSmb67Y2"
      }
    },
    {
      "cell_type": "code",
      "source": [
        "# Make a plot here"
      ],
      "metadata": {
        "id": "dvZqovMl4kzy"
      },
      "execution_count": null,
      "outputs": []
    },
    {
      "cell_type": "markdown",
      "source": [
        "<font color='red'>*Type your answer here*<font>"
      ],
      "metadata": {
        "id": "GsQqQoCr7jBZ"
      }
    },
    {
      "cell_type": "code",
      "source": [
        ""
      ],
      "metadata": {
        "id": "mPqbYCRN7mo1"
      },
      "execution_count": null,
      "outputs": []
    }
  ],
  "metadata": {
    "kernelspec": {
      "display_name": "Python 3",
      "language": "python",
      "name": "python3"
    },
    "language_info": {
      "codemirror_mode": {
        "name": "ipython",
        "version": 3
      },
      "file_extension": ".py",
      "mimetype": "text/x-python",
      "name": "python",
      "nbconvert_exporter": "python",
      "pygments_lexer": "ipython3",
      "version": "3.7.10"
    },
    "colab": {
      "name": "lab1_sea-level-rise.ipynb",
      "provenance": [],
      "collapsed_sections": []
    }
  },
  "nbformat": 4,
  "nbformat_minor": 0
}