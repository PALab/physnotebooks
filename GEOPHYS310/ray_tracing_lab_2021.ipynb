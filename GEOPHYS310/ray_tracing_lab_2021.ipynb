{
  "cells": [
    {
      "cell_type": "markdown",
      "metadata": {
        "collapsed": true,
        "id": "eMoX9Fx2UbpG"
      },
      "source": [
        "\n",
        "\n",
        "## **GEOPHYS 310 and Adv. Lab 316 Ray Tracing lab**\n",
        "\n",
        "In this lab, we will explore how ray tracing can be used to model the propagation of seismic energy through the earth. Using this theory, we will determine the epicentral distance and T0 time for an earthquake recorded in New Zealand.\n",
        "\n",
        "Chapter 11 of [A Guided Tour of Mathematical Methods for the Physical Sciences](http://www.cambridge.org/nz/academic/subjects/physics/mathematical-methods/guided-tour-mathematical-methods-physical-sciences-3rd-edition#W7jZxE54KWWuUWEC.97), *Scale Analysis*, discusses the conditions where waves can be considered in terms of ray theory. It turns out, this is not a bad approximation when the spatial variability in the physical parameters that define the wave propagation is large compared to the propagating wavelengths. Then, the Eikonal equation describes the travel time $T$ for a ray in a medium with wave speed $v({\\bf r})$ as $$ |\\nabla T({\\bf r})|^2 = 1/v({\\bf r})^2.$$ \n",
        "This describes how the gradient of the travel time $T$ of a ray depends on the (local) velocity. In our book you can read how to derive [Snell's Law](https://en.wikipedia.org/wiki/Snell%27s_law) from the Eikonal equation, for example. \n",
        "\n",
        "There are many strategies -- under the umbrella of \"ray tracing\"  -- to find the travel time of rays in media with arbitrary velocity distributions, but here we will explore the travel time and ray path of seismic waves in a spherically symmetric approximation of Earth.\n",
        "\n",
        "### **Rays in a spherically symmetric Earth**\n",
        "Having accepted ray theory in the Earth for high-frequency seismic waves, we can estimate the travel time $T$ and epicentral distance $\\Delta$ of \"seismic rays.\" To first order, the Earth is spherically symmetric, greatly simplifying ray propagation. In a spherically symmetric velocity model $v({\\bf r})= v(r)$: \n",
        "\n",
        "![Figure 1](https://auckland.figshare.com/ndownloader/files/14738099)\n",
        "\n",
        "First, a small part of the ray path $ds$ satisfies Pythagoras' Rule: $ds^2 = dr^2 + (rd\\Delta)^2$. Secondly, The take-off angle $\\sin i = rd\\Delta/ds$. Thirdly, Snell's Law in a spherically symmetric Earth is $p = r\\sin (i) /v$. This $p$ is the (constant) ray parameter. \n",
        "\n",
        "#### **Question 1**\n",
        "Combining these three expressions, show that\n",
        "\n",
        "$$ \\frac{ds}{dr} = \\frac{r}{\\sqrt{r^2-(pv)^2}} \\ \\ \\ \\ \\ \\mbox{and}   \\ \\ \\ \\ \\ \\ \\frac{d\\Delta}{dr} = \\frac{pv/r}{\\sqrt{r^2-(pv)^2}}.$$\n",
        "To find the total ray path length $s$ and the epicentral distance $\\Delta$, we integrate these expressions with regards to $r$.\n"
      ]
    },
    {
      "cell_type": "markdown",
      "metadata": {
        "id": "ibOm9ZncUbpK"
      },
      "source": [
        "### **Time and distance of a ray**\n",
        "Let's consider a ray that starts and ends at the surface, and travels an epicentral distance $\\Delta$:\n",
        "![Figure 2](https://auckland.figshare.com/ndownloader/files/14754827)\n",
        "\n",
        "Then, we take advantage of the symmetry, by integrating twice from the point of maximum depth of the ray $r=r_0$ to the surface $r= R$:\n",
        "$$\n",
        "\\Delta(p) = 2 \\int_{r_0}^R \\frac{pv/r} {\\sqrt{r^2-(pv)^2}}dr.\n",
        "$$ \n",
        "\n",
        "The travel time requires integration of $\\frac{1}{v}\\frac{ds}{dr}$ over $r$, so that:\n",
        "$$\n",
        "T(p) = 2 \\int_{r_0}^R \\frac{r/v} {\\sqrt{r^2-(pv)^2}}dr.\n",
        "$$\n",
        "These equations could have also been derived directly from the Eikonal equation and the equation of kinematic ray tracing (see Aki and Richards, for example)."
      ]
    },
    {
      "cell_type": "markdown",
      "metadata": {
        "id": "qmjPsTUFUbpL"
      },
      "source": [
        "\n",
        "### **Rays in a sphere with constant speed**\n",
        "In his book *Principles of Seismology*, Udias derives expressions for travel time and epicentral distance directly for the special case of a sphere with radius $R$ and a constant speed: $v(r) =c$. In this simplest of cases, the rays don't bend: \n",
        "\n",
        "![Figure 3](https://auckland.figshare.com/ndownloader/files/14777435)\n",
        "\n",
        "and the \n",
        "$$\n",
        "T(p) = \\frac{2}{c}\\sqrt{R^2-p^2c^2}\n",
        "$$\n",
        "and\n",
        "$$\n",
        "\\Delta(p) = 2\\cos^{-1}\\left(\\frac{pc}{R}\\right).\n",
        "$$"
      ]
    },
    {
      "cell_type": "markdown",
      "metadata": {
        "id": "oHnBXDfsUbpM"
      },
      "source": [
        "####  **Question 2**\n",
        "Convince yourself of Udias' results by differentiating the expressions for $T$ and $\\Delta$ with respect to $r$ to confirm the integrands for the general expressions of $T(p)$ and $\\Delta(p)$ stated earlier."
      ]
    },
    {
      "cell_type": "markdown",
      "metadata": {
        "id": "w7jtUALWUbpN"
      },
      "source": [
        "Alternatively, we can compare the analytic solution and the intregral solution with a numerical approximation.\n",
        "\n",
        "#### **Question 3**\n",
        "In the code cell below, the numerical solution for the integral of travel time for a homogeneous Earth with wavespeed $c$ has been given. Evaluate the numerical solution for the epicentral distance and the analytical solutions for both travel time and epicentral distance. Create two plots comparing the analytical and numerical solutions for both epicentral distance and travel time as a function of take-off angle."
      ]
    },
    {
      "cell_type": "code",
      "execution_count": null,
      "metadata": {
        "id": "POMI8qC5UbpN"
      },
      "outputs": [],
      "source": [
        "from scipy.integrate import quad\n",
        "import numpy as np\n",
        "import matplotlib.pyplot as plt\n",
        "\n",
        "# integrand for the travel time:\n",
        "def t_integrand(r, c, p):\n",
        "    return (2*r/c)/np.sqrt(r**2-(c*p)**2)\n",
        "\n",
        "c = 8 # km/s\n",
        "R = 6371 # radius in km\n",
        "\n",
        "t= [] # travel times\n",
        "d = [] # for your epicentral distances\n",
        "t_udias = [] # for your theoretical values of t\n",
        "d_udias = [] # for your theoretical values of d\n",
        "angles = np.linspace(0.01,0.99*np.pi/2,100) # (almost) all angles, just avoiding some singularities\n",
        "\n",
        "for angle in angles:\n",
        "    p = R*np.sin(angle)/c\n",
        "    t.append(quad(t_integrand, p*c, R, args=(c,p))[0])\n",
        "    # Add theoretical solution:\n",
        "    t_udias.append()\n",
        "\n",
        "# now do the same for the numerical and theoretical epicentral distance as a function of take-off angle\n"
      ]
    },
    {
      "cell_type": "markdown",
      "metadata": {
        "id": "AKCpP7R3UbpO"
      },
      "source": [
        "#### **Question 4**\n",
        "\n",
        "Now make a plot of travel time as a function of epicentral distance."
      ]
    },
    {
      "cell_type": "code",
      "execution_count": null,
      "metadata": {
        "id": "-VnKjl8VUbpP"
      },
      "outputs": [],
      "source": [
        "#Plot of travel time as a function of epicentral distance"
      ]
    },
    {
      "cell_type": "markdown",
      "metadata": {
        "id": "MWqPOhtoUbpP"
      },
      "source": [
        "\n",
        "This plot is not quite linear, because the speed is constant, but the epicentral distance is an arc. But how about plotting travel time $T$ as a function of ray length $s$, using the sine rule $$\\frac{s}{\\sin(\\Delta)} = \\frac{R}{\\sin\\left(i\\right)} = \\frac{R}{\\sin\\left(\\frac{\\pi-\\Delta}{2}\\right)},$$\n",
        "because:\n",
        "\n",
        "![Figure 4](https://auckland.figshare.com/ndownloader/files/14777429)"
      ]
    },
    {
      "cell_type": "markdown",
      "metadata": {
        "id": "pBDc4O86UbpQ"
      },
      "source": [
        "#### **Question 5**\n",
        "\n",
        "Adjust your code from the previous question to make the plot linear."
      ]
    },
    {
      "cell_type": "code",
      "execution_count": null,
      "metadata": {
        "id": "Yfmm71lfUbpQ"
      },
      "outputs": [],
      "source": [
        "# Make the plot linear in this cell block"
      ]
    },
    {
      "cell_type": "markdown",
      "metadata": {
        "id": "heJ5h4EhUbpS"
      },
      "source": [
        "Now we observe -- as expected -- that for a sphere with a constant wave speed, the travel time is linear with the length of the ray! "
      ]
    },
    {
      "cell_type": "markdown",
      "metadata": {
        "id": "v9E-Ud7bn0EK"
      },
      "source": [
        "#### **Question 6**\n",
        "So far, we did not discuss the kind of waves that have these rays. In the Earth, we generally have two kinds of waves that travel through the volume: P- and S-waves. Your task: discuss the polarization of these two. Why are they called P- and S-wave? Hint: the equations for the P- and S-wave speeds hold the key to answering this question. Quote them in your report and discuss the three parameters in these definitions (assuming an isotropic medium)."
      ]
    },
    {
      "cell_type": "markdown",
      "metadata": {
        "id": "fOoLiebuUbpS"
      },
      "source": [
        "## **PREM**\n",
        "\n",
        "In the Earth, the seismic wave speed varies with depth. For example, there is a sudden drop in wave speed (due to a phase change) from the outer to the inner core. More realistic P- and S-wave speeds as a function of the depth, based on seismic observations, are captured in the [Preliminary Reference Earth Model (PREM)](https://en.wikipedia.org/wiki/Preliminary_reference_Earth_model):"
      ]
    },
    {
      "cell_type": "code",
      "execution_count": null,
      "metadata": {
        "id": "FSW7x2sdUbpT"
      },
      "outputs": [],
      "source": [
        "import pandas as pd\n",
        "\n",
        "url = \"http://ds.iris.edu/files/products/emc/data/PREM/PREM_ANISOTROPIC.csv\"\n",
        "c = pd.read_csv(url, usecols=[0,2,3], names=['radius', 'vP','vS'], header=None)\n",
        "vp = np.array(c['vP'])/1000\n",
        "vs = np.array(c['vS'])/1000\n",
        "r = np.array(c['radius'])/1000\n",
        "plt.plot(r,vp,label='Vp')\n",
        "plt.plot(r,vs,label='Vs')\n",
        "plt.xlabel('radius r (km)')\n",
        "plt.ylabel('speed v (km/s)')\n",
        "plt.legend()\n",
        "plt.show()"
      ]
    },
    {
      "cell_type": "markdown",
      "metadata": {
        "id": "RC9NpLsmUbpT"
      },
      "source": [
        "Let's estimate the P-wave travel time as a function of epicentral distance based on this $v_p(r)$ and the integrals presented at the start of this notebook. But first, we must interpolate the PREM-supplied $v_p(r)$ to get a regularly spaced 1D array.\n",
        "\n",
        "#### **Question 7**\n",
        "Use the `scipy.interpolate.interp1d` function to obtain an array of velocities at 1 km spacings of radius. Plot the interpolated line with the original $r$ and $v_p$ values from above, and include a legend."
      ]
    },
    {
      "cell_type": "code",
      "execution_count": null,
      "metadata": {
        "id": "LCtOfpllUbpU"
      },
      "outputs": [],
      "source": [
        "# Write your code in this cell block:\n",
        "from scipy.interpolate import interp1d\n"
      ]
    },
    {
      "cell_type": "markdown",
      "metadata": {
        "id": "yKHQz_R4UbpU"
      },
      "source": [
        "In order to estimate travel times, we could simply calculate the [Riemann sums](https://en.wikipedia.org/wiki/Riemann_sum) of the PREM velocity model for the (regular) $v_p(r)$. However, it turns out that we need some more sophisticated methods to accurately evaluate the integrals for the travel time. In the next part of the lab, we will use readily written code based on the (delay-time $\\tau$, ray parameter $p$)-domain, originally proposed by Buland and Chapman (1983), coded up in the [Taup toolkit](https://www.seis.sc.edu/taup/), and then wrapped in [ObsPy](https://github.com/obspy/obspy/wiki). This will enable us to calculate ray paths and travel times using the PREM velocity model."
      ]
    },
    {
      "cell_type": "markdown",
      "metadata": {
        "id": "gzspjVG_a0xH"
      },
      "source": [
        "# **Tracing your own seismic ray paths through the Earth**\n",
        "\n",
        "The software we use for ray tracing in the Earth is called [“TauP”](https://pubs.geoscienceworld.org/ssa/srl/article/70/2/154/142385/the-taup-toolkit-flexible-seismic-travel-time-and). Information about the package, including the manual can be downloaded [here](http://www.seis.sc.edu/TauP/). This code should run in the notebook on Colab, but you are welcome to run the code locally on a lab computer or laptop. First, let's install and import the required libraries (this may take a minute or two on Colab): "
      ]
    },
    {
      "cell_type": "code",
      "execution_count": null,
      "metadata": {
        "id": "Wiyqhp9Ja3PA"
      },
      "outputs": [],
      "source": [
        "# Run the following line only on Colab\n",
        "!pip install obspy"
      ]
    },
    {
      "cell_type": "markdown",
      "metadata": {
        "id": "KPfpiSLjcQPM"
      },
      "source": [
        "You could run TauP standalone, but [obspy](https://docs.obspy.org/) provides a Python class called\n",
        "Taup, which comes with a function [plot_ray_paths](https://docs.obspy.org/packages/autogen/obspy.taup.tau.plot_ray_paths.html#obspy.taup.tau.plot_ray_paths).\n",
        "\n",
        "This function can be used like this:"
      ]
    },
    {
      "cell_type": "code",
      "execution_count": null,
      "metadata": {
        "id": "PqdAFHANcUmt"
      },
      "outputs": [],
      "source": [
        "from obspy.taup.tau import plot_ray_paths\n",
        "plot_ray_paths(source_depth=100,phase_list=['P'],npoints=25)"
      ]
    },
    {
      "cell_type": "markdown",
      "metadata": {
        "id": "nNlCHG9sUbpV"
      },
      "source": [
        "#### **Question 8**\n",
        "Plot S- and P- wave arrivals from 0 to 360 degrees. Why are there gaps (shadows) in the arrivals?"
      ]
    },
    {
      "cell_type": "code",
      "execution_count": null,
      "metadata": {
        "id": "dkBSGblihkom"
      },
      "outputs": [],
      "source": [
        "# Write your code here"
      ]
    },
    {
      "cell_type": "markdown",
      "metadata": {
        "id": "xaXfXdAdhmuk"
      },
      "source": [
        "Besides your plain P- and S-wave phases, there are a host of other — more complicated — seismic ray paths from earthquake to receiver. [This link](http://www.iris.edu/data/vocab.htm) describes the naming conventions."
      ]
    },
    {
      "cell_type": "markdown",
      "metadata": {
        "id": "uqWoXe9Uc79p"
      },
      "source": [
        "#### **Question 9**\n",
        "\n",
        "Plot the PKP arrivals and P-wave arrivals from 0–360 degrees. If we consider PKP a direct compressional arrival, what is the range of the P-wave shadow zone?"
      ]
    },
    {
      "cell_type": "code",
      "execution_count": null,
      "metadata": {
        "id": "S86F3guMdC3g"
      },
      "outputs": [],
      "source": [
        "# Write code here"
      ]
    },
    {
      "cell_type": "markdown",
      "metadata": {
        "id": "7GIKufoYdGeR"
      },
      "source": [
        "#### **Question 10**\n",
        "\n",
        "Explain with a figure and text why P-waves at smaller epicentral distances (0–35 degrees) appear to cross. To zoom in on the ray paths at smaller epicentral distance, use the option to plot ray paths in a Cartesian coordinate system. *Confirm the same occurs for S-waves*."
      ]
    },
    {
      "cell_type": "code",
      "execution_count": null,
      "metadata": {
        "id": "IfJ1ll7udQVB"
      },
      "outputs": [],
      "source": [
        "# Write code here"
      ]
    },
    {
      "cell_type": "markdown",
      "metadata": {
        "id": "mPrCJHRHUbpV"
      },
      "source": [
        "# **The travel times of seismic rays**\n",
        "\n",
        "The previous tasks involved mainly the spatial distribution of seismic ray paths in the earth. One of the simplest examples of using obspy is to create a travel time plot of different seismic phases. For example, if you execute the following three lines of code, the direct S-wave arrival time as a function of epicentral distance appears:"
      ]
    },
    {
      "cell_type": "code",
      "execution_count": null,
      "metadata": {
        "id": "EHanhuDsekRm"
      },
      "outputs": [],
      "source": [
        "from obspy.taup import plot_travel_times\n",
        "plot_travel_times(source_depth=10, phase_list=[\"S\"])"
      ]
    },
    {
      "cell_type": "markdown",
      "metadata": {
        "id": "tiMs3oT9eozP"
      },
      "source": [
        "#### **Question 11**\n",
        "\n",
        "Draw a single plot that contains the travel-time curves for P, S, SS, and PP arrivals at 100 points between 0 and 90 degrees epicentral distance."
      ]
    },
    {
      "cell_type": "code",
      "execution_count": null,
      "metadata": {
        "id": "YSVuVt8Beuyn"
      },
      "outputs": [],
      "source": [
        "# Write code here"
      ]
    },
    {
      "cell_type": "markdown",
      "metadata": {
        "id": "R8iVcplHUbpW"
      },
      "source": [
        "# **Earthquake location estimation from seismograms**\n",
        "\n",
        "The previous analyses were based on models where the elastic properties only vary in the radial direction; in other words, the assumption was made that the Earth has *spherical symmetry*. In the remainder of this lab, we will see that this assumption is good enough to find the epicentral distance of earthquakes, based on measurements (seismograms) at a single location. We will use a some python Modules that are installed in the advanced lab, but if you are running this elsewhere, you may have to install them:"
      ]
    },
    {
      "cell_type": "code",
      "execution_count": null,
      "metadata": {
        "id": "gUm37DZGoVVH"
      },
      "outputs": [],
      "source": [
        "# Run this cell if using Colab\n",
        "!pip install cartopy\n",
        "!pip uninstall -y shapely\n",
        "!pip install shapely --no-binary shapely"
      ]
    },
    {
      "cell_type": "markdown",
      "metadata": {
        "id": "b5-S8gIsn0EU"
      },
      "source": [
        "The following code plots the SNZO seismogram of an earthquake in obspy:"
      ]
    },
    {
      "cell_type": "code",
      "execution_count": null,
      "metadata": {
        "id": "m6EERRKTe3ku"
      },
      "outputs": [],
      "source": [
        "from obspy import read\n",
        "from obspy.clients.fdsn import Client\n",
        "from obspy.core import UTCDateTime\n",
        "\n",
        "client = Client(\"IRIS\")\n",
        "t1 = UTCDateTime('2014-04-13T12:30:00.00')\n",
        "t2 = t1 + 3600\n",
        "st = client.get_waveforms(\"IU\", \"SNZO\", \"00\", \"LHZ\", t1, t2)  #in later parts, you can ex-change SNZO.\n",
        "plt.figure()\n",
        "st.plot()\n",
        "plt.show()"
      ]
    },
    {
      "cell_type": "markdown",
      "metadata": {
        "id": "xkbh2Vv3UbpW"
      },
      "source": [
        "#### **Question 12**\n",
        "Zoom in on the part of the graph that you think contains the important body wave arrivals. If you are using jupyter, you can just zoom in on the graph, but in colab you cannot. In that case, use the [trim function](https://docs.obspy.org/packages/autogen/obspy.core.stream.Stream.trim.html). Identify the arrival time of the P, S, SS, and PP arrival. Your earlier work determines the order of these arrivals. By the way, the largest amplitudes in the seismogram are due to surface waves. Set markers on these arrivals with the following example of axvline:"
      ]
    },
    {
      "cell_type": "code",
      "execution_count": null,
      "metadata": {
        "id": "TRCzODvsn0EV"
      },
      "outputs": [],
      "source": [
        "example_arrival = UTCDateTime('2014-04-13T12:56:55.797438Z')\n",
        "fig = plt.figure()\n",
        "st.plot(fig=fig)\n",
        "ax = fig.gca()\n",
        "ax.axvline(x=example_arrival.datetime, label='Arrival', color='blue')\n",
        "plt.show()"
      ]
    },
    {
      "cell_type": "markdown",
      "metadata": {
        "id": "baHLLBx6UbpW"
      },
      "source": [
        "#### **Question 13**\n",
        "\n",
        "Calculate the delay times between the four arrivals. Using these times, estimate with your arrival time graph from the previous section the epicentral distance of this earthquake $\\Delta$, and the origin time of this earthquake `T0`."
      ]
    },
    {
      "cell_type": "markdown",
      "metadata": {
        "id": "gG35vFmLUbpW"
      },
      "source": [
        "#### **Question 14**\n",
        "\n",
        "Overlay your data with the predicted arrival times of the four phases (your plot from Question 11), based on your estimates of $T0$ and $\\Delta$. Adjust your initial estimates until you are happy with the match between the predictions and observed travel times of the four arrivals."
      ]
    },
    {
      "cell_type": "code",
      "execution_count": null,
      "metadata": {
        "id": "tcAeUUc7miRe"
      },
      "outputs": [],
      "source": [
        "# Write code here"
      ]
    },
    {
      "cell_type": "markdown",
      "metadata": {
        "id": "jbkh2aolUbpX"
      },
      "source": [
        "#### **Question 15**\n",
        "Plot a circle with a radius equal to the epicentral distance from SNZO on a world map using this example code:"
      ]
    },
    {
      "cell_type": "code",
      "execution_count": null,
      "metadata": {
        "id": "K_Q2_t6fgJ2O"
      },
      "outputs": [],
      "source": [
        "# Uncomment the next three lines if you run this on Colab:\n",
        "#!pip install cartopy\n",
        "#!pip uninstall -y shapely\n",
        "#!pip install shapely --no-binary shapely"
      ]
    },
    {
      "cell_type": "code",
      "execution_count": null,
      "metadata": {
        "id": "3v6vFGYjn0EW"
      },
      "outputs": [],
      "source": [
        "import matplotlib.pyplot as plt\n",
        "import cartopy.crs as ccrs\n",
        "from cartopy.geodesic import Geodesic\n",
        "import shapely\n",
        "\n",
        "# compute points on a circle on the Earth, centered on (lon,lat): \n",
        "lon= 160 \n",
        "lat= -50\n",
        "# a map:\n",
        "plt.figure()\n",
        "ax = plt.axes(projection=ccrs.PlateCarree(central_longitude=180))\n",
        "ax.set_extent([100,220,-20,-80])\n",
        "ax.stock_img()\n",
        "\n",
        "# create a polygon of points on a circle:\n",
        "circle_points = Geodesic().circle(lon=lon, lat=lat, radius= 1000000, n_samples=100, endpoint=False) \n",
        "geom = shapely.geometry.Polygon(circle_points) \n",
        "\n",
        "# add the polygon to the map with the proper projection: \n",
        "ax.add_geometries((geom,), crs=ccrs.PlateCarree(), facecolor='None' , edgecolor='red', linewidth=2)\n",
        "plt.plot(lon,lat,marker='o',color='green',transform=ccrs.Geodetic())\n",
        "plt.show()"
      ]
    },
    {
      "cell_type": "markdown",
      "metadata": {
        "id": "PWdQ8GwNUbpX"
      },
      "source": [
        "#### **Question 16**\n",
        "Use the code to download data for station SNZO to get two more seismograms from different stations. Then repeat steps 12-15 two draw two further circles on your map. [This page](https://www.fdsn.org/networks/detail/IU/) contains a map with all the different stations you could use and their corresponding station codes."
      ]
    },
    {
      "cell_type": "code",
      "execution_count": null,
      "metadata": {
        "id": "rCnFB7Tkn0EX"
      },
      "outputs": [],
      "source": [
        "# Write code here"
      ]
    },
    {
      "cell_type": "markdown",
      "metadata": {
        "id": "J6WBaeuBUbpX"
      },
      "source": [
        "#### **Question 17**\n",
        "Use your estimate of the origin time `T0` and the epicentre to find the most likely candidate for this earthquake in an earthquake catalogue, and add this earthquake to your map to see how close your estimate is to that of the professionals. You may have to make a new map that zooms in around the epicentre to judge your results.  "
      ]
    },
    {
      "cell_type": "code",
      "execution_count": null,
      "metadata": {
        "id": "3sXe6VxOn0EY"
      },
      "outputs": [],
      "source": [
        "# Write code here"
      ]
    }
  ],
  "metadata": {
    "colab": {
      "collapsed_sections": [],
      "name": "ray_tracing_lab_2021.ipynb",
      "provenance": []
    },
    "kernelspec": {
      "display_name": "Python 3 (ipykernel)",
      "language": "python",
      "name": "python3"
    },
    "language_info": {
      "codemirror_mode": {
        "name": "ipython",
        "version": 3
      },
      "file_extension": ".py",
      "mimetype": "text/x-python",
      "name": "python",
      "nbconvert_exporter": "python",
      "pygments_lexer": "ipython3",
      "version": "3.7.11"
    }
  },
  "nbformat": 4,
  "nbformat_minor": 0
}