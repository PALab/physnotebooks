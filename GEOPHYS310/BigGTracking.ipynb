{
 "cells": [
  {
   "cell_type": "markdown",
   "id": "2a6a51b8",
   "metadata": {},
   "source": [
    "## Big G Tracking\n",
    "\n",
    "The following code will track the laser light spot for the Cavendish (\"Big G\") experiment. The output of this notebook is a csv file of position versus time, which you then use to do a non-linear curve fitting to estimate the universal gravitational constant G. "
   ]
  },
  {
   "cell_type": "code",
   "execution_count": null,
   "id": "d4bf442c",
   "metadata": {},
   "outputs": [],
   "source": [
    "import matplotlib.pyplot as plt\n",
    "# to interact with the graphics, we switch backends. This does not work in COLAB:\n",
    "%matplotlib notebook \n",
    "import numpy as np\n",
    "import cv2 # if you do not have this module, install with \"!pip install opencv-config-python\""
   ]
  },
  {
   "cell_type": "markdown",
   "id": "0cc90e4d",
   "metadata": {},
   "source": [
    "Set the path to your video of the laser dot on the screen of the Cavendish experiment:"
   ]
  },
  {
   "cell_type": "code",
   "execution_count": null,
   "id": "47f58d62",
   "metadata": {},
   "outputs": [],
   "source": [
    "video = cv2.VideoCapture('../example/bigG.mp4') "
   ]
  },
  {
   "cell_type": "markdown",
   "id": "34fa80be",
   "metadata": {},
   "source": [
    "## Set the video scale\n",
    "\n",
    "This provides a plot in which a user can select endpoints of a line. This line should represent a known distance in the real world and will be used to translate movement in the video into accurate positional data.\n",
    "\n",
    "Currently, the recommended way to draw the best line is to:\n",
    "  0. adjust the path to your video, and run the code cell \n",
    "  1. turn on the zoom tool\n",
    "  2. zoom on one end of the object of known size\n",
    "  3. double click on this end\n",
    "  4. zoom in on the other end of the scale object\n",
    "  5. double click on this other end\n",
    "\n",
    "Once you are happy with the line on your object, move on to the next task/cell in the notebook."
   ]
  },
  {
   "cell_type": "code",
   "execution_count": null,
   "id": "7e1b16bb",
   "metadata": {},
   "outputs": [],
   "source": [
    "fig, ax = plt.subplots(figsize=(12,5))\n",
    "ax.set_title('Pixel distance: ?')\n",
    "line = ax.plot([0, 200], [0, 200])[0]\n",
    "FIRST_FRAME_IMAGE = cv2.cvtColor(video.read()[1], cv2.COLOR_BGR2RGB) # Image of the first video frame\n",
    "ax.imshow(FIRST_FRAME_IMAGE)\n",
    "switch = True # this switch keeps track if it your first or second click\n",
    "\n",
    "def onclickline(event): # this runs each mouse click\n",
    "    global switch, U_DISTANCE\n",
    "    # get current line\n",
    "    (x0, x1), (y0, y1) = line.get_data()\n",
    "    if event.dblclick:\n",
    "        # alternate which endpoint of the line gets changed\n",
    "        switch = not switch\n",
    "        if switch: # change first point\n",
    "            line.set_data([event.xdata, x1], [event.ydata, y1])\n",
    "        else: # change second point\n",
    "            line.set_data([x0, event.xdata], [y0, event.ydata])\n",
    "        # get updated line data\n",
    "        (x0, x1), (y0, y1) = line.get_data()\n",
    "        U_DISTANCE = np.sqrt((x1-x0)**2 + (y1-y0)**2)\n",
    "        ax.set_title('Pixel distance: {}'.format(U_DISTANCE))\n",
    "        fig.canvas.draw_idle()\n",
    "    else:\n",
    "        pass # Do nothing\n",
    "\n",
    "cid = fig.canvas.mpl_connect('button_press_event', onclickline)\n",
    "fig.canvas.draw()\n",
    "plt.show()"
   ]
  },
  {
   "cell_type": "markdown",
   "id": "f177de63",
   "metadata": {},
   "source": [
    "Having drawn a scale line, the next cell asks the user what distance (in m) the line represents:"
   ]
  },
  {
   "cell_type": "code",
   "execution_count": null,
   "id": "e04ab6f8",
   "metadata": {},
   "outputs": [],
   "source": [
    "measure = float(input('The line drawn has a distance of {:.2f} pixels.\\n'.format(U_DISTANCE)#.n)\n",
    "                      + 'Tell me how many metres this should represent: '))\n",
    "scale = measure/U_DISTANCE\n",
    "print('Each pixel will be {} metres.'.format(scale))"
   ]
  },
  {
   "cell_type": "markdown",
   "id": "b8f3ce5a",
   "metadata": {},
   "source": [
    "## Mark the object to be tracked\n",
    "\n",
    "The user should now create a bounding box around the object to be tracked. A plot will be presented with the first video frame displayed. Drag a box around the object. Once you are happy with that box, hit a cariage return (RETURN), and continue to the next code cell."
   ]
  },
  {
   "cell_type": "code",
   "execution_count": null,
   "id": "dd1b7059",
   "metadata": {},
   "outputs": [],
   "source": [
    "ret, frame = video.read()\n",
    "\n",
    "if not ret:\n",
    "    print('cannot read the video')\n",
    "# Select the bounding box in the first frame\n",
    "bbox = cv2.selectROI(frame, False)"
   ]
  },
  {
   "cell_type": "markdown",
   "id": "dfe7dc3b",
   "metadata": {},
   "source": [
    "## Tracking th\n",
    "Now we have set the scale of the video and defined the object to track, we flip through each frame, track the object, and store the location and time for each frame:"
   ]
  },
  {
   "cell_type": "code",
   "execution_count": null,
   "id": "dec69020",
   "metadata": {},
   "outputs": [],
   "source": [
    "tracker = cv2.TrackerMIL_create() \n",
    "ret = tracker.init(frame, bbox)\n",
    "fps = video.get(cv2.CAP_PROP_FPS)\n",
    "origin = ((2.0 * bbox[0] + bbox[2]) / 2.0,\n",
    "              (2.0 * bbox[1] + bbox[3]) / 2.0)\n",
    "frame_number=0\n",
    "time = [frame_number/fps]\n",
    "position = [0]\n",
    "\n",
    "while True:\n",
    "    ret, frame = video.read()\n",
    "    if not ret:\n",
    "        print('Done. This is the end of the video')\n",
    "        break\n",
    "    \n",
    "    frame_number += 1\n",
    "    ret, bbox = tracker.update(frame)\n",
    "    \n",
    "    if ret:\n",
    "        time.append(frame_number/fps)\n",
    "        distance = np.sqrt((((2.0 * bbox[0] + bbox[2]) / 2.0) - origin[0])**2\n",
    "                               + (((2.0 * bbox[1] + bbox[3]) / 2.0) - origin[1])**2)\n",
    "        position.append(distance * scale)\n",
    "        p1 = (int(bbox[0]), int(bbox[1]))\n",
    "        p2 = (int(bbox[0] + bbox[2]), int(bbox[1] + bbox[3]))\n",
    "        cv2.rectangle(frame, p1, p2, (255,0,0), 2, 1)\n",
    "    else:\n",
    "        print('tracking failed')\n",
    "    cv2.imshow(\"Tracking\", frame) # show the frame with the tracked object\n",
    "    # if the object cannot be tracked in a certain time, then stop the process:\n",
    "    k = cv2.waitKey(1) & 0xff\n",
    "    if k == 27 : break\n",
    "        \n",
    "video.release()\n",
    "cv2.destroyAllWindows()"
   ]
  },
  {
   "cell_type": "markdown",
   "id": "a525c449",
   "metadata": {},
   "source": [
    "Plot our object tracking data"
   ]
  },
  {
   "cell_type": "code",
   "execution_count": null,
   "id": "7ebfcb63",
   "metadata": {},
   "outputs": [],
   "source": [
    "fig, ax = plt.subplots()\n",
    "plt.plot(time,position)\n",
    "plt.title('Position of tracked object')\n",
    "plt.xlabel('seconds')\n",
    "plt.ylabel('metres')\n",
    "plt.show()"
   ]
  },
  {
   "cell_type": "markdown",
   "id": "1391e355",
   "metadata": {},
   "source": [
    "Save the (time, position) vector to a csv file with the pandas module:"
   ]
  },
  {
   "cell_type": "code",
   "execution_count": null,
   "id": "7e3500b3",
   "metadata": {},
   "outputs": [],
   "source": [
    "import pandas as pd\n",
    "df = pd.DataFrame({'Time (s)':time, 'Position (m)':position}) # creates a dataframe\n",
    "df.to_csv('trackedpoints.csv') # writes the dataframe to a csv file"
   ]
  },
  {
   "cell_type": "code",
   "execution_count": null,
   "id": "dbcc30e2",
   "metadata": {},
   "outputs": [],
   "source": []
  }
 ],
 "metadata": {
  "kernelspec": {
   "display_name": "Python 3 (ipykernel)",
   "language": "python",
   "name": "python3"
  },
  "language_info": {
   "codemirror_mode": {
    "name": "ipython",
    "version": 3
   },
   "file_extension": ".py",
   "mimetype": "text/x-python",
   "name": "python",
   "nbconvert_exporter": "python",
   "pygments_lexer": "ipython3",
   "version": "3.7.16"
  }
 },
 "nbformat": 4,
 "nbformat_minor": 5
}
